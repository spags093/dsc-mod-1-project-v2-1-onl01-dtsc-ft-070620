{
 "cells": [
  {
   "cell_type": "markdown",
   "metadata": {},
   "source": [
    "## Final Project Submission\n",
    "\n",
    "Please fill out:\n",
    "* Student name: Jeff Spagnola\n",
    "* Student pace: Full Time \n",
    "* Scheduled project review date/time: Monday, August 10th, 2020 - 2:45pm\n",
    "* Instructor name: James Irving\n",
    "* Blog post URL:\n"
   ]
  },
  {
   "attachments": {},
   "cell_type": "markdown",
   "metadata": {},
   "source": [
    "<img src='https://raw.githubusercontent.com/spags093/dsc-mod-1-project-v2-1-onl01-dtsc-ft-070620/master/microsoft%20studios.jpg'>"
   ]
  },
  {
   "cell_type": "markdown",
   "metadata": {
    "heading_collapsed": true
   },
   "source": [
    "# Introduction"
   ]
  },
  {
   "cell_type": "markdown",
   "metadata": {
    "heading_collapsed": true,
    "hidden": true
   },
   "source": [
    "## Overview"
   ]
  },
  {
   "cell_type": "markdown",
   "metadata": {
    "hidden": true
   },
   "source": [
    "Microsoft has recognized that other large tech corporations have found ample success in the film industry by producing their own original content.  The creation of the Microsoft Studios will create an entirely new revenue stream for the company as well as provide many opportunities to synergize with existing Microsoft products.  However, with a high-dollar point of entry and Microsoft's sterling reputation on the line, this can also prove to be a risky venture.  How can we minimize this risk and maximize the return on investment by using a data-driven production system?\n",
    "\n",
    "Over the course of this notebook, we will answer the following questions:\n",
    " - Is there a correlation between a film's budget and it's performance at the box office?\n",
    " - Do films in certain genres perform better at the box office?  If so, which genres?\n",
    " - Is there a correlation between a film's MPAA rating and it's ROI?\n",
    " - Does a film's runtime have any affect on it's worldwide gross?\n"
   ]
  },
  {
   "cell_type": "markdown",
   "metadata": {
    "heading_collapsed": true,
    "hidden": true
   },
   "source": [
    "## Additional Notes"
   ]
  },
  {
   "cell_type": "markdown",
   "metadata": {
    "heading_collapsed": true,
    "hidden": true
   },
   "source": [
    "### Special Thanks"
   ]
  },
  {
   "cell_type": "markdown",
   "metadata": {
    "hidden": true
   },
   "source": [
    "This analysis could not be done without the combined efforts of the P2P Study Group.  The data contained in imdb_money_ratings was scraped with 'test_requests.py' (found in the notebook) which was written by Sam Stoltenberg with the combined computing strength of the group.   "
   ]
  },
  {
   "cell_type": "markdown",
   "metadata": {
    "heading_collapsed": true,
    "hidden": true
   },
   "source": [
    "### List of Functions"
   ]
  },
  {
   "cell_type": "code",
   "execution_count": 1,
   "metadata": {
    "hidden": true
   },
   "outputs": [],
   "source": [
    "# Gets info from the csv\n",
    "\n",
    "def get_info (csv_name):\n",
    "    print(csv_name.shape)\n",
    "    print()\n",
    "    print(csv_name.describe())\n",
    "    print()\n",
    "    print(csv_name.info())\n",
    "    print()\n",
    "    print(csv_name.isna().sum())\n"
   ]
  },
  {
   "cell_type": "markdown",
   "metadata": {
    "heading_collapsed": true
   },
   "source": [
    "# Import and Clean Provided Datasets"
   ]
  },
  {
   "cell_type": "code",
   "execution_count": 2,
   "metadata": {
    "hidden": true
   },
   "outputs": [
    {
     "name": "stdout",
     "output_type": "stream",
     "text": [
      "Requirement already up-to-date: plotly in /Users/spags/opt/anaconda3/envs/learn-env/lib/python3.6/site-packages (4.9.0)\r\n",
      "Requirement already satisfied, skipping upgrade: retrying>=1.3.3 in /Users/spags/opt/anaconda3/envs/learn-env/lib/python3.6/site-packages (from plotly) (1.3.3)\r\n",
      "Requirement already satisfied, skipping upgrade: six in /Users/spags/opt/anaconda3/envs/learn-env/lib/python3.6/site-packages (from plotly) (1.12.0)\r\n"
     ]
    }
   ],
   "source": [
    "!pip install -U plotly"
   ]
  },
  {
   "cell_type": "code",
   "execution_count": 3,
   "metadata": {
    "hidden": true
   },
   "outputs": [
    {
     "name": "stderr",
     "output_type": "stream",
     "text": [
      "/Users/spags/opt/anaconda3/envs/learn-env/lib/python3.6/site-packages/statsmodels/tools/_testing.py:19: FutureWarning: pandas.util.testing is deprecated. Use the functions in the public API at pandas.testing instead.\n",
      "  import pandas.util.testing as tm\n"
     ]
    }
   ],
   "source": [
    "import numpy as np\n",
    "import pandas as pd\n",
    "import matplotlib.pyplot as plt\n",
    "%matplotlib inline\n",
    "import seaborn as sns\n",
    "import random\n",
    "import requests\n",
    "from bs4 import BeautifulSoup\n",
    "import time\n",
    "import plotly.express as px\n",
    "import matplotlib.ticker as mtick\n",
    "from scipy import stats"
   ]
  },
  {
   "cell_type": "code",
   "execution_count": 4,
   "metadata": {
    "hidden": true
   },
   "outputs": [],
   "source": [
    "# Changes floats from scientific notation to more readable numbers. \n",
    "pd.set_option('display.float_format', lambda x: '%.2f' % x)\n",
    "\n",
    "# Set dark background for Seaborn\n",
    "plt.style.use(\"seaborn-darkgrid\")"
   ]
  },
  {
   "cell_type": "markdown",
   "metadata": {
    "heading_collapsed": true,
    "hidden": true
   },
   "source": [
    "### Clean IMDB Title Basics CSV - CLEANED\n",
    "This CSV contains basic information pertaining to films listed on IMDB, including title, genre, year released, and runtime.  Most importantly, it contains the 'tconst' column which is a unique code used by IMDB to organize their films.  This will be useful later in joining the different data sets. "
   ]
  },
  {
   "cell_type": "code",
   "execution_count": 5,
   "metadata": {
    "hidden": true
   },
   "outputs": [
    {
     "data": {
      "text/html": [
       "<div>\n",
       "<style scoped>\n",
       "    .dataframe tbody tr th:only-of-type {\n",
       "        vertical-align: middle;\n",
       "    }\n",
       "\n",
       "    .dataframe tbody tr th {\n",
       "        vertical-align: top;\n",
       "    }\n",
       "\n",
       "    .dataframe thead th {\n",
       "        text-align: right;\n",
       "    }\n",
       "</style>\n",
       "<table border=\"1\" class=\"dataframe\">\n",
       "  <thead>\n",
       "    <tr style=\"text-align: right;\">\n",
       "      <th></th>\n",
       "      <th>tconst</th>\n",
       "      <th>primary_title</th>\n",
       "      <th>original_title</th>\n",
       "      <th>start_year</th>\n",
       "      <th>runtime_minutes</th>\n",
       "      <th>genres</th>\n",
       "    </tr>\n",
       "  </thead>\n",
       "  <tbody>\n",
       "    <tr>\n",
       "      <th>0</th>\n",
       "      <td>tt0063540</td>\n",
       "      <td>Sunghursh</td>\n",
       "      <td>Sunghursh</td>\n",
       "      <td>2013</td>\n",
       "      <td>175.00</td>\n",
       "      <td>Action,Crime,Drama</td>\n",
       "    </tr>\n",
       "    <tr>\n",
       "      <th>1</th>\n",
       "      <td>tt0066787</td>\n",
       "      <td>One Day Before the Rainy Season</td>\n",
       "      <td>Ashad Ka Ek Din</td>\n",
       "      <td>2019</td>\n",
       "      <td>114.00</td>\n",
       "      <td>Biography,Drama</td>\n",
       "    </tr>\n",
       "    <tr>\n",
       "      <th>2</th>\n",
       "      <td>tt0069049</td>\n",
       "      <td>The Other Side of the Wind</td>\n",
       "      <td>The Other Side of the Wind</td>\n",
       "      <td>2018</td>\n",
       "      <td>122.00</td>\n",
       "      <td>Drama</td>\n",
       "    </tr>\n",
       "    <tr>\n",
       "      <th>3</th>\n",
       "      <td>tt0069204</td>\n",
       "      <td>Sabse Bada Sukh</td>\n",
       "      <td>Sabse Bada Sukh</td>\n",
       "      <td>2018</td>\n",
       "      <td>nan</td>\n",
       "      <td>Comedy,Drama</td>\n",
       "    </tr>\n",
       "    <tr>\n",
       "      <th>4</th>\n",
       "      <td>tt0100275</td>\n",
       "      <td>The Wandering Soap Opera</td>\n",
       "      <td>La Telenovela Errante</td>\n",
       "      <td>2017</td>\n",
       "      <td>80.00</td>\n",
       "      <td>Comedy,Drama,Fantasy</td>\n",
       "    </tr>\n",
       "  </tbody>\n",
       "</table>\n",
       "</div>"
      ],
      "text/plain": [
       "      tconst                    primary_title              original_title  \\\n",
       "0  tt0063540                        Sunghursh                   Sunghursh   \n",
       "1  tt0066787  One Day Before the Rainy Season             Ashad Ka Ek Din   \n",
       "2  tt0069049       The Other Side of the Wind  The Other Side of the Wind   \n",
       "3  tt0069204                  Sabse Bada Sukh             Sabse Bada Sukh   \n",
       "4  tt0100275         The Wandering Soap Opera       La Telenovela Errante   \n",
       "\n",
       "   start_year  runtime_minutes                genres  \n",
       "0        2013           175.00    Action,Crime,Drama  \n",
       "1        2019           114.00       Biography,Drama  \n",
       "2        2018           122.00                 Drama  \n",
       "3        2018              nan          Comedy,Drama  \n",
       "4        2017            80.00  Comedy,Drama,Fantasy  "
      ]
     },
     "execution_count": 5,
     "metadata": {},
     "output_type": "execute_result"
    }
   ],
   "source": [
    "# Imported the CSV file\n",
    "\n",
    "imdb_title_basics_df = pd.read_csv('zippedData/imdb.title.basics.csv.gz', compression = 'gzip')\n",
    "imdb_title_basics_df.head()"
   ]
  },
  {
   "cell_type": "code",
   "execution_count": 6,
   "metadata": {
    "hidden": true
   },
   "outputs": [
    {
     "name": "stdout",
     "output_type": "stream",
     "text": [
      "(146144, 6)\n",
      "\n",
      "       start_year  runtime_minutes\n",
      "count   146144.00        114405.00\n",
      "mean      2014.62            86.19\n",
      "std          2.73           166.36\n",
      "min       2010.00             1.00\n",
      "25%       2012.00            70.00\n",
      "50%       2015.00            87.00\n",
      "75%       2017.00            99.00\n",
      "max       2115.00         51420.00\n",
      "\n",
      "<class 'pandas.core.frame.DataFrame'>\n",
      "RangeIndex: 146144 entries, 0 to 146143\n",
      "Data columns (total 6 columns):\n",
      " #   Column           Non-Null Count   Dtype  \n",
      "---  ------           --------------   -----  \n",
      " 0   tconst           146144 non-null  object \n",
      " 1   primary_title    146144 non-null  object \n",
      " 2   original_title   146123 non-null  object \n",
      " 3   start_year       146144 non-null  int64  \n",
      " 4   runtime_minutes  114405 non-null  float64\n",
      " 5   genres           140736 non-null  object \n",
      "dtypes: float64(1), int64(1), object(4)\n",
      "memory usage: 6.7+ MB\n",
      "None\n",
      "\n",
      "tconst                 0\n",
      "primary_title          0\n",
      "original_title        21\n",
      "start_year             0\n",
      "runtime_minutes    31739\n",
      "genres              5408\n",
      "dtype: int64\n"
     ]
    }
   ],
   "source": [
    "# Using a function to get basic data\n",
    "\n",
    "get_info(imdb_title_basics_df)"
   ]
  },
  {
   "cell_type": "code",
   "execution_count": 7,
   "metadata": {
    "hidden": true
   },
   "outputs": [
    {
     "data": {
      "text/plain": [
       "87.0"
      ]
     },
     "execution_count": 7,
     "metadata": {},
     "output_type": "execute_result"
    }
   ],
   "source": [
    "# Finding the median of runtime_minutes\n",
    "\n",
    "imdb_title_basics_df['runtime_minutes'].median()"
   ]
  },
  {
   "cell_type": "code",
   "execution_count": 8,
   "metadata": {
    "hidden": true
   },
   "outputs": [],
   "source": [
    "# Replacing the null values in runtime_minutes with the median. (side note...not sure why I couldn't pass in the \n",
    "# code to get the median as the argument.\n",
    "\n",
    "imdb_title_basics_df['runtime_minutes'].fillna(87.0, inplace = True)"
   ]
  },
  {
   "cell_type": "code",
   "execution_count": 9,
   "metadata": {
    "hidden": true
   },
   "outputs": [
    {
     "data": {
      "text/plain": [
       "0    Documentary\n",
       "dtype: object"
      ]
     },
     "execution_count": 9,
     "metadata": {},
     "output_type": "execute_result"
    }
   ],
   "source": [
    "#Finding the mode of 'genres'\n",
    "\n",
    "imdb_title_basics_df['genres'].mode()"
   ]
  },
  {
   "cell_type": "code",
   "execution_count": 10,
   "metadata": {
    "hidden": true
   },
   "outputs": [],
   "source": [
    "#Filling the null values with the mode.\n",
    "\n",
    "imdb_title_basics_df['genres'].fillna('Documentary', inplace = True)\n",
    "#imdb_title_basics_df.head()"
   ]
  },
  {
   "cell_type": "code",
   "execution_count": 11,
   "metadata": {
    "hidden": true
   },
   "outputs": [],
   "source": [
    "imdb_title_basics_df.dropna(axis = 0, inplace = True)"
   ]
  },
  {
   "cell_type": "code",
   "execution_count": 12,
   "metadata": {
    "hidden": true,
    "scrolled": true
   },
   "outputs": [
    {
     "name": "stdout",
     "output_type": "stream",
     "text": [
      "(146123, 6)\n"
     ]
    }
   ],
   "source": [
    "#imdb_title_basics_df.head()\n",
    "print(imdb_title_basics_df.shape)"
   ]
  },
  {
   "cell_type": "code",
   "execution_count": 13,
   "metadata": {
    "hidden": true
   },
   "outputs": [
    {
     "data": {
      "text/plain": [
       "tt5930026    1\n",
       "tt1896788    1\n",
       "tt4484670    1\n",
       "tt9452304    1\n",
       "tt9106456    1\n",
       "            ..\n",
       "tt6020486    1\n",
       "tt5069160    1\n",
       "tt5442308    1\n",
       "tt3527010    1\n",
       "tt1870570    1\n",
       "Name: tconst, Length: 146123, dtype: int64"
      ]
     },
     "metadata": {},
     "output_type": "display_data"
    },
    {
     "data": {
      "text/plain": [
       "Home                                    24\n",
       "Broken                                  20\n",
       "The Return                              20\n",
       "Alone                                   16\n",
       "Homecoming                              16\n",
       "                                        ..\n",
       "In Search of Voodoo: Roots to Heaven     1\n",
       "Mona, tesoro del Caribe                  1\n",
       "Searching for Katie                      1\n",
       "Lobotomiya                               1\n",
       "The Making of a Fatherless Daughter      1\n",
       "Name: primary_title, Length: 136056, dtype: int64"
      ]
     },
     "metadata": {},
     "output_type": "display_data"
    },
    {
     "data": {
      "text/plain": [
       "Broken                                 19\n",
       "Home                                   18\n",
       "The Return                             17\n",
       "The Gift                               13\n",
       "Homecoming                             13\n",
       "                                       ..\n",
       "A Mulher de Longe                       1\n",
       "The Dunning Man Soundtrack              1\n",
       "Nhung Buc Thu Tu Son My                 1\n",
       "One of Too Many: Part 3                 1\n",
       "The Making of a Fatherless Daughter     1\n",
       "Name: original_title, Length: 137773, dtype: int64"
      ]
     },
     "metadata": {},
     "output_type": "display_data"
    },
    {
     "data": {
      "text/plain": [
       "2017    17494\n",
       "2016    17269\n",
       "2018    16846\n",
       "2015    16242\n",
       "2014    15589\n",
       "2013    14708\n",
       "2012    13786\n",
       "2011    12900\n",
       "2010    11849\n",
       "2019     8378\n",
       "2020      936\n",
       "2021       83\n",
       "2022       32\n",
       "2023        5\n",
       "2024        2\n",
       "2027        1\n",
       "2026        1\n",
       "2025        1\n",
       "2115        1\n",
       "Name: start_year, dtype: int64"
      ]
     },
     "metadata": {},
     "output_type": "display_data"
    },
    {
     "data": {
      "text/plain": [
       "87.00       33653\n",
       "90.00        7131\n",
       "80.00        3526\n",
       "85.00        2915\n",
       "100.00       2662\n",
       "            ...  \n",
       "396.00          1\n",
       "382.00          1\n",
       "14400.00        1\n",
       "724.00          1\n",
       "540.00          1\n",
       "Name: runtime_minutes, Length: 367, dtype: int64"
      ]
     },
     "metadata": {},
     "output_type": "display_data"
    },
    {
     "data": {
      "text/plain": [
       "Documentary                       37574\n",
       "Drama                             21486\n",
       "Comedy                             9177\n",
       "Horror                             4372\n",
       "Comedy,Drama                       3519\n",
       "                                  ...  \n",
       "Comedy,Sport,Thriller                 1\n",
       "History,Romance,Western               1\n",
       "Crime,Fantasy,War                     1\n",
       "Animation,Documentary,Thriller        1\n",
       "Action,Horror,Music                   1\n",
       "Name: genres, Length: 1085, dtype: int64"
      ]
     },
     "metadata": {},
     "output_type": "display_data"
    }
   ],
   "source": [
    "# Getting the value counts for each column to search for weirdness.\n",
    "\n",
    "imdb_title_basics_columns = imdb_title_basics_df.columns\n",
    "for column in imdb_title_basics_columns:\n",
    "    display(imdb_title_basics_df[column].value_counts())"
   ]
  },
  {
   "cell_type": "markdown",
   "metadata": {
    "heading_collapsed": true,
    "hidden": true
   },
   "source": [
    "### Clean IMDB Title Ratings CSV - CLEANED\n",
    "This CSV contains the user rating and vote numbers for each film listed.  Like earlier, this csv includes the 'tconst' column which will be used in a later merge.  \n"
   ]
  },
  {
   "cell_type": "code",
   "execution_count": 14,
   "metadata": {
    "hidden": true
   },
   "outputs": [
    {
     "data": {
      "text/html": [
       "<div>\n",
       "<style scoped>\n",
       "    .dataframe tbody tr th:only-of-type {\n",
       "        vertical-align: middle;\n",
       "    }\n",
       "\n",
       "    .dataframe tbody tr th {\n",
       "        vertical-align: top;\n",
       "    }\n",
       "\n",
       "    .dataframe thead th {\n",
       "        text-align: right;\n",
       "    }\n",
       "</style>\n",
       "<table border=\"1\" class=\"dataframe\">\n",
       "  <thead>\n",
       "    <tr style=\"text-align: right;\">\n",
       "      <th></th>\n",
       "      <th>tconst</th>\n",
       "      <th>averagerating</th>\n",
       "      <th>numvotes</th>\n",
       "    </tr>\n",
       "  </thead>\n",
       "  <tbody>\n",
       "    <tr>\n",
       "      <th>0</th>\n",
       "      <td>tt10356526</td>\n",
       "      <td>8.30</td>\n",
       "      <td>31</td>\n",
       "    </tr>\n",
       "    <tr>\n",
       "      <th>1</th>\n",
       "      <td>tt10384606</td>\n",
       "      <td>8.90</td>\n",
       "      <td>559</td>\n",
       "    </tr>\n",
       "    <tr>\n",
       "      <th>2</th>\n",
       "      <td>tt1042974</td>\n",
       "      <td>6.40</td>\n",
       "      <td>20</td>\n",
       "    </tr>\n",
       "    <tr>\n",
       "      <th>3</th>\n",
       "      <td>tt1043726</td>\n",
       "      <td>4.20</td>\n",
       "      <td>50352</td>\n",
       "    </tr>\n",
       "    <tr>\n",
       "      <th>4</th>\n",
       "      <td>tt1060240</td>\n",
       "      <td>6.50</td>\n",
       "      <td>21</td>\n",
       "    </tr>\n",
       "  </tbody>\n",
       "</table>\n",
       "</div>"
      ],
      "text/plain": [
       "       tconst  averagerating  numvotes\n",
       "0  tt10356526           8.30        31\n",
       "1  tt10384606           8.90       559\n",
       "2   tt1042974           6.40        20\n",
       "3   tt1043726           4.20     50352\n",
       "4   tt1060240           6.50        21"
      ]
     },
     "execution_count": 14,
     "metadata": {},
     "output_type": "execute_result"
    }
   ],
   "source": [
    "# Import the CSV\n",
    "\n",
    "imdb_title_ratings_df = pd.read_csv('zippedData/imdb.title.ratings.csv.gz', compression = 'gzip')\n",
    "imdb_title_ratings_df.head()"
   ]
  },
  {
   "cell_type": "code",
   "execution_count": 15,
   "metadata": {
    "hidden": true
   },
   "outputs": [
    {
     "name": "stdout",
     "output_type": "stream",
     "text": [
      "(73856, 3)\n",
      "\n",
      "       averagerating   numvotes\n",
      "count       73856.00   73856.00\n",
      "mean            6.33    3523.66\n",
      "std             1.47   30294.02\n",
      "min             1.00       5.00\n",
      "25%             5.50      14.00\n",
      "50%             6.50      49.00\n",
      "75%             7.40     282.00\n",
      "max            10.00 1841066.00\n",
      "\n",
      "<class 'pandas.core.frame.DataFrame'>\n",
      "RangeIndex: 73856 entries, 0 to 73855\n",
      "Data columns (total 3 columns):\n",
      " #   Column         Non-Null Count  Dtype  \n",
      "---  ------         --------------  -----  \n",
      " 0   tconst         73856 non-null  object \n",
      " 1   averagerating  73856 non-null  float64\n",
      " 2   numvotes       73856 non-null  int64  \n",
      "dtypes: float64(1), int64(1), object(1)\n",
      "memory usage: 1.7+ MB\n",
      "None\n",
      "\n",
      "tconst           0\n",
      "averagerating    0\n",
      "numvotes         0\n",
      "dtype: int64\n"
     ]
    }
   ],
   "source": [
    "# Using a function to get basic informationa bout the dataframe.\n",
    "\n",
    "get_info(imdb_title_ratings_df)"
   ]
  },
  {
   "cell_type": "code",
   "execution_count": 16,
   "metadata": {
    "hidden": true
   },
   "outputs": [
    {
     "data": {
      "text/plain": [
       "tt1683919    1\n",
       "tt2691690    1\n",
       "tt1626184    1\n",
       "tt6463494    1\n",
       "tt5335682    1\n",
       "            ..\n",
       "tt2762506    1\n",
       "tt2756188    1\n",
       "tt2583942    1\n",
       "tt7115980    1\n",
       "tt1870570    1\n",
       "Name: tconst, Length: 73856, dtype: int64"
      ]
     },
     "metadata": {},
     "output_type": "display_data"
    },
    {
     "data": {
      "text/plain": [
       "7.00     2262\n",
       "6.60     2251\n",
       "7.20     2249\n",
       "6.80     2239\n",
       "6.50     2221\n",
       "         ... \n",
       "9.60       18\n",
       "10.00      16\n",
       "9.80       15\n",
       "9.70       12\n",
       "9.90        5\n",
       "Name: averagerating, Length: 91, dtype: int64"
      ]
     },
     "metadata": {},
     "output_type": "display_data"
    },
    {
     "data": {
      "text/plain": [
       "6        2875\n",
       "5        2699\n",
       "7        2476\n",
       "8        2167\n",
       "9        1929\n",
       "         ... \n",
       "18286       1\n",
       "16289       1\n",
       "1958        1\n",
       "4007        1\n",
       "4098        1\n",
       "Name: numvotes, Length: 7349, dtype: int64"
      ]
     },
     "metadata": {},
     "output_type": "display_data"
    }
   ],
   "source": [
    "# Getting an idea for the value counts to search for any weirdness.\n",
    "\n",
    "imdb_title_ratings_columns = imdb_title_ratings_df.columns\n",
    "for column in imdb_title_ratings_columns:\n",
    "    display(imdb_title_ratings_df[column].value_counts())"
   ]
  },
  {
   "cell_type": "markdown",
   "metadata": {
    "heading_collapsed": true
   },
   "source": [
    "# Import Additional Data With Web Scraping "
   ]
  },
  {
   "cell_type": "markdown",
   "metadata": {
    "heading_collapsed": true,
    "hidden": true
   },
   "source": [
    "## Box Office Results of Movie Franchises - FUTURE WORK\n",
    "\n",
    "Address this in the future.  Link for scrape = https://www.the-numbers.com/movies/franchises#franchise_overview=od1"
   ]
  },
  {
   "cell_type": "code",
   "execution_count": 17,
   "metadata": {
    "hidden": true
   },
   "outputs": [],
   "source": [
    "#franchise_page = requests.get('https://www.the-numbers.com/movies/franchises') \n",
    "#soup = BeautifulSoup(franchise_page.content, 'html.parser') "
   ]
  },
  {
   "cell_type": "code",
   "execution_count": 18,
   "metadata": {
    "hidden": true
   },
   "outputs": [],
   "source": [
    "#soup.prettify"
   ]
  },
  {
   "cell_type": "code",
   "execution_count": 19,
   "metadata": {
    "hidden": true
   },
   "outputs": [],
   "source": [
    "# franchise_data = soup.findAll('table')\n",
    "# franchise_data\n"
   ]
  },
  {
   "cell_type": "code",
   "execution_count": 20,
   "metadata": {
    "hidden": true,
    "scrolled": true
   },
   "outputs": [],
   "source": [
    "#from html.parser import HTMLParser"
   ]
  },
  {
   "cell_type": "code",
   "execution_count": 21,
   "metadata": {
    "hidden": true
   },
   "outputs": [],
   "source": [
    "# edited_franchise = franchise_data.text\n",
    "# edited_franchise"
   ]
  },
  {
   "cell_type": "markdown",
   "metadata": {
    "heading_collapsed": true,
    "hidden": true
   },
   "source": [
    "## IMDB Scraped with Group\n",
    "\n",
    "This scrape was a group effort with the core P2P study group team.  Each person took on a section of IMDB 'tconst' codes to scrape useful monetary and rating data.  The combined computing power allowed us to cut scrape time from 11 days down to around 9 hours.  To see the code for the scrape, please refer to 'test_requests.py'."
   ]
  },
  {
   "cell_type": "code",
   "execution_count": 22,
   "metadata": {
    "hidden": true,
    "scrolled": false
   },
   "outputs": [
    {
     "data": {
      "text/html": [
       "<div>\n",
       "<style scoped>\n",
       "    .dataframe tbody tr th:only-of-type {\n",
       "        vertical-align: middle;\n",
       "    }\n",
       "\n",
       "    .dataframe tbody tr th {\n",
       "        vertical-align: top;\n",
       "    }\n",
       "\n",
       "    .dataframe thead th {\n",
       "        text-align: right;\n",
       "    }\n",
       "</style>\n",
       "<table border=\"1\" class=\"dataframe\">\n",
       "  <thead>\n",
       "    <tr style=\"text-align: right;\">\n",
       "      <th></th>\n",
       "      <th>Unnamed: 0</th>\n",
       "      <th>tconst</th>\n",
       "      <th>budget</th>\n",
       "      <th>gross</th>\n",
       "      <th>ww_gross</th>\n",
       "      <th>rating</th>\n",
       "    </tr>\n",
       "  </thead>\n",
       "  <tbody>\n",
       "    <tr>\n",
       "      <th>0</th>\n",
       "      <td>0</td>\n",
       "      <td>tt2200832</td>\n",
       "      <td>nan</td>\n",
       "      <td>nan</td>\n",
       "      <td>nan</td>\n",
       "      <td>NotRated</td>\n",
       "    </tr>\n",
       "    <tr>\n",
       "      <th>1</th>\n",
       "      <td>1</td>\n",
       "      <td>tt2200860</td>\n",
       "      <td>nan</td>\n",
       "      <td>nan</td>\n",
       "      <td>1924766.00</td>\n",
       "      <td>NaN</td>\n",
       "    </tr>\n",
       "    <tr>\n",
       "      <th>2</th>\n",
       "      <td>2</td>\n",
       "      <td>tt2200908</td>\n",
       "      <td>nan</td>\n",
       "      <td>nan</td>\n",
       "      <td>105367.00</td>\n",
       "      <td>NaN</td>\n",
       "    </tr>\n",
       "    <tr>\n",
       "      <th>3</th>\n",
       "      <td>3</td>\n",
       "      <td>tt2200926</td>\n",
       "      <td>nan</td>\n",
       "      <td>nan</td>\n",
       "      <td>5784.00</td>\n",
       "      <td>NaN</td>\n",
       "    </tr>\n",
       "    <tr>\n",
       "      <th>4</th>\n",
       "      <td>4</td>\n",
       "      <td>tt2200955</td>\n",
       "      <td>nan</td>\n",
       "      <td>nan</td>\n",
       "      <td>nan</td>\n",
       "      <td>Comedy</td>\n",
       "    </tr>\n",
       "  </tbody>\n",
       "</table>\n",
       "</div>"
      ],
      "text/plain": [
       "   Unnamed: 0     tconst  budget  gross   ww_gross    rating\n",
       "0           0  tt2200832     nan    nan        nan  NotRated\n",
       "1           1  tt2200860     nan    nan 1924766.00       NaN\n",
       "2           2  tt2200908     nan    nan  105367.00       NaN\n",
       "3           3  tt2200926     nan    nan    5784.00       NaN\n",
       "4           4  tt2200955     nan    nan        nan    Comedy"
      ]
     },
     "execution_count": 22,
     "metadata": {},
     "output_type": "execute_result"
    }
   ],
   "source": [
    "#Import the CSV\n",
    "\n",
    "imdb_money_ratings = pd.read_csv('budget_ratings.csv')\n",
    "imdb_money_ratings.head()"
   ]
  },
  {
   "cell_type": "code",
   "execution_count": 23,
   "metadata": {
    "hidden": true,
    "scrolled": true
   },
   "outputs": [
    {
     "name": "stdout",
     "output_type": "stream",
     "text": [
      "(52943, 6)\n",
      "\n",
      "       Unnamed: 0       budget        gross      ww_gross\n",
      "count    52943.00     19396.00      6233.00      20921.00\n",
      "mean     26471.00   6315791.47  17489603.72   16321566.20\n",
      "std      15283.47  31223176.17  55195072.21   85632102.24\n",
      "min          0.00         0.00        72.00          0.00\n",
      "25%      13235.50      5000.00     24094.00      34829.00\n",
      "50%      26471.00    186500.00    175232.00     327453.00\n",
      "75%      39706.50   1000000.00   4033574.00    2935188.00\n",
      "max      52942.00 900000000.00 936662225.00 2797800564.00\n",
      "\n",
      "<class 'pandas.core.frame.DataFrame'>\n",
      "RangeIndex: 52943 entries, 0 to 52942\n",
      "Data columns (total 6 columns):\n",
      " #   Column      Non-Null Count  Dtype  \n",
      "---  ------      --------------  -----  \n",
      " 0   Unnamed: 0  52943 non-null  int64  \n",
      " 1   tconst      52943 non-null  object \n",
      " 2   budget      19396 non-null  float64\n",
      " 3   gross       6233 non-null   float64\n",
      " 4   ww_gross    20921 non-null  float64\n",
      " 5   rating      35743 non-null  object \n",
      "dtypes: float64(3), int64(1), object(2)\n",
      "memory usage: 2.4+ MB\n",
      "None\n",
      "\n",
      "Unnamed: 0        0\n",
      "tconst            0\n",
      "budget        33547\n",
      "gross         46710\n",
      "ww_gross      32022\n",
      "rating        17200\n",
      "dtype: int64\n"
     ]
    }
   ],
   "source": [
    "# Get info on the csv using a function.\n",
    "\n",
    "get_info(imdb_money_ratings)"
   ]
  },
  {
   "cell_type": "code",
   "execution_count": 24,
   "metadata": {
    "hidden": true
   },
   "outputs": [
    {
     "data": {
      "text/plain": [
       "array(['NotRated', nan, 'Comedy', 'Thriller', 'Documentary', 'R', 'TV-PG',\n",
       "       'Family', 'PG-13', 'Drama,', 'TV-G', 'PG', 'Family,', 'Sci-Fi',\n",
       "       'Comedy,', 'TV-MA', 'Biography,', 'Horror', 'G', 'Unrated',\n",
       "       'Drama', 'Action', 'Romance', 'TV-14', 'Romance,', 'Sport',\n",
       "       'Biography', 'Horror,', 'Action,', '27January2012(USA)',\n",
       "       'TVMovie31October2010', 'Mystery', 'Crime,', 'Reality-TV',\n",
       "       'History', 'Fantasy', 'TV-Y7', 'Animation,', '5May2012(USA)',\n",
       "       'Music', 'Documentary,', 'Adventure,', 'TV-Y', 'Crime', 'NC-17',\n",
       "       'Western', 'TV-Y7-FV', '2April2016(Japan)', 'Approved',\n",
       "       '22March2012(Spain)', '19July2012(Portugal)', 'Adventure',\n",
       "       'Musical', 'M', 'TVMovie21April2011', '12September2012(Poland)',\n",
       "       'Animation', 'History,', 'TVMovie20April2012',\n",
       "       '25April2014(Spain)', '5July2013(France)', 'Adult', 'Fantasy,',\n",
       "       '25February2013(BurkinaFaso)', '7October2012(USA)', 'X',\n",
       "       '23May2013(Argentina)', '12June2014(Italy)', 'War',\n",
       "       '13August2011(Russia)', 'Mystery,', '8February2013(Germany)',\n",
       "       'TVMovie', '2013(USA)', 'TVMovie24April2013',\n",
       "       '25January2013(Spain)', '4April2013(Argentina)', 'Thriller,',\n",
       "       'TVMovie30March2013', '16May2013(Argentina)',\n",
       "       'TVMovieFebruary2013', '3May2013(Ireland)', 'TVMovie6May2012',\n",
       "       'TVMovie6June2013', 'TVMovie16November2014', 'TVMovie2014',\n",
       "       '5March2010(India)', '3June2010(India)', '16August2014(Poland)',\n",
       "       '29July2011(India)', '19August2011(India)',\n",
       "       '12March2015(Argentina)', '20February2015(Japan)',\n",
       "       'TVMovie26October2013', 'TVMovie7February2015',\n",
       "       '30January2015(India)', '27February2015(India)', 'TVMovie2016',\n",
       "       '24October2014(Belgium)', '23October2016(Spain)',\n",
       "       'TVMovie31October2015', '20June2015(Japan)', '20January2016(USA)',\n",
       "       '6August2015(Thailand)', 'Music,', '20August2015(USA)',\n",
       "       '2015(France)', '19October2014(India)', '30June2017(Canada)',\n",
       "       'TVMovie2015', '1January2016(Spain)', 'Musical,', 'E10+',\n",
       "       'TVMovie7December2014', 'Sci-Fi,', '9March2016(Mexico)',\n",
       "       'TVMovie8February2010', 'E', '26July2013(India)',\n",
       "       '15August2013(UK)', '30November2012(India)', '25June2014(France)',\n",
       "       'January2012(UK)', '7March2014(India)', '14August2013(USA)',\n",
       "       '22August2013(Argentina)', '8March2013(India)',\n",
       "       '22March2013(India)', '1May2015(India)', 'December2014(India)',\n",
       "       '12February2014(Germany)', '2012(Oman)', '24January2014(India)',\n",
       "       '12', '11April2014(Spain)', 'Open', '9June2014(India)',\n",
       "       '18April2014(India)', '4December2010(Russia)',\n",
       "       '12June2014(Finland)', '30May2014(India)', 'News',\n",
       "       '26August2017(USA)', '12November2015(Argentina)', 'TVMovie2013',\n",
       "       '8April2014(USA)', '17April2014(USA)', '19August2014(USA)',\n",
       "       '15August2014(Poland)', '23April2015(India)',\n",
       "       'TVMovie23December2014', '31July2010(Japan)', '29July2010(USA)',\n",
       "       'TVMovie25February2011', '6January2011(Argentina)',\n",
       "       '18September2010(Japan)', 'TVMovie29December2011',\n",
       "       '23November2012(Brazil)', '27August2010(Japan)',\n",
       "       'November2010(Argentina)', '24November2011(NewZealand)',\n",
       "       '29September2011(Indonesia)', '14November2010(USA)',\n",
       "       'TVMovie11December2010', '14October2010(UK)', 'TVMovie27May2011',\n",
       "       '28September2010(Japan)', '25September2011(Switzerland)',\n",
       "       'TVMovie5May2012', '6March2011(USA)', 'TVMovie4November2010', 'C',\n",
       "       '9December2011(Spain)', '1July2011(Colombia)', '2March2012(Spain)',\n",
       "       'TVMovie23March2011', 'TVMovie12March2011', 'TVMovie27June2011',\n",
       "       '2012(UK)', '7February2011(USA)', 'TVMovie15June2011',\n",
       "       '10June2011(Pakistan)', 'TVMovie18June2011',\n",
       "       'TVMovie28September2011', '27July2012(Spain)',\n",
       "       '7July2011(Malaysia)', '26July2011(Germany)',\n",
       "       '9October2011(SouthKorea)', '27October2011(Japan)',\n",
       "       '1December2011(UK)', '1March2012(UK)', 'TVMovie12September2011',\n",
       "       '9February2012(UK)', '15October2011(Japan)',\n",
       "       'TVMovie2December2011', 'TVMovie1May2012', 'February2012(Iran)',\n",
       "       'February2012(Germany)', '2011(UK)', '19March2020(USA)',\n",
       "       'TVMovie10June2016', 'TVMovie5October2019', '4April2018(China)',\n",
       "       '16June2017(China)', '19May2017(China)', '20July2017(Thailand)',\n",
       "       '31May2017(SouthKorea)', '8November2018(Russia)',\n",
       "       '21December2017(China)', '12October2018(China)',\n",
       "       '4January2019(Lithuania)', '1March2019(Lithuania)',\n",
       "       '6June2019(Argentina)', 'TVMovie8June2019', '10March2016(Russia)',\n",
       "       '11January2019(China)', '25December2015(Russia)',\n",
       "       '23March2018(Turkey)', '8March2018(SouthKorea)',\n",
       "       '12April2018(Uruguay)', '19April2018(Hungary)',\n",
       "       '30October2017(Colombia)', '17August2018(Turkey)',\n",
       "       '15December2017(Turkey)', '10January2019(Argentina)',\n",
       "       '18June2019(China)', 'T', '22November2019(USA)',\n",
       "       '22December2010(Spain)', '8August2019(USA)',\n",
       "       'TVMovie21October2019', '22August2019(Uruguay)',\n",
       "       '29August2019(Russia)', '5September2019(Slovakia)', '2017(India)',\n",
       "       '11October2019(Iceland)', '25October2019(China)',\n",
       "       'TVMovie18April2020', '12October2019(USA)',\n",
       "       '16November2019(China)', '8November2019(Japan)',\n",
       "       '21November2019(SouthKorea)', '29November2019(Lithuania)',\n",
       "       '28November2019(SouthKorea)', '5December2019(Russia)',\n",
       "       '22May2020(Japan)', '20December2019(UK)',\n",
       "       '26December2019(CzechRepublic)', '9January2020(Argentina)',\n",
       "       '1January2020(USA)', '31January2020(USA)', 'Adult,',\n",
       "       '23January2020(Germany)', '27February2020(CzechRepublic)',\n",
       "       '15April2020(USA)', '20February2020(UnitedArabEmirates)', '18',\n",
       "       'TVMovie5June2020', '3March2012(USA)', '7April2010(Belgium)',\n",
       "       '9April2011(Argentina)', '11February2011(Spain)',\n",
       "       'TVMovie22January2010', '13May2010(Russia)', '22June2012(Spain)',\n",
       "       '25November2011(Spain)', '23September2011(Spain)',\n",
       "       '19August2017(USA)', '22September2017(India)',\n",
       "       'TVMovie23September2017', '6September2014(Russia)',\n",
       "       '6October2017(UK)', '12January2016(SouthKorea)',\n",
       "       '28June2017(SouthKorea)', '2February2018(India)',\n",
       "       'TVMovie23January2018', '15December2017(India)',\n",
       "       '30December2015(USA)', '8November2016(SouthKorea)', 'TVMovie2017',\n",
       "       'TVMovie20January2018', 'December2017(Armenia)',\n",
       "       '15December2015(SouthKorea)', 'TVMovie3July2020',\n",
       "       '9January2018(SouthKorea)', '2015(Iran)', '7July2020(Italy)',\n",
       "       'M/PG', 'MA-17', '12November2017(Poland)', '25May2018(USA)',\n",
       "       '3May2016(USA)', '20May2016(Spain)', '2016(Turkey)', '2018(USA)',\n",
       "       '1September2018(Argentina)', '12June2016(Italy)', '10May2015(USA)',\n",
       "       '29January2015(Switzerland)', '14March2014(India)',\n",
       "       '6October2017(USA)', '24March2017(Spain)', '17April2015(USA)',\n",
       "       '13September2019(Ukraine)', '25January2017(USA)',\n",
       "       'TVMovie6November2016', '8December2016(Brazil)',\n",
       "       '10July2016(Portugal)', '24April2016(SouthKorea)',\n",
       "       '14June2015(France)', '20November2016(SouthKorea)',\n",
       "       '17January2016(Brazil)', '20March2016(CzechRepublic)',\n",
       "       '18December2015(Lithuania)', '24January2016(UK)',\n",
       "       '7December2014(France)', '5October2014(Lebanon)',\n",
       "       '12June2015(Taiwan)', '7August2016(Argentina)',\n",
       "       '28August2016(Argentina)', '5May2013(Venezuela)',\n",
       "       '30August2015(UnitedArabEmirates)', '21June2015(France)',\n",
       "       '6December2015(Thailand)', '23August2015(Sweden)',\n",
       "       '28June2015(France)', '3April2016(China)', '1November2015(Italy)',\n",
       "       '12July2015(China)', '26June2016(China)',\n",
       "       '13November2016(Slovakia)', '27September2015(Spain)',\n",
       "       '9November2014(Peru)', '13December2015(Spain)',\n",
       "       '20March2016(Italy)', '16June2016(Cambodia)',\n",
       "       '15January2012(UnitedArabEmirates)', '25October2015(Vietnam)',\n",
       "       '13March2016(UK)', '27September2015(Colombia)',\n",
       "       '27September2015(Lebanon)', '9October2011(Uruguay)',\n",
       "       '20September2015(Uruguay)', '21February2016(UnitedArabEmirates)',\n",
       "       '31January2016(Japan)', '2October2016(SouthKorea)',\n",
       "       '20November2016(Argentina)', '27December2015(Lithuania)',\n",
       "       '25October2015(Thailand)', '24January2016(Brazil)',\n",
       "       '17May2015(Austria)', '24March2013(CzechRepublic)',\n",
       "       '11September2016(UnitedArabEmirates)', '30October2016(Spain)',\n",
       "       '12September2010(China)', '20November2016(Turkey)',\n",
       "       '3November2013(Brazil)', '13March2016(Turkey)',\n",
       "       '28February2016(Japan)', '7September2017(Germany)',\n",
       "       '30October2017(USA)', 'TVMovie1July2017', '2015(India)',\n",
       "       '12February2017(Japan)', '19March2017(Japan)', '25April2012(USA)',\n",
       "       '13November2015(Lithuania)', '10January2016(India)',\n",
       "       '22June2017(Greece)', '4July2017(USA)', '22July2017(Japan)'],\n",
       "      dtype=object)"
      ]
     },
     "execution_count": 24,
     "metadata": {},
     "output_type": "execute_result"
    }
   ],
   "source": [
    "# Check the unique values within the ratings.  Uh oh...\n",
    "\n",
    "imdb_money_ratings['rating'].unique()"
   ]
  },
  {
   "cell_type": "code",
   "execution_count": 25,
   "metadata": {
    "hidden": true
   },
   "outputs": [],
   "source": [
    "# Removed the junk data and replaced with NaN's.\n",
    "\n",
    "ratings = ['M/PG', 'MA-17', 'X', 'M', 'C', 'T', 'E', 'E10+', 'TV-Y7-FV', 'NC-17', 'TV-Y',\n",
    "           'TV-Y7', 'TV-14', 'G', 'TV-MA', 'PG', 'TV-G', 'PG-13', 'TV-PG', 'R']\n",
    "for i in imdb_money_ratings['rating']:\n",
    "    if i not in ratings:\n",
    "        imdb_money_ratings['rating'].replace(i, np.nan, inplace=True)\n",
    "    "
   ]
  },
  {
   "cell_type": "code",
   "execution_count": 26,
   "metadata": {
    "hidden": true
   },
   "outputs": [
    {
     "data": {
      "text/plain": [
       "array([nan, 'R', 'TV-PG', 'PG-13', 'TV-G', 'PG', 'TV-MA', 'G', 'TV-14',\n",
       "       'TV-Y7', 'TV-Y', 'NC-17', 'TV-Y7-FV', 'M', 'X', 'E10+', 'E', 'C',\n",
       "       'T', 'M/PG', 'MA-17'], dtype=object)"
      ]
     },
     "execution_count": 26,
     "metadata": {},
     "output_type": "execute_result"
    }
   ],
   "source": [
    "imdb_money_ratings['rating'].unique()"
   ]
  },
  {
   "cell_type": "code",
   "execution_count": 27,
   "metadata": {
    "hidden": true,
    "scrolled": true
   },
   "outputs": [
    {
     "data": {
      "text/html": [
       "<div>\n",
       "<style scoped>\n",
       "    .dataframe tbody tr th:only-of-type {\n",
       "        vertical-align: middle;\n",
       "    }\n",
       "\n",
       "    .dataframe tbody tr th {\n",
       "        vertical-align: top;\n",
       "    }\n",
       "\n",
       "    .dataframe thead th {\n",
       "        text-align: right;\n",
       "    }\n",
       "</style>\n",
       "<table border=\"1\" class=\"dataframe\">\n",
       "  <thead>\n",
       "    <tr style=\"text-align: right;\">\n",
       "      <th></th>\n",
       "      <th>Unnamed: 0</th>\n",
       "      <th>tconst</th>\n",
       "      <th>budget</th>\n",
       "      <th>gross</th>\n",
       "      <th>ww_gross</th>\n",
       "      <th>rating</th>\n",
       "    </tr>\n",
       "  </thead>\n",
       "  <tbody>\n",
       "    <tr>\n",
       "      <th>0</th>\n",
       "      <td>0</td>\n",
       "      <td>tt2200832</td>\n",
       "      <td>nan</td>\n",
       "      <td>nan</td>\n",
       "      <td>nan</td>\n",
       "      <td>NaN</td>\n",
       "    </tr>\n",
       "    <tr>\n",
       "      <th>1</th>\n",
       "      <td>1</td>\n",
       "      <td>tt2200860</td>\n",
       "      <td>nan</td>\n",
       "      <td>nan</td>\n",
       "      <td>1924766.00</td>\n",
       "      <td>NaN</td>\n",
       "    </tr>\n",
       "    <tr>\n",
       "      <th>2</th>\n",
       "      <td>2</td>\n",
       "      <td>tt2200908</td>\n",
       "      <td>nan</td>\n",
       "      <td>nan</td>\n",
       "      <td>105367.00</td>\n",
       "      <td>NaN</td>\n",
       "    </tr>\n",
       "    <tr>\n",
       "      <th>3</th>\n",
       "      <td>3</td>\n",
       "      <td>tt2200926</td>\n",
       "      <td>nan</td>\n",
       "      <td>nan</td>\n",
       "      <td>5784.00</td>\n",
       "      <td>NaN</td>\n",
       "    </tr>\n",
       "    <tr>\n",
       "      <th>4</th>\n",
       "      <td>4</td>\n",
       "      <td>tt2200955</td>\n",
       "      <td>nan</td>\n",
       "      <td>nan</td>\n",
       "      <td>nan</td>\n",
       "      <td>NaN</td>\n",
       "    </tr>\n",
       "  </tbody>\n",
       "</table>\n",
       "</div>"
      ],
      "text/plain": [
       "   Unnamed: 0     tconst  budget  gross   ww_gross rating\n",
       "0           0  tt2200832     nan    nan        nan    NaN\n",
       "1           1  tt2200860     nan    nan 1924766.00    NaN\n",
       "2           2  tt2200908     nan    nan  105367.00    NaN\n",
       "3           3  tt2200926     nan    nan    5784.00    NaN\n",
       "4           4  tt2200955     nan    nan        nan    NaN"
      ]
     },
     "execution_count": 27,
     "metadata": {},
     "output_type": "execute_result"
    }
   ],
   "source": [
    "imdb_money_ratings.head()"
   ]
  },
  {
   "cell_type": "markdown",
   "metadata": {
    "hidden": true
   },
   "source": [
    "<h5> NOTE: </h5>\n",
    "Tons of missing data in here.  Decided to whittle down from 52k listings to a smaller set that will represent ACCURATELY reported data from reputable studios.  Ran a check to make sure that this did not eliminate data on mainstream content (wide releases, blockbuster movies, noteworthy films, etc.)\n"
   ]
  },
  {
   "cell_type": "code",
   "execution_count": 28,
   "metadata": {
    "hidden": true,
    "scrolled": true
   },
   "outputs": [
    {
     "data": {
      "text/html": [
       "<div>\n",
       "<style scoped>\n",
       "    .dataframe tbody tr th:only-of-type {\n",
       "        vertical-align: middle;\n",
       "    }\n",
       "\n",
       "    .dataframe tbody tr th {\n",
       "        vertical-align: top;\n",
       "    }\n",
       "\n",
       "    .dataframe thead th {\n",
       "        text-align: right;\n",
       "    }\n",
       "</style>\n",
       "<table border=\"1\" class=\"dataframe\">\n",
       "  <thead>\n",
       "    <tr style=\"text-align: right;\">\n",
       "      <th></th>\n",
       "      <th>Unnamed: 0</th>\n",
       "      <th>tconst</th>\n",
       "      <th>budget</th>\n",
       "      <th>gross</th>\n",
       "      <th>ww_gross</th>\n",
       "      <th>rating</th>\n",
       "    </tr>\n",
       "  </thead>\n",
       "  <tbody>\n",
       "    <tr>\n",
       "      <th>48</th>\n",
       "      <td>48</td>\n",
       "      <td>tt2203939</td>\n",
       "      <td>40000000.00</td>\n",
       "      <td>83911193.00</td>\n",
       "      <td>196710396.00</td>\n",
       "      <td>PG-13</td>\n",
       "    </tr>\n",
       "    <tr>\n",
       "      <th>67</th>\n",
       "      <td>67</td>\n",
       "      <td>tt2205401</td>\n",
       "      <td>5000000.00</td>\n",
       "      <td>17390770.00</td>\n",
       "      <td>17534314.00</td>\n",
       "      <td>R</td>\n",
       "    </tr>\n",
       "    <tr>\n",
       "      <th>73</th>\n",
       "      <td>73</td>\n",
       "      <td>tt2205591</td>\n",
       "      <td>100000.00</td>\n",
       "      <td>71737.00</td>\n",
       "      <td>71737.00</td>\n",
       "      <td>PG</td>\n",
       "    </tr>\n",
       "    <tr>\n",
       "      <th>92</th>\n",
       "      <td>92</td>\n",
       "      <td>tt2207006</td>\n",
       "      <td>10000000.00</td>\n",
       "      <td>110904.00</td>\n",
       "      <td>110904.00</td>\n",
       "      <td>PG-13</td>\n",
       "    </tr>\n",
       "    <tr>\n",
       "      <th>121</th>\n",
       "      <td>121</td>\n",
       "      <td>tt2209418</td>\n",
       "      <td>3000000.00</td>\n",
       "      <td>8114627.00</td>\n",
       "      <td>20994648.00</td>\n",
       "      <td>R</td>\n",
       "    </tr>\n",
       "  </tbody>\n",
       "</table>\n",
       "</div>"
      ],
      "text/plain": [
       "     Unnamed: 0     tconst      budget       gross     ww_gross rating\n",
       "48           48  tt2203939 40000000.00 83911193.00 196710396.00  PG-13\n",
       "67           67  tt2205401  5000000.00 17390770.00  17534314.00      R\n",
       "73           73  tt2205591   100000.00    71737.00     71737.00     PG\n",
       "92           92  tt2207006 10000000.00   110904.00    110904.00  PG-13\n",
       "121         121  tt2209418  3000000.00  8114627.00  20994648.00      R"
      ]
     },
     "execution_count": 28,
     "metadata": {},
     "output_type": "execute_result"
    }
   ],
   "source": [
    "#Dropping columns with missing information\n",
    "\n",
    "imdb_money_ratings.dropna(axis = 0, inplace=True)\n",
    "imdb_money_ratings.head()"
   ]
  },
  {
   "cell_type": "code",
   "execution_count": 29,
   "metadata": {
    "hidden": true
   },
   "outputs": [
    {
     "data": {
      "text/plain": [
       "(2225, 6)"
      ]
     },
     "execution_count": 29,
     "metadata": {},
     "output_type": "execute_result"
    }
   ],
   "source": [
    "imdb_money_ratings.shape"
   ]
  },
  {
   "cell_type": "code",
   "execution_count": 30,
   "metadata": {
    "hidden": true
   },
   "outputs": [
    {
     "data": {
      "text/html": [
       "<div>\n",
       "<style scoped>\n",
       "    .dataframe tbody tr th:only-of-type {\n",
       "        vertical-align: middle;\n",
       "    }\n",
       "\n",
       "    .dataframe tbody tr th {\n",
       "        vertical-align: top;\n",
       "    }\n",
       "\n",
       "    .dataframe thead th {\n",
       "        text-align: right;\n",
       "    }\n",
       "</style>\n",
       "<table border=\"1\" class=\"dataframe\">\n",
       "  <thead>\n",
       "    <tr style=\"text-align: right;\">\n",
       "      <th></th>\n",
       "      <th>Unnamed: 0</th>\n",
       "      <th>tconst</th>\n",
       "      <th>budget</th>\n",
       "      <th>gross</th>\n",
       "      <th>ww_gross</th>\n",
       "      <th>rating</th>\n",
       "    </tr>\n",
       "  </thead>\n",
       "  <tbody>\n",
       "    <tr>\n",
       "      <th>48</th>\n",
       "      <td>48</td>\n",
       "      <td>tt2203939</td>\n",
       "      <td>40000000.00</td>\n",
       "      <td>83911193.00</td>\n",
       "      <td>196710396.00</td>\n",
       "      <td>PG-13</td>\n",
       "    </tr>\n",
       "    <tr>\n",
       "      <th>67</th>\n",
       "      <td>67</td>\n",
       "      <td>tt2205401</td>\n",
       "      <td>5000000.00</td>\n",
       "      <td>17390770.00</td>\n",
       "      <td>17534314.00</td>\n",
       "      <td>R</td>\n",
       "    </tr>\n",
       "    <tr>\n",
       "      <th>73</th>\n",
       "      <td>73</td>\n",
       "      <td>tt2205591</td>\n",
       "      <td>100000.00</td>\n",
       "      <td>71737.00</td>\n",
       "      <td>71737.00</td>\n",
       "      <td>PG</td>\n",
       "    </tr>\n",
       "    <tr>\n",
       "      <th>92</th>\n",
       "      <td>92</td>\n",
       "      <td>tt2207006</td>\n",
       "      <td>10000000.00</td>\n",
       "      <td>110904.00</td>\n",
       "      <td>110904.00</td>\n",
       "      <td>PG-13</td>\n",
       "    </tr>\n",
       "    <tr>\n",
       "      <th>121</th>\n",
       "      <td>121</td>\n",
       "      <td>tt2209418</td>\n",
       "      <td>3000000.00</td>\n",
       "      <td>8114627.00</td>\n",
       "      <td>20994648.00</td>\n",
       "      <td>R</td>\n",
       "    </tr>\n",
       "    <tr>\n",
       "      <th>129</th>\n",
       "      <td>129</td>\n",
       "      <td>tt2209764</td>\n",
       "      <td>100000000.00</td>\n",
       "      <td>23022309.00</td>\n",
       "      <td>103039258.00</td>\n",
       "      <td>PG-13</td>\n",
       "    </tr>\n",
       "    <tr>\n",
       "      <th>209</th>\n",
       "      <td>209</td>\n",
       "      <td>tt2215077</td>\n",
       "      <td>270000000.00</td>\n",
       "      <td>54529.00</td>\n",
       "      <td>306393.00</td>\n",
       "      <td>R</td>\n",
       "    </tr>\n",
       "    <tr>\n",
       "      <th>223</th>\n",
       "      <td>223</td>\n",
       "      <td>tt2215285</td>\n",
       "      <td>20000000.00</td>\n",
       "      <td>65653242.00</td>\n",
       "      <td>66899242.00</td>\n",
       "      <td>PG-13</td>\n",
       "    </tr>\n",
       "    <tr>\n",
       "      <th>241</th>\n",
       "      <td>241</td>\n",
       "      <td>tt2215719</td>\n",
       "      <td>12000000.00</td>\n",
       "      <td>25326071.00</td>\n",
       "      <td>32726956.00</td>\n",
       "      <td>PG</td>\n",
       "    </tr>\n",
       "    <tr>\n",
       "      <th>249</th>\n",
       "      <td>249</td>\n",
       "      <td>tt2216240</td>\n",
       "      <td>500000.00</td>\n",
       "      <td>414437.00</td>\n",
       "      <td>2688444.00</td>\n",
       "      <td>R</td>\n",
       "    </tr>\n",
       "  </tbody>\n",
       "</table>\n",
       "</div>"
      ],
      "text/plain": [
       "     Unnamed: 0     tconst       budget       gross     ww_gross rating\n",
       "48           48  tt2203939  40000000.00 83911193.00 196710396.00  PG-13\n",
       "67           67  tt2205401   5000000.00 17390770.00  17534314.00      R\n",
       "73           73  tt2205591    100000.00    71737.00     71737.00     PG\n",
       "92           92  tt2207006  10000000.00   110904.00    110904.00  PG-13\n",
       "121         121  tt2209418   3000000.00  8114627.00  20994648.00      R\n",
       "129         129  tt2209764 100000000.00 23022309.00 103039258.00  PG-13\n",
       "209         209  tt2215077 270000000.00    54529.00    306393.00      R\n",
       "223         223  tt2215285  20000000.00 65653242.00  66899242.00  PG-13\n",
       "241         241  tt2215719  12000000.00 25326071.00  32726956.00     PG\n",
       "249         249  tt2216240    500000.00   414437.00   2688444.00      R"
      ]
     },
     "execution_count": 30,
     "metadata": {},
     "output_type": "execute_result"
    }
   ],
   "source": [
    "imdb_money_ratings.head(10)"
   ]
  },
  {
   "cell_type": "markdown",
   "metadata": {
    "heading_collapsed": true
   },
   "source": [
    "# Join Data into Single Dataframe"
   ]
  },
  {
   "cell_type": "markdown",
   "metadata": {
    "hidden": true
   },
   "source": [
    "In this section, I've first merged the imdb_title_basics_df & imdb_title_ratings_df.  Then, merged this new dataframe with the additional data scraped from IMDB.  This left me with one extremely useful dataframe representing 2225 films. "
   ]
  },
  {
   "cell_type": "markdown",
   "metadata": {
    "heading_collapsed": true,
    "hidden": true
   },
   "source": [
    "## Merge Dataframes"
   ]
  },
  {
   "cell_type": "code",
   "execution_count": 31,
   "metadata": {
    "hidden": true,
    "scrolled": true
   },
   "outputs": [
    {
     "data": {
      "text/html": [
       "<div>\n",
       "<style scoped>\n",
       "    .dataframe tbody tr th:only-of-type {\n",
       "        vertical-align: middle;\n",
       "    }\n",
       "\n",
       "    .dataframe tbody tr th {\n",
       "        vertical-align: top;\n",
       "    }\n",
       "\n",
       "    .dataframe thead th {\n",
       "        text-align: right;\n",
       "    }\n",
       "</style>\n",
       "<table border=\"1\" class=\"dataframe\">\n",
       "  <thead>\n",
       "    <tr style=\"text-align: right;\">\n",
       "      <th></th>\n",
       "      <th>tconst</th>\n",
       "      <th>primary_title</th>\n",
       "      <th>original_title</th>\n",
       "      <th>start_year</th>\n",
       "      <th>runtime_minutes</th>\n",
       "      <th>genres</th>\n",
       "      <th>averagerating</th>\n",
       "      <th>numvotes</th>\n",
       "    </tr>\n",
       "  </thead>\n",
       "  <tbody>\n",
       "    <tr>\n",
       "      <th>0</th>\n",
       "      <td>tt0063540</td>\n",
       "      <td>Sunghursh</td>\n",
       "      <td>Sunghursh</td>\n",
       "      <td>2013</td>\n",
       "      <td>175.00</td>\n",
       "      <td>Action,Crime,Drama</td>\n",
       "      <td>7.00</td>\n",
       "      <td>77.00</td>\n",
       "    </tr>\n",
       "    <tr>\n",
       "      <th>1</th>\n",
       "      <td>tt0066787</td>\n",
       "      <td>One Day Before the Rainy Season</td>\n",
       "      <td>Ashad Ka Ek Din</td>\n",
       "      <td>2019</td>\n",
       "      <td>114.00</td>\n",
       "      <td>Biography,Drama</td>\n",
       "      <td>7.20</td>\n",
       "      <td>43.00</td>\n",
       "    </tr>\n",
       "    <tr>\n",
       "      <th>2</th>\n",
       "      <td>tt0069049</td>\n",
       "      <td>The Other Side of the Wind</td>\n",
       "      <td>The Other Side of the Wind</td>\n",
       "      <td>2018</td>\n",
       "      <td>122.00</td>\n",
       "      <td>Drama</td>\n",
       "      <td>6.90</td>\n",
       "      <td>4517.00</td>\n",
       "    </tr>\n",
       "    <tr>\n",
       "      <th>3</th>\n",
       "      <td>tt0069204</td>\n",
       "      <td>Sabse Bada Sukh</td>\n",
       "      <td>Sabse Bada Sukh</td>\n",
       "      <td>2018</td>\n",
       "      <td>87.00</td>\n",
       "      <td>Comedy,Drama</td>\n",
       "      <td>6.10</td>\n",
       "      <td>13.00</td>\n",
       "    </tr>\n",
       "    <tr>\n",
       "      <th>4</th>\n",
       "      <td>tt0100275</td>\n",
       "      <td>The Wandering Soap Opera</td>\n",
       "      <td>La Telenovela Errante</td>\n",
       "      <td>2017</td>\n",
       "      <td>80.00</td>\n",
       "      <td>Comedy,Drama,Fantasy</td>\n",
       "      <td>6.50</td>\n",
       "      <td>119.00</td>\n",
       "    </tr>\n",
       "  </tbody>\n",
       "</table>\n",
       "</div>"
      ],
      "text/plain": [
       "      tconst                    primary_title              original_title  \\\n",
       "0  tt0063540                        Sunghursh                   Sunghursh   \n",
       "1  tt0066787  One Day Before the Rainy Season             Ashad Ka Ek Din   \n",
       "2  tt0069049       The Other Side of the Wind  The Other Side of the Wind   \n",
       "3  tt0069204                  Sabse Bada Sukh             Sabse Bada Sukh   \n",
       "4  tt0100275         The Wandering Soap Opera       La Telenovela Errante   \n",
       "\n",
       "   start_year  runtime_minutes                genres  averagerating  numvotes  \n",
       "0        2013           175.00    Action,Crime,Drama           7.00     77.00  \n",
       "1        2019           114.00       Biography,Drama           7.20     43.00  \n",
       "2        2018           122.00                 Drama           6.90   4517.00  \n",
       "3        2018            87.00          Comedy,Drama           6.10     13.00  \n",
       "4        2017            80.00  Comedy,Drama,Fantasy           6.50    119.00  "
      ]
     },
     "execution_count": 31,
     "metadata": {},
     "output_type": "execute_result"
    }
   ],
   "source": [
    "#Merging the imdb_title_basics & imddb_title_ratings dataframes.\n",
    "\n",
    "imdb_df = pd.merge(left=imdb_title_basics_df, right=imdb_title_ratings_df, how='left', left_on='tconst', right_on='tconst')\n",
    "imdb_df.head()"
   ]
  },
  {
   "cell_type": "code",
   "execution_count": 32,
   "metadata": {
    "hidden": true,
    "scrolled": true
   },
   "outputs": [
    {
     "data": {
      "text/html": [
       "<div>\n",
       "<style scoped>\n",
       "    .dataframe tbody tr th:only-of-type {\n",
       "        vertical-align: middle;\n",
       "    }\n",
       "\n",
       "    .dataframe tbody tr th {\n",
       "        vertical-align: top;\n",
       "    }\n",
       "\n",
       "    .dataframe thead th {\n",
       "        text-align: right;\n",
       "    }\n",
       "</style>\n",
       "<table border=\"1\" class=\"dataframe\">\n",
       "  <thead>\n",
       "    <tr style=\"text-align: right;\">\n",
       "      <th></th>\n",
       "      <th>Unnamed: 0</th>\n",
       "      <th>tconst</th>\n",
       "      <th>budget</th>\n",
       "      <th>gross</th>\n",
       "      <th>ww_gross</th>\n",
       "      <th>rating</th>\n",
       "      <th>primary_title</th>\n",
       "      <th>original_title</th>\n",
       "      <th>start_year</th>\n",
       "      <th>runtime_minutes</th>\n",
       "      <th>genres</th>\n",
       "      <th>averagerating</th>\n",
       "      <th>numvotes</th>\n",
       "    </tr>\n",
       "  </thead>\n",
       "  <tbody>\n",
       "    <tr>\n",
       "      <th>0</th>\n",
       "      <td>48</td>\n",
       "      <td>tt2203939</td>\n",
       "      <td>40000000.00</td>\n",
       "      <td>83911193.00</td>\n",
       "      <td>196710396.00</td>\n",
       "      <td>PG-13</td>\n",
       "      <td>The Other Woman</td>\n",
       "      <td>The Other Woman</td>\n",
       "      <td>2014.00</td>\n",
       "      <td>109.00</td>\n",
       "      <td>Comedy,Romance</td>\n",
       "      <td>6.00</td>\n",
       "      <td>122889.00</td>\n",
       "    </tr>\n",
       "    <tr>\n",
       "      <th>1</th>\n",
       "      <td>67</td>\n",
       "      <td>tt2205401</td>\n",
       "      <td>5000000.00</td>\n",
       "      <td>17390770.00</td>\n",
       "      <td>17534314.00</td>\n",
       "      <td>R</td>\n",
       "      <td>Addicted</td>\n",
       "      <td>Addicted</td>\n",
       "      <td>2014.00</td>\n",
       "      <td>106.00</td>\n",
       "      <td>Drama,Thriller</td>\n",
       "      <td>5.20</td>\n",
       "      <td>7640.00</td>\n",
       "    </tr>\n",
       "    <tr>\n",
       "      <th>2</th>\n",
       "      <td>73</td>\n",
       "      <td>tt2205591</td>\n",
       "      <td>100000.00</td>\n",
       "      <td>71737.00</td>\n",
       "      <td>71737.00</td>\n",
       "      <td>PG</td>\n",
       "      <td>Runaway Slave</td>\n",
       "      <td>Runaway Slave</td>\n",
       "      <td>2012.00</td>\n",
       "      <td>108.00</td>\n",
       "      <td>Documentary,History</td>\n",
       "      <td>6.70</td>\n",
       "      <td>269.00</td>\n",
       "    </tr>\n",
       "    <tr>\n",
       "      <th>3</th>\n",
       "      <td>92</td>\n",
       "      <td>tt2207006</td>\n",
       "      <td>10000000.00</td>\n",
       "      <td>110904.00</td>\n",
       "      <td>110904.00</td>\n",
       "      <td>PG-13</td>\n",
       "      <td>The Obama Effect</td>\n",
       "      <td>The Obama Effect</td>\n",
       "      <td>2012.00</td>\n",
       "      <td>85.00</td>\n",
       "      <td>Comedy,Drama</td>\n",
       "      <td>2.00</td>\n",
       "      <td>378.00</td>\n",
       "    </tr>\n",
       "    <tr>\n",
       "      <th>4</th>\n",
       "      <td>121</td>\n",
       "      <td>tt2209418</td>\n",
       "      <td>3000000.00</td>\n",
       "      <td>8114627.00</td>\n",
       "      <td>20994648.00</td>\n",
       "      <td>R</td>\n",
       "      <td>Before Midnight</td>\n",
       "      <td>Before Midnight</td>\n",
       "      <td>2013.00</td>\n",
       "      <td>109.00</td>\n",
       "      <td>Drama,Romance</td>\n",
       "      <td>7.90</td>\n",
       "      <td>123107.00</td>\n",
       "    </tr>\n",
       "  </tbody>\n",
       "</table>\n",
       "</div>"
      ],
      "text/plain": [
       "   Unnamed: 0     tconst      budget       gross     ww_gross rating  \\\n",
       "0          48  tt2203939 40000000.00 83911193.00 196710396.00  PG-13   \n",
       "1          67  tt2205401  5000000.00 17390770.00  17534314.00      R   \n",
       "2          73  tt2205591   100000.00    71737.00     71737.00     PG   \n",
       "3          92  tt2207006 10000000.00   110904.00    110904.00  PG-13   \n",
       "4         121  tt2209418  3000000.00  8114627.00  20994648.00      R   \n",
       "\n",
       "      primary_title    original_title  start_year  runtime_minutes  \\\n",
       "0   The Other Woman   The Other Woman     2014.00           109.00   \n",
       "1          Addicted          Addicted     2014.00           106.00   \n",
       "2     Runaway Slave     Runaway Slave     2012.00           108.00   \n",
       "3  The Obama Effect  The Obama Effect     2012.00            85.00   \n",
       "4   Before Midnight   Before Midnight     2013.00           109.00   \n",
       "\n",
       "                genres  averagerating  numvotes  \n",
       "0       Comedy,Romance           6.00 122889.00  \n",
       "1       Drama,Thriller           5.20   7640.00  \n",
       "2  Documentary,History           6.70    269.00  \n",
       "3         Comedy,Drama           2.00    378.00  \n",
       "4        Drama,Romance           7.90 123107.00  "
      ]
     },
     "execution_count": 32,
     "metadata": {},
     "output_type": "execute_result"
    }
   ],
   "source": [
    "#Merging the resulting dataframe with the IMDB data that was scraped.  \n",
    "\n",
    "imdb_full_df = pd.merge(left=imdb_money_ratings, right=imdb_df, how='left', left_on='tconst', right_on='tconst')\n",
    "imdb_full_df.head()"
   ]
  },
  {
   "cell_type": "code",
   "execution_count": 33,
   "metadata": {
    "hidden": true
   },
   "outputs": [
    {
     "data": {
      "text/html": [
       "<div>\n",
       "<style scoped>\n",
       "    .dataframe tbody tr th:only-of-type {\n",
       "        vertical-align: middle;\n",
       "    }\n",
       "\n",
       "    .dataframe tbody tr th {\n",
       "        vertical-align: top;\n",
       "    }\n",
       "\n",
       "    .dataframe thead th {\n",
       "        text-align: right;\n",
       "    }\n",
       "</style>\n",
       "<table border=\"1\" class=\"dataframe\">\n",
       "  <thead>\n",
       "    <tr style=\"text-align: right;\">\n",
       "      <th></th>\n",
       "      <th>tconst</th>\n",
       "      <th>budget</th>\n",
       "      <th>gross</th>\n",
       "      <th>ww_gross</th>\n",
       "      <th>rating</th>\n",
       "      <th>primary_title</th>\n",
       "      <th>original_title</th>\n",
       "      <th>start_year</th>\n",
       "      <th>runtime_minutes</th>\n",
       "      <th>genres</th>\n",
       "      <th>averagerating</th>\n",
       "      <th>numvotes</th>\n",
       "    </tr>\n",
       "  </thead>\n",
       "  <tbody>\n",
       "    <tr>\n",
       "      <th>0</th>\n",
       "      <td>tt2203939</td>\n",
       "      <td>40000000.00</td>\n",
       "      <td>83911193.00</td>\n",
       "      <td>196710396.00</td>\n",
       "      <td>PG-13</td>\n",
       "      <td>The Other Woman</td>\n",
       "      <td>The Other Woman</td>\n",
       "      <td>2014.00</td>\n",
       "      <td>109.00</td>\n",
       "      <td>Comedy,Romance</td>\n",
       "      <td>6.00</td>\n",
       "      <td>122889.00</td>\n",
       "    </tr>\n",
       "    <tr>\n",
       "      <th>1</th>\n",
       "      <td>tt2205401</td>\n",
       "      <td>5000000.00</td>\n",
       "      <td>17390770.00</td>\n",
       "      <td>17534314.00</td>\n",
       "      <td>R</td>\n",
       "      <td>Addicted</td>\n",
       "      <td>Addicted</td>\n",
       "      <td>2014.00</td>\n",
       "      <td>106.00</td>\n",
       "      <td>Drama,Thriller</td>\n",
       "      <td>5.20</td>\n",
       "      <td>7640.00</td>\n",
       "    </tr>\n",
       "    <tr>\n",
       "      <th>2</th>\n",
       "      <td>tt2205591</td>\n",
       "      <td>100000.00</td>\n",
       "      <td>71737.00</td>\n",
       "      <td>71737.00</td>\n",
       "      <td>PG</td>\n",
       "      <td>Runaway Slave</td>\n",
       "      <td>Runaway Slave</td>\n",
       "      <td>2012.00</td>\n",
       "      <td>108.00</td>\n",
       "      <td>Documentary,History</td>\n",
       "      <td>6.70</td>\n",
       "      <td>269.00</td>\n",
       "    </tr>\n",
       "    <tr>\n",
       "      <th>3</th>\n",
       "      <td>tt2207006</td>\n",
       "      <td>10000000.00</td>\n",
       "      <td>110904.00</td>\n",
       "      <td>110904.00</td>\n",
       "      <td>PG-13</td>\n",
       "      <td>The Obama Effect</td>\n",
       "      <td>The Obama Effect</td>\n",
       "      <td>2012.00</td>\n",
       "      <td>85.00</td>\n",
       "      <td>Comedy,Drama</td>\n",
       "      <td>2.00</td>\n",
       "      <td>378.00</td>\n",
       "    </tr>\n",
       "    <tr>\n",
       "      <th>4</th>\n",
       "      <td>tt2209418</td>\n",
       "      <td>3000000.00</td>\n",
       "      <td>8114627.00</td>\n",
       "      <td>20994648.00</td>\n",
       "      <td>R</td>\n",
       "      <td>Before Midnight</td>\n",
       "      <td>Before Midnight</td>\n",
       "      <td>2013.00</td>\n",
       "      <td>109.00</td>\n",
       "      <td>Drama,Romance</td>\n",
       "      <td>7.90</td>\n",
       "      <td>123107.00</td>\n",
       "    </tr>\n",
       "  </tbody>\n",
       "</table>\n",
       "</div>"
      ],
      "text/plain": [
       "      tconst      budget       gross     ww_gross rating     primary_title  \\\n",
       "0  tt2203939 40000000.00 83911193.00 196710396.00  PG-13   The Other Woman   \n",
       "1  tt2205401  5000000.00 17390770.00  17534314.00      R          Addicted   \n",
       "2  tt2205591   100000.00    71737.00     71737.00     PG     Runaway Slave   \n",
       "3  tt2207006 10000000.00   110904.00    110904.00  PG-13  The Obama Effect   \n",
       "4  tt2209418  3000000.00  8114627.00  20994648.00      R   Before Midnight   \n",
       "\n",
       "     original_title  start_year  runtime_minutes               genres  \\\n",
       "0   The Other Woman     2014.00           109.00       Comedy,Romance   \n",
       "1          Addicted     2014.00           106.00       Drama,Thriller   \n",
       "2     Runaway Slave     2012.00           108.00  Documentary,History   \n",
       "3  The Obama Effect     2012.00            85.00         Comedy,Drama   \n",
       "4   Before Midnight     2013.00           109.00        Drama,Romance   \n",
       "\n",
       "   averagerating  numvotes  \n",
       "0           6.00 122889.00  \n",
       "1           5.20   7640.00  \n",
       "2           6.70    269.00  \n",
       "3           2.00    378.00  \n",
       "4           7.90 123107.00  "
      ]
     },
     "execution_count": 33,
     "metadata": {},
     "output_type": "execute_result"
    }
   ],
   "source": [
    "# Dropped the old index column\n",
    "\n",
    "imdb_full_df.drop(labels = 'Unnamed: 0', axis = 1, inplace = True)\n",
    "imdb_full_df.head()"
   ]
  },
  {
   "cell_type": "code",
   "execution_count": 34,
   "metadata": {
    "hidden": true,
    "scrolled": true
   },
   "outputs": [],
   "source": [
    "#Sorted the dataframe in descending order by worldwide gross.  \n",
    "\n",
    "imdb_full_df.sort_values('ww_gross', ascending = False, inplace = True)"
   ]
  },
  {
   "cell_type": "code",
   "execution_count": 35,
   "metadata": {
    "hidden": true,
    "scrolled": false
   },
   "outputs": [
    {
     "name": "stdout",
     "output_type": "stream",
     "text": [
      "(2225, 11)\n"
     ]
    },
    {
     "data": {
      "text/html": [
       "<div>\n",
       "<style scoped>\n",
       "    .dataframe tbody tr th:only-of-type {\n",
       "        vertical-align: middle;\n",
       "    }\n",
       "\n",
       "    .dataframe tbody tr th {\n",
       "        vertical-align: top;\n",
       "    }\n",
       "\n",
       "    .dataframe thead th {\n",
       "        text-align: right;\n",
       "    }\n",
       "</style>\n",
       "<table border=\"1\" class=\"dataframe\">\n",
       "  <thead>\n",
       "    <tr style=\"text-align: right;\">\n",
       "      <th></th>\n",
       "      <th>tconst</th>\n",
       "      <th>budget</th>\n",
       "      <th>gross</th>\n",
       "      <th>ww_gross</th>\n",
       "      <th>rating</th>\n",
       "      <th>primary_title</th>\n",
       "      <th>start_year</th>\n",
       "      <th>runtime_minutes</th>\n",
       "      <th>genres</th>\n",
       "      <th>averagerating</th>\n",
       "      <th>numvotes</th>\n",
       "    </tr>\n",
       "  </thead>\n",
       "  <tbody>\n",
       "    <tr>\n",
       "      <th>780</th>\n",
       "      <td>tt4154796</td>\n",
       "      <td>356000000.00</td>\n",
       "      <td>858373000.00</td>\n",
       "      <td>2797800564.00</td>\n",
       "      <td>PG-13</td>\n",
       "      <td>Avengers: Endgame</td>\n",
       "      <td>2019.00</td>\n",
       "      <td>181.00</td>\n",
       "      <td>Action,Adventure,Sci-Fi</td>\n",
       "      <td>8.80</td>\n",
       "      <td>441135.00</td>\n",
       "    </tr>\n",
       "    <tr>\n",
       "      <th>176</th>\n",
       "      <td>tt2488496</td>\n",
       "      <td>245000000.00</td>\n",
       "      <td>936662225.00</td>\n",
       "      <td>2068223624.00</td>\n",
       "      <td>PG-13</td>\n",
       "      <td>Star Wars: Episode VII - The Force Awakens</td>\n",
       "      <td>2015.00</td>\n",
       "      <td>136.00</td>\n",
       "      <td>Action,Adventure,Fantasy</td>\n",
       "      <td>8.00</td>\n",
       "      <td>784780.00</td>\n",
       "    </tr>\n",
       "    <tr>\n",
       "      <th>779</th>\n",
       "      <td>tt4154756</td>\n",
       "      <td>321000000.00</td>\n",
       "      <td>678815482.00</td>\n",
       "      <td>2048359754.00</td>\n",
       "      <td>PG-13</td>\n",
       "      <td>Avengers: Infinity War</td>\n",
       "      <td>2018.00</td>\n",
       "      <td>149.00</td>\n",
       "      <td>Action,Adventure,Sci-Fi</td>\n",
       "      <td>8.50</td>\n",
       "      <td>670926.00</td>\n",
       "    </tr>\n",
       "    <tr>\n",
       "      <th>1164</th>\n",
       "      <td>tt0369610</td>\n",
       "      <td>150000000.00</td>\n",
       "      <td>652270625.00</td>\n",
       "      <td>1670400637.00</td>\n",
       "      <td>PG-13</td>\n",
       "      <td>Jurassic World</td>\n",
       "      <td>2015.00</td>\n",
       "      <td>124.00</td>\n",
       "      <td>Action,Adventure,Sci-Fi</td>\n",
       "      <td>7.00</td>\n",
       "      <td>539338.00</td>\n",
       "    </tr>\n",
       "    <tr>\n",
       "      <th>2136</th>\n",
       "      <td>tt6105098</td>\n",
       "      <td>260000000.00</td>\n",
       "      <td>543638043.00</td>\n",
       "      <td>1656943394.00</td>\n",
       "      <td>PG</td>\n",
       "      <td>The Lion King</td>\n",
       "      <td>2019.00</td>\n",
       "      <td>87.00</td>\n",
       "      <td>Adventure,Animation,Drama</td>\n",
       "      <td>nan</td>\n",
       "      <td>nan</td>\n",
       "    </tr>\n",
       "  </tbody>\n",
       "</table>\n",
       "</div>"
      ],
      "text/plain": [
       "         tconst       budget        gross      ww_gross rating  \\\n",
       "780   tt4154796 356000000.00 858373000.00 2797800564.00  PG-13   \n",
       "176   tt2488496 245000000.00 936662225.00 2068223624.00  PG-13   \n",
       "779   tt4154756 321000000.00 678815482.00 2048359754.00  PG-13   \n",
       "1164  tt0369610 150000000.00 652270625.00 1670400637.00  PG-13   \n",
       "2136  tt6105098 260000000.00 543638043.00 1656943394.00     PG   \n",
       "\n",
       "                                   primary_title  start_year  runtime_minutes  \\\n",
       "780                            Avengers: Endgame     2019.00           181.00   \n",
       "176   Star Wars: Episode VII - The Force Awakens     2015.00           136.00   \n",
       "779                       Avengers: Infinity War     2018.00           149.00   \n",
       "1164                              Jurassic World     2015.00           124.00   \n",
       "2136                               The Lion King     2019.00            87.00   \n",
       "\n",
       "                         genres  averagerating  numvotes  \n",
       "780     Action,Adventure,Sci-Fi           8.80 441135.00  \n",
       "176    Action,Adventure,Fantasy           8.00 784780.00  \n",
       "779     Action,Adventure,Sci-Fi           8.50 670926.00  \n",
       "1164    Action,Adventure,Sci-Fi           7.00 539338.00  \n",
       "2136  Adventure,Animation,Drama            nan       nan  "
      ]
     },
     "execution_count": 35,
     "metadata": {},
     "output_type": "execute_result"
    }
   ],
   "source": [
    "# Dropped the original title column.  Only want the most known titles. \n",
    "\n",
    "imdb_full_df.drop(labels = 'original_title', axis = 1, inplace = True)\n",
    "print(imdb_full_df.shape)\n",
    "imdb_full_df.head()"
   ]
  },
  {
   "cell_type": "markdown",
   "metadata": {
    "heading_collapsed": true,
    "hidden": true
   },
   "source": [
    "## Analyze, Clean, and Alter Main Dataframe"
   ]
  },
  {
   "cell_type": "code",
   "execution_count": 36,
   "metadata": {
    "hidden": true,
    "scrolled": true
   },
   "outputs": [
    {
     "data": {
      "text/html": [
       "<div>\n",
       "<style scoped>\n",
       "    .dataframe tbody tr th:only-of-type {\n",
       "        vertical-align: middle;\n",
       "    }\n",
       "\n",
       "    .dataframe tbody tr th {\n",
       "        vertical-align: top;\n",
       "    }\n",
       "\n",
       "    .dataframe thead th {\n",
       "        text-align: right;\n",
       "    }\n",
       "</style>\n",
       "<table border=\"1\" class=\"dataframe\">\n",
       "  <thead>\n",
       "    <tr style=\"text-align: right;\">\n",
       "      <th></th>\n",
       "      <th>tconst</th>\n",
       "      <th>budget</th>\n",
       "      <th>gross</th>\n",
       "      <th>ww_gross</th>\n",
       "      <th>rating</th>\n",
       "      <th>primary_title</th>\n",
       "      <th>start_year</th>\n",
       "      <th>runtime_minutes</th>\n",
       "      <th>genres</th>\n",
       "      <th>averagerating</th>\n",
       "      <th>numvotes</th>\n",
       "      <th>Net_Revenue</th>\n",
       "    </tr>\n",
       "  </thead>\n",
       "  <tbody>\n",
       "    <tr>\n",
       "      <th>780</th>\n",
       "      <td>tt4154796</td>\n",
       "      <td>356000000.00</td>\n",
       "      <td>858373000.00</td>\n",
       "      <td>2797800564.00</td>\n",
       "      <td>PG-13</td>\n",
       "      <td>Avengers: Endgame</td>\n",
       "      <td>2019.00</td>\n",
       "      <td>181.00</td>\n",
       "      <td>Action,Adventure,Sci-Fi</td>\n",
       "      <td>8.80</td>\n",
       "      <td>441135.00</td>\n",
       "      <td>2441800564.00</td>\n",
       "    </tr>\n",
       "    <tr>\n",
       "      <th>176</th>\n",
       "      <td>tt2488496</td>\n",
       "      <td>245000000.00</td>\n",
       "      <td>936662225.00</td>\n",
       "      <td>2068223624.00</td>\n",
       "      <td>PG-13</td>\n",
       "      <td>Star Wars: Episode VII - The Force Awakens</td>\n",
       "      <td>2015.00</td>\n",
       "      <td>136.00</td>\n",
       "      <td>Action,Adventure,Fantasy</td>\n",
       "      <td>8.00</td>\n",
       "      <td>784780.00</td>\n",
       "      <td>1823223624.00</td>\n",
       "    </tr>\n",
       "    <tr>\n",
       "      <th>779</th>\n",
       "      <td>tt4154756</td>\n",
       "      <td>321000000.00</td>\n",
       "      <td>678815482.00</td>\n",
       "      <td>2048359754.00</td>\n",
       "      <td>PG-13</td>\n",
       "      <td>Avengers: Infinity War</td>\n",
       "      <td>2018.00</td>\n",
       "      <td>149.00</td>\n",
       "      <td>Action,Adventure,Sci-Fi</td>\n",
       "      <td>8.50</td>\n",
       "      <td>670926.00</td>\n",
       "      <td>1727359754.00</td>\n",
       "    </tr>\n",
       "    <tr>\n",
       "      <th>1164</th>\n",
       "      <td>tt0369610</td>\n",
       "      <td>150000000.00</td>\n",
       "      <td>652270625.00</td>\n",
       "      <td>1670400637.00</td>\n",
       "      <td>PG-13</td>\n",
       "      <td>Jurassic World</td>\n",
       "      <td>2015.00</td>\n",
       "      <td>124.00</td>\n",
       "      <td>Action,Adventure,Sci-Fi</td>\n",
       "      <td>7.00</td>\n",
       "      <td>539338.00</td>\n",
       "      <td>1520400637.00</td>\n",
       "    </tr>\n",
       "    <tr>\n",
       "      <th>2136</th>\n",
       "      <td>tt6105098</td>\n",
       "      <td>260000000.00</td>\n",
       "      <td>543638043.00</td>\n",
       "      <td>1656943394.00</td>\n",
       "      <td>PG</td>\n",
       "      <td>The Lion King</td>\n",
       "      <td>2019.00</td>\n",
       "      <td>87.00</td>\n",
       "      <td>Adventure,Animation,Drama</td>\n",
       "      <td>nan</td>\n",
       "      <td>nan</td>\n",
       "      <td>1396943394.00</td>\n",
       "    </tr>\n",
       "  </tbody>\n",
       "</table>\n",
       "</div>"
      ],
      "text/plain": [
       "         tconst       budget        gross      ww_gross rating  \\\n",
       "780   tt4154796 356000000.00 858373000.00 2797800564.00  PG-13   \n",
       "176   tt2488496 245000000.00 936662225.00 2068223624.00  PG-13   \n",
       "779   tt4154756 321000000.00 678815482.00 2048359754.00  PG-13   \n",
       "1164  tt0369610 150000000.00 652270625.00 1670400637.00  PG-13   \n",
       "2136  tt6105098 260000000.00 543638043.00 1656943394.00     PG   \n",
       "\n",
       "                                   primary_title  start_year  runtime_minutes  \\\n",
       "780                            Avengers: Endgame     2019.00           181.00   \n",
       "176   Star Wars: Episode VII - The Force Awakens     2015.00           136.00   \n",
       "779                       Avengers: Infinity War     2018.00           149.00   \n",
       "1164                              Jurassic World     2015.00           124.00   \n",
       "2136                               The Lion King     2019.00            87.00   \n",
       "\n",
       "                         genres  averagerating  numvotes   Net_Revenue  \n",
       "780     Action,Adventure,Sci-Fi           8.80 441135.00 2441800564.00  \n",
       "176    Action,Adventure,Fantasy           8.00 784780.00 1823223624.00  \n",
       "779     Action,Adventure,Sci-Fi           8.50 670926.00 1727359754.00  \n",
       "1164    Action,Adventure,Sci-Fi           7.00 539338.00 1520400637.00  \n",
       "2136  Adventure,Animation,Drama            nan       nan 1396943394.00  "
      ]
     },
     "execution_count": 36,
     "metadata": {},
     "output_type": "execute_result"
    }
   ],
   "source": [
    "# Adding a 'net revenue' column by subtracting the budget from the worldwide gross.  \n",
    "\n",
    "imdb_full_df['Net_Revenue'] = imdb_full_df['ww_gross'] - imdb_full_df['budget']\n",
    "imdb_full_df.head()"
   ]
  },
  {
   "cell_type": "code",
   "execution_count": 37,
   "metadata": {
    "hidden": true
   },
   "outputs": [
    {
     "data": {
      "text/html": [
       "<div>\n",
       "<style scoped>\n",
       "    .dataframe tbody tr th:only-of-type {\n",
       "        vertical-align: middle;\n",
       "    }\n",
       "\n",
       "    .dataframe tbody tr th {\n",
       "        vertical-align: top;\n",
       "    }\n",
       "\n",
       "    .dataframe thead th {\n",
       "        text-align: right;\n",
       "    }\n",
       "</style>\n",
       "<table border=\"1\" class=\"dataframe\">\n",
       "  <thead>\n",
       "    <tr style=\"text-align: right;\">\n",
       "      <th></th>\n",
       "      <th>tconst</th>\n",
       "      <th>budget</th>\n",
       "      <th>gross</th>\n",
       "      <th>ww_gross</th>\n",
       "      <th>rating</th>\n",
       "      <th>primary_title</th>\n",
       "      <th>start_year</th>\n",
       "      <th>runtime_minutes</th>\n",
       "      <th>genres</th>\n",
       "      <th>averagerating</th>\n",
       "      <th>numvotes</th>\n",
       "      <th>Net_Revenue</th>\n",
       "      <th>ROI</th>\n",
       "    </tr>\n",
       "  </thead>\n",
       "  <tbody>\n",
       "    <tr>\n",
       "      <th>780</th>\n",
       "      <td>tt4154796</td>\n",
       "      <td>356000000.00</td>\n",
       "      <td>858373000.00</td>\n",
       "      <td>2797800564.00</td>\n",
       "      <td>PG-13</td>\n",
       "      <td>Avengers: Endgame</td>\n",
       "      <td>2019.00</td>\n",
       "      <td>181.00</td>\n",
       "      <td>Action,Adventure,Sci-Fi</td>\n",
       "      <td>8.80</td>\n",
       "      <td>441135.00</td>\n",
       "      <td>2441800564.00</td>\n",
       "      <td>685.90</td>\n",
       "    </tr>\n",
       "    <tr>\n",
       "      <th>176</th>\n",
       "      <td>tt2488496</td>\n",
       "      <td>245000000.00</td>\n",
       "      <td>936662225.00</td>\n",
       "      <td>2068223624.00</td>\n",
       "      <td>PG-13</td>\n",
       "      <td>Star Wars: Episode VII - The Force Awakens</td>\n",
       "      <td>2015.00</td>\n",
       "      <td>136.00</td>\n",
       "      <td>Action,Adventure,Fantasy</td>\n",
       "      <td>8.00</td>\n",
       "      <td>784780.00</td>\n",
       "      <td>1823223624.00</td>\n",
       "      <td>744.17</td>\n",
       "    </tr>\n",
       "    <tr>\n",
       "      <th>779</th>\n",
       "      <td>tt4154756</td>\n",
       "      <td>321000000.00</td>\n",
       "      <td>678815482.00</td>\n",
       "      <td>2048359754.00</td>\n",
       "      <td>PG-13</td>\n",
       "      <td>Avengers: Infinity War</td>\n",
       "      <td>2018.00</td>\n",
       "      <td>149.00</td>\n",
       "      <td>Action,Adventure,Sci-Fi</td>\n",
       "      <td>8.50</td>\n",
       "      <td>670926.00</td>\n",
       "      <td>1727359754.00</td>\n",
       "      <td>538.12</td>\n",
       "    </tr>\n",
       "    <tr>\n",
       "      <th>1164</th>\n",
       "      <td>tt0369610</td>\n",
       "      <td>150000000.00</td>\n",
       "      <td>652270625.00</td>\n",
       "      <td>1670400637.00</td>\n",
       "      <td>PG-13</td>\n",
       "      <td>Jurassic World</td>\n",
       "      <td>2015.00</td>\n",
       "      <td>124.00</td>\n",
       "      <td>Action,Adventure,Sci-Fi</td>\n",
       "      <td>7.00</td>\n",
       "      <td>539338.00</td>\n",
       "      <td>1520400637.00</td>\n",
       "      <td>1013.60</td>\n",
       "    </tr>\n",
       "    <tr>\n",
       "      <th>2136</th>\n",
       "      <td>tt6105098</td>\n",
       "      <td>260000000.00</td>\n",
       "      <td>543638043.00</td>\n",
       "      <td>1656943394.00</td>\n",
       "      <td>PG</td>\n",
       "      <td>The Lion King</td>\n",
       "      <td>2019.00</td>\n",
       "      <td>87.00</td>\n",
       "      <td>Adventure,Animation,Drama</td>\n",
       "      <td>nan</td>\n",
       "      <td>nan</td>\n",
       "      <td>1396943394.00</td>\n",
       "      <td>537.29</td>\n",
       "    </tr>\n",
       "  </tbody>\n",
       "</table>\n",
       "</div>"
      ],
      "text/plain": [
       "         tconst       budget        gross      ww_gross rating  \\\n",
       "780   tt4154796 356000000.00 858373000.00 2797800564.00  PG-13   \n",
       "176   tt2488496 245000000.00 936662225.00 2068223624.00  PG-13   \n",
       "779   tt4154756 321000000.00 678815482.00 2048359754.00  PG-13   \n",
       "1164  tt0369610 150000000.00 652270625.00 1670400637.00  PG-13   \n",
       "2136  tt6105098 260000000.00 543638043.00 1656943394.00     PG   \n",
       "\n",
       "                                   primary_title  start_year  runtime_minutes  \\\n",
       "780                            Avengers: Endgame     2019.00           181.00   \n",
       "176   Star Wars: Episode VII - The Force Awakens     2015.00           136.00   \n",
       "779                       Avengers: Infinity War     2018.00           149.00   \n",
       "1164                              Jurassic World     2015.00           124.00   \n",
       "2136                               The Lion King     2019.00            87.00   \n",
       "\n",
       "                         genres  averagerating  numvotes   Net_Revenue     ROI  \n",
       "780     Action,Adventure,Sci-Fi           8.80 441135.00 2441800564.00  685.90  \n",
       "176    Action,Adventure,Fantasy           8.00 784780.00 1823223624.00  744.17  \n",
       "779     Action,Adventure,Sci-Fi           8.50 670926.00 1727359754.00  538.12  \n",
       "1164    Action,Adventure,Sci-Fi           7.00 539338.00 1520400637.00 1013.60  \n",
       "2136  Adventure,Animation,Drama            nan       nan 1396943394.00  537.29  "
      ]
     },
     "execution_count": 37,
     "metadata": {},
     "output_type": "execute_result"
    }
   ],
   "source": [
    "# Adding a 'ROI' column by dividing the net revenue with the budget\n",
    "\n",
    "imdb_full_df['ROI'] = (imdb_full_df['Net_Revenue'] / imdb_full_df['budget']) * 100\n",
    "imdb_full_df.head()"
   ]
  },
  {
   "cell_type": "code",
   "execution_count": 38,
   "metadata": {
    "hidden": true
   },
   "outputs": [],
   "source": [
    "# Dealing with the genres column being a single string listing multiple genres.  \n"
   ]
  },
  {
   "cell_type": "code",
   "execution_count": 39,
   "metadata": {
    "hidden": true,
    "scrolled": true
   },
   "outputs": [],
   "source": [
    "#sum(imdb_full_df['genres'].isna())  #ran into a snag with some NaN's"
   ]
  },
  {
   "cell_type": "code",
   "execution_count": 40,
   "metadata": {
    "hidden": true
   },
   "outputs": [
    {
     "data": {
      "text/plain": [
       "0    Drama\n",
       "dtype: object"
      ]
     },
     "execution_count": 40,
     "metadata": {},
     "output_type": "execute_result"
    }
   ],
   "source": [
    "imdb_full_df['genres'].mode()"
   ]
  },
  {
   "cell_type": "code",
   "execution_count": 41,
   "metadata": {
    "hidden": true
   },
   "outputs": [],
   "source": [
    "imdb_full_df['genres'].fillna('Drama', inplace = True) #Fixed it"
   ]
  },
  {
   "cell_type": "code",
   "execution_count": 42,
   "metadata": {
    "hidden": true
   },
   "outputs": [
    {
     "data": {
      "text/plain": [
       "780       [Action, Adventure, Sci-Fi]\n",
       "176      [Action, Adventure, Fantasy]\n",
       "779       [Action, Adventure, Sci-Fi]\n",
       "1164      [Action, Adventure, Sci-Fi]\n",
       "2136    [Adventure, Animation, Drama]\n",
       "                    ...              \n",
       "247            [Comedy, Crime, Drama]\n",
       "965                   [Comedy, Drama]\n",
       "122                    [Crime, Drama]\n",
       "1219         [Comedy, Drama, Romance]\n",
       "712                       [Animation]\n",
       "Name: genre_list, Length: 2225, dtype: object"
      ]
     },
     "execution_count": 42,
     "metadata": {},
     "output_type": "execute_result"
    }
   ],
   "source": [
    "# Splitting the genre column into a list of separate strings\n",
    "\n",
    "imdb_full_df['genre_list'] = imdb_full_df['genres'].apply(lambda x: x.split(','))\n",
    "imdb_full_df['genre_list']\n"
   ]
  },
  {
   "cell_type": "code",
   "execution_count": 43,
   "metadata": {
    "hidden": true
   },
   "outputs": [
    {
     "data": {
      "text/html": [
       "<div>\n",
       "<style scoped>\n",
       "    .dataframe tbody tr th:only-of-type {\n",
       "        vertical-align: middle;\n",
       "    }\n",
       "\n",
       "    .dataframe tbody tr th {\n",
       "        vertical-align: top;\n",
       "    }\n",
       "\n",
       "    .dataframe thead th {\n",
       "        text-align: right;\n",
       "    }\n",
       "</style>\n",
       "<table border=\"1\" class=\"dataframe\">\n",
       "  <thead>\n",
       "    <tr style=\"text-align: right;\">\n",
       "      <th></th>\n",
       "      <th>tconst</th>\n",
       "      <th>budget</th>\n",
       "      <th>gross</th>\n",
       "      <th>ww_gross</th>\n",
       "      <th>rating</th>\n",
       "      <th>primary_title</th>\n",
       "      <th>start_year</th>\n",
       "      <th>runtime_minutes</th>\n",
       "      <th>averagerating</th>\n",
       "      <th>numvotes</th>\n",
       "      <th>Net_Revenue</th>\n",
       "      <th>ROI</th>\n",
       "      <th>genre_list</th>\n",
       "    </tr>\n",
       "  </thead>\n",
       "  <tbody>\n",
       "    <tr>\n",
       "      <th>780</th>\n",
       "      <td>tt4154796</td>\n",
       "      <td>356000000.00</td>\n",
       "      <td>858373000.00</td>\n",
       "      <td>2797800564.00</td>\n",
       "      <td>PG-13</td>\n",
       "      <td>Avengers: Endgame</td>\n",
       "      <td>2019.00</td>\n",
       "      <td>181.00</td>\n",
       "      <td>8.80</td>\n",
       "      <td>441135.00</td>\n",
       "      <td>2441800564.00</td>\n",
       "      <td>685.90</td>\n",
       "      <td>[Action, Adventure, Sci-Fi]</td>\n",
       "    </tr>\n",
       "    <tr>\n",
       "      <th>176</th>\n",
       "      <td>tt2488496</td>\n",
       "      <td>245000000.00</td>\n",
       "      <td>936662225.00</td>\n",
       "      <td>2068223624.00</td>\n",
       "      <td>PG-13</td>\n",
       "      <td>Star Wars: Episode VII - The Force Awakens</td>\n",
       "      <td>2015.00</td>\n",
       "      <td>136.00</td>\n",
       "      <td>8.00</td>\n",
       "      <td>784780.00</td>\n",
       "      <td>1823223624.00</td>\n",
       "      <td>744.17</td>\n",
       "      <td>[Action, Adventure, Fantasy]</td>\n",
       "    </tr>\n",
       "    <tr>\n",
       "      <th>779</th>\n",
       "      <td>tt4154756</td>\n",
       "      <td>321000000.00</td>\n",
       "      <td>678815482.00</td>\n",
       "      <td>2048359754.00</td>\n",
       "      <td>PG-13</td>\n",
       "      <td>Avengers: Infinity War</td>\n",
       "      <td>2018.00</td>\n",
       "      <td>149.00</td>\n",
       "      <td>8.50</td>\n",
       "      <td>670926.00</td>\n",
       "      <td>1727359754.00</td>\n",
       "      <td>538.12</td>\n",
       "      <td>[Action, Adventure, Sci-Fi]</td>\n",
       "    </tr>\n",
       "    <tr>\n",
       "      <th>1164</th>\n",
       "      <td>tt0369610</td>\n",
       "      <td>150000000.00</td>\n",
       "      <td>652270625.00</td>\n",
       "      <td>1670400637.00</td>\n",
       "      <td>PG-13</td>\n",
       "      <td>Jurassic World</td>\n",
       "      <td>2015.00</td>\n",
       "      <td>124.00</td>\n",
       "      <td>7.00</td>\n",
       "      <td>539338.00</td>\n",
       "      <td>1520400637.00</td>\n",
       "      <td>1013.60</td>\n",
       "      <td>[Action, Adventure, Sci-Fi]</td>\n",
       "    </tr>\n",
       "    <tr>\n",
       "      <th>2136</th>\n",
       "      <td>tt6105098</td>\n",
       "      <td>260000000.00</td>\n",
       "      <td>543638043.00</td>\n",
       "      <td>1656943394.00</td>\n",
       "      <td>PG</td>\n",
       "      <td>The Lion King</td>\n",
       "      <td>2019.00</td>\n",
       "      <td>87.00</td>\n",
       "      <td>nan</td>\n",
       "      <td>nan</td>\n",
       "      <td>1396943394.00</td>\n",
       "      <td>537.29</td>\n",
       "      <td>[Adventure, Animation, Drama]</td>\n",
       "    </tr>\n",
       "  </tbody>\n",
       "</table>\n",
       "</div>"
      ],
      "text/plain": [
       "         tconst       budget        gross      ww_gross rating  \\\n",
       "780   tt4154796 356000000.00 858373000.00 2797800564.00  PG-13   \n",
       "176   tt2488496 245000000.00 936662225.00 2068223624.00  PG-13   \n",
       "779   tt4154756 321000000.00 678815482.00 2048359754.00  PG-13   \n",
       "1164  tt0369610 150000000.00 652270625.00 1670400637.00  PG-13   \n",
       "2136  tt6105098 260000000.00 543638043.00 1656943394.00     PG   \n",
       "\n",
       "                                   primary_title  start_year  runtime_minutes  \\\n",
       "780                            Avengers: Endgame     2019.00           181.00   \n",
       "176   Star Wars: Episode VII - The Force Awakens     2015.00           136.00   \n",
       "779                       Avengers: Infinity War     2018.00           149.00   \n",
       "1164                              Jurassic World     2015.00           124.00   \n",
       "2136                               The Lion King     2019.00            87.00   \n",
       "\n",
       "      averagerating  numvotes   Net_Revenue     ROI  \\\n",
       "780            8.80 441135.00 2441800564.00  685.90   \n",
       "176            8.00 784780.00 1823223624.00  744.17   \n",
       "779            8.50 670926.00 1727359754.00  538.12   \n",
       "1164           7.00 539338.00 1520400637.00 1013.60   \n",
       "2136            nan       nan 1396943394.00  537.29   \n",
       "\n",
       "                         genre_list  \n",
       "780     [Action, Adventure, Sci-Fi]  \n",
       "176    [Action, Adventure, Fantasy]  \n",
       "779     [Action, Adventure, Sci-Fi]  \n",
       "1164    [Action, Adventure, Sci-Fi]  \n",
       "2136  [Adventure, Animation, Drama]  "
      ]
     },
     "execution_count": 43,
     "metadata": {},
     "output_type": "execute_result"
    }
   ],
   "source": [
    "# Removing pre-existing genres column. \n",
    "\n",
    "imdb_full_df.drop('genres', axis = 1, inplace = True)\n",
    "imdb_full_df.head()"
   ]
  },
  {
   "cell_type": "code",
   "execution_count": 44,
   "metadata": {
    "hidden": true,
    "scrolled": true
   },
   "outputs": [
    {
     "data": {
      "text/html": [
       "<div>\n",
       "<style scoped>\n",
       "    .dataframe tbody tr th:only-of-type {\n",
       "        vertical-align: middle;\n",
       "    }\n",
       "\n",
       "    .dataframe tbody tr th {\n",
       "        vertical-align: top;\n",
       "    }\n",
       "\n",
       "    .dataframe thead th {\n",
       "        text-align: right;\n",
       "    }\n",
       "</style>\n",
       "<table border=\"1\" class=\"dataframe\">\n",
       "  <thead>\n",
       "    <tr style=\"text-align: right;\">\n",
       "      <th></th>\n",
       "      <th>tconst</th>\n",
       "      <th>budget</th>\n",
       "      <th>gross</th>\n",
       "      <th>ww_gross</th>\n",
       "      <th>rating</th>\n",
       "      <th>primary_title</th>\n",
       "      <th>start_year</th>\n",
       "      <th>runtime_minutes</th>\n",
       "      <th>Net_Revenue</th>\n",
       "      <th>ROI</th>\n",
       "      <th>genre_list</th>\n",
       "    </tr>\n",
       "  </thead>\n",
       "  <tbody>\n",
       "    <tr>\n",
       "      <th>780</th>\n",
       "      <td>tt4154796</td>\n",
       "      <td>356000000.00</td>\n",
       "      <td>858373000.00</td>\n",
       "      <td>2797800564.00</td>\n",
       "      <td>PG-13</td>\n",
       "      <td>Avengers: Endgame</td>\n",
       "      <td>2019.00</td>\n",
       "      <td>181.00</td>\n",
       "      <td>2441800564.00</td>\n",
       "      <td>685.90</td>\n",
       "      <td>[Action, Adventure, Sci-Fi]</td>\n",
       "    </tr>\n",
       "    <tr>\n",
       "      <th>176</th>\n",
       "      <td>tt2488496</td>\n",
       "      <td>245000000.00</td>\n",
       "      <td>936662225.00</td>\n",
       "      <td>2068223624.00</td>\n",
       "      <td>PG-13</td>\n",
       "      <td>Star Wars: Episode VII - The Force Awakens</td>\n",
       "      <td>2015.00</td>\n",
       "      <td>136.00</td>\n",
       "      <td>1823223624.00</td>\n",
       "      <td>744.17</td>\n",
       "      <td>[Action, Adventure, Fantasy]</td>\n",
       "    </tr>\n",
       "    <tr>\n",
       "      <th>779</th>\n",
       "      <td>tt4154756</td>\n",
       "      <td>321000000.00</td>\n",
       "      <td>678815482.00</td>\n",
       "      <td>2048359754.00</td>\n",
       "      <td>PG-13</td>\n",
       "      <td>Avengers: Infinity War</td>\n",
       "      <td>2018.00</td>\n",
       "      <td>149.00</td>\n",
       "      <td>1727359754.00</td>\n",
       "      <td>538.12</td>\n",
       "      <td>[Action, Adventure, Sci-Fi]</td>\n",
       "    </tr>\n",
       "    <tr>\n",
       "      <th>1164</th>\n",
       "      <td>tt0369610</td>\n",
       "      <td>150000000.00</td>\n",
       "      <td>652270625.00</td>\n",
       "      <td>1670400637.00</td>\n",
       "      <td>PG-13</td>\n",
       "      <td>Jurassic World</td>\n",
       "      <td>2015.00</td>\n",
       "      <td>124.00</td>\n",
       "      <td>1520400637.00</td>\n",
       "      <td>1013.60</td>\n",
       "      <td>[Action, Adventure, Sci-Fi]</td>\n",
       "    </tr>\n",
       "    <tr>\n",
       "      <th>2136</th>\n",
       "      <td>tt6105098</td>\n",
       "      <td>260000000.00</td>\n",
       "      <td>543638043.00</td>\n",
       "      <td>1656943394.00</td>\n",
       "      <td>PG</td>\n",
       "      <td>The Lion King</td>\n",
       "      <td>2019.00</td>\n",
       "      <td>87.00</td>\n",
       "      <td>1396943394.00</td>\n",
       "      <td>537.29</td>\n",
       "      <td>[Adventure, Animation, Drama]</td>\n",
       "    </tr>\n",
       "  </tbody>\n",
       "</table>\n",
       "</div>"
      ],
      "text/plain": [
       "         tconst       budget        gross      ww_gross rating  \\\n",
       "780   tt4154796 356000000.00 858373000.00 2797800564.00  PG-13   \n",
       "176   tt2488496 245000000.00 936662225.00 2068223624.00  PG-13   \n",
       "779   tt4154756 321000000.00 678815482.00 2048359754.00  PG-13   \n",
       "1164  tt0369610 150000000.00 652270625.00 1670400637.00  PG-13   \n",
       "2136  tt6105098 260000000.00 543638043.00 1656943394.00     PG   \n",
       "\n",
       "                                   primary_title  start_year  runtime_minutes  \\\n",
       "780                            Avengers: Endgame     2019.00           181.00   \n",
       "176   Star Wars: Episode VII - The Force Awakens     2015.00           136.00   \n",
       "779                       Avengers: Infinity War     2018.00           149.00   \n",
       "1164                              Jurassic World     2015.00           124.00   \n",
       "2136                               The Lion King     2019.00            87.00   \n",
       "\n",
       "       Net_Revenue     ROI                     genre_list  \n",
       "780  2441800564.00  685.90    [Action, Adventure, Sci-Fi]  \n",
       "176  1823223624.00  744.17   [Action, Adventure, Fantasy]  \n",
       "779  1727359754.00  538.12    [Action, Adventure, Sci-Fi]  \n",
       "1164 1520400637.00 1013.60    [Action, Adventure, Sci-Fi]  \n",
       "2136 1396943394.00  537.29  [Adventure, Animation, Drama]  "
      ]
     },
     "execution_count": 44,
     "metadata": {},
     "output_type": "execute_result"
    }
   ],
   "source": [
    "# removing columns I'm not using. \n",
    "\n",
    "imdb_full_df.drop('averagerating', axis = 1, inplace = True)\n",
    "imdb_full_df.drop('numvotes', axis = 1, inplace = True)\n",
    "imdb_full_df.head()"
   ]
  },
  {
   "cell_type": "markdown",
   "metadata": {
    "hidden": true
   },
   "source": [
    "<b><i>Note:</b></i> \n",
    "Since we're looking to create a film studio that can compete with other large film companies, we must assume that movies will not be made with budgets under 1 million dollars, which is the Hollywood standard for a low-budget movie. (Most major studios consider $30 million to be low budget!)"
   ]
  },
  {
   "cell_type": "code",
   "execution_count": 45,
   "metadata": {
    "hidden": true
   },
   "outputs": [
    {
     "data": {
      "text/plain": [
       "(1968, 11)"
      ]
     },
     "execution_count": 45,
     "metadata": {},
     "output_type": "execute_result"
    }
   ],
   "source": [
    "# remove movies where budget falls under $1 million. \n",
    "\n",
    "imdb_full_df = imdb_full_df[imdb_full_df['budget'] >= 1000000]  \n",
    "\n",
    "        \n",
    "imdb_full_df.shape"
   ]
  },
  {
   "cell_type": "code",
   "execution_count": 46,
   "metadata": {
    "hidden": true,
    "scrolled": true
   },
   "outputs": [
    {
     "data": {
      "text/html": [
       "<div>\n",
       "<style scoped>\n",
       "    .dataframe tbody tr th:only-of-type {\n",
       "        vertical-align: middle;\n",
       "    }\n",
       "\n",
       "    .dataframe tbody tr th {\n",
       "        vertical-align: top;\n",
       "    }\n",
       "\n",
       "    .dataframe thead th {\n",
       "        text-align: right;\n",
       "    }\n",
       "</style>\n",
       "<table border=\"1\" class=\"dataframe\">\n",
       "  <thead>\n",
       "    <tr style=\"text-align: right;\">\n",
       "      <th></th>\n",
       "      <th>tconst</th>\n",
       "      <th>budget</th>\n",
       "      <th>gross</th>\n",
       "      <th>ww_gross</th>\n",
       "      <th>rating</th>\n",
       "      <th>primary_title</th>\n",
       "      <th>start_year</th>\n",
       "      <th>runtime_minutes</th>\n",
       "      <th>Net_Revenue</th>\n",
       "      <th>ROI</th>\n",
       "      <th>genre_list</th>\n",
       "    </tr>\n",
       "  </thead>\n",
       "  <tbody>\n",
       "    <tr>\n",
       "      <th>164</th>\n",
       "      <td>tt2460506</td>\n",
       "      <td>2100000.00</td>\n",
       "      <td>3330.00</td>\n",
       "      <td>3330.00</td>\n",
       "      <td>R</td>\n",
       "      <td>Mi America</td>\n",
       "      <td>2015.00</td>\n",
       "      <td>90.00</td>\n",
       "      <td>-2096670.00</td>\n",
       "      <td>-99.84</td>\n",
       "      <td>[Crime, Drama]</td>\n",
       "    </tr>\n",
       "    <tr>\n",
       "      <th>502</th>\n",
       "      <td>tt5143890</td>\n",
       "      <td>18000000.00</td>\n",
       "      <td>3259.00</td>\n",
       "      <td>3259.00</td>\n",
       "      <td>R</td>\n",
       "      <td>Justice</td>\n",
       "      <td>2017.00</td>\n",
       "      <td>92.00</td>\n",
       "      <td>-17996741.00</td>\n",
       "      <td>-99.98</td>\n",
       "      <td>[Western]</td>\n",
       "    </tr>\n",
       "    <tr>\n",
       "      <th>130</th>\n",
       "      <td>tt2387589</td>\n",
       "      <td>28000000.00</td>\n",
       "      <td>3124.00</td>\n",
       "      <td>3124.00</td>\n",
       "      <td>R</td>\n",
       "      <td>The Girl on the Train</td>\n",
       "      <td>2013.00</td>\n",
       "      <td>80.00</td>\n",
       "      <td>-27996876.00</td>\n",
       "      <td>-99.99</td>\n",
       "      <td>[Thriller]</td>\n",
       "    </tr>\n",
       "    <tr>\n",
       "      <th>965</th>\n",
       "      <td>tt1885300</td>\n",
       "      <td>1500000.00</td>\n",
       "      <td>1938.00</td>\n",
       "      <td>1938.00</td>\n",
       "      <td>PG-13</td>\n",
       "      <td>Best Man Down</td>\n",
       "      <td>2012.00</td>\n",
       "      <td>89.00</td>\n",
       "      <td>-1498062.00</td>\n",
       "      <td>-99.87</td>\n",
       "      <td>[Comedy, Drama]</td>\n",
       "    </tr>\n",
       "    <tr>\n",
       "      <th>1219</th>\n",
       "      <td>tt0762138</td>\n",
       "      <td>2500000.00</td>\n",
       "      <td>663.00</td>\n",
       "      <td>663.00</td>\n",
       "      <td>R</td>\n",
       "      <td>Syrup</td>\n",
       "      <td>2013.00</td>\n",
       "      <td>90.00</td>\n",
       "      <td>-2499337.00</td>\n",
       "      <td>-99.97</td>\n",
       "      <td>[Comedy, Drama, Romance]</td>\n",
       "    </tr>\n",
       "  </tbody>\n",
       "</table>\n",
       "</div>"
      ],
      "text/plain": [
       "         tconst      budget   gross  ww_gross rating          primary_title  \\\n",
       "164   tt2460506  2100000.00 3330.00   3330.00      R             Mi America   \n",
       "502   tt5143890 18000000.00 3259.00   3259.00      R                Justice   \n",
       "130   tt2387589 28000000.00 3124.00   3124.00      R  The Girl on the Train   \n",
       "965   tt1885300  1500000.00 1938.00   1938.00  PG-13          Best Man Down   \n",
       "1219  tt0762138  2500000.00  663.00    663.00      R                  Syrup   \n",
       "\n",
       "      start_year  runtime_minutes  Net_Revenue    ROI  \\\n",
       "164      2015.00            90.00  -2096670.00 -99.84   \n",
       "502      2017.00            92.00 -17996741.00 -99.98   \n",
       "130      2013.00            80.00 -27996876.00 -99.99   \n",
       "965      2012.00            89.00  -1498062.00 -99.87   \n",
       "1219     2013.00            90.00  -2499337.00 -99.97   \n",
       "\n",
       "                    genre_list  \n",
       "164             [Crime, Drama]  \n",
       "502                  [Western]  \n",
       "130                 [Thriller]  \n",
       "965            [Comedy, Drama]  \n",
       "1219  [Comedy, Drama, Romance]  "
      ]
     },
     "execution_count": 46,
     "metadata": {},
     "output_type": "execute_result"
    }
   ],
   "source": [
    "imdb_full_df.tail()"
   ]
  },
  {
   "cell_type": "markdown",
   "metadata": {
    "hidden": true
   },
   "source": [
    "The final dataframe contains informationf or 1968 films."
   ]
  },
  {
   "cell_type": "markdown",
   "metadata": {},
   "source": [
    "# Analysis"
   ]
  },
  {
   "cell_type": "markdown",
   "metadata": {},
   "source": [
    "## Q1. Is there a correlation between a film's budget and it's performance at the box office?"
   ]
  },
  {
   "cell_type": "code",
   "execution_count": 47,
   "metadata": {},
   "outputs": [
    {
     "data": {
      "text/html": [
       "<div>\n",
       "<style scoped>\n",
       "    .dataframe tbody tr th:only-of-type {\n",
       "        vertical-align: middle;\n",
       "    }\n",
       "\n",
       "    .dataframe tbody tr th {\n",
       "        vertical-align: top;\n",
       "    }\n",
       "\n",
       "    .dataframe thead th {\n",
       "        text-align: right;\n",
       "    }\n",
       "</style>\n",
       "<table border=\"1\" class=\"dataframe\">\n",
       "  <thead>\n",
       "    <tr style=\"text-align: right;\">\n",
       "      <th></th>\n",
       "      <th>tconst</th>\n",
       "      <th>budget</th>\n",
       "      <th>gross</th>\n",
       "      <th>ww_gross</th>\n",
       "      <th>rating</th>\n",
       "      <th>primary_title</th>\n",
       "      <th>start_year</th>\n",
       "      <th>runtime_minutes</th>\n",
       "      <th>Net_Revenue</th>\n",
       "      <th>ROI</th>\n",
       "      <th>genre_list</th>\n",
       "    </tr>\n",
       "  </thead>\n",
       "  <tbody>\n",
       "    <tr>\n",
       "      <th>780</th>\n",
       "      <td>tt4154796</td>\n",
       "      <td>356000000.00</td>\n",
       "      <td>858373000.00</td>\n",
       "      <td>2797800564.00</td>\n",
       "      <td>PG-13</td>\n",
       "      <td>Avengers: Endgame</td>\n",
       "      <td>2019.00</td>\n",
       "      <td>181.00</td>\n",
       "      <td>2441800564.00</td>\n",
       "      <td>685.90</td>\n",
       "      <td>[Action, Adventure, Sci-Fi]</td>\n",
       "    </tr>\n",
       "    <tr>\n",
       "      <th>176</th>\n",
       "      <td>tt2488496</td>\n",
       "      <td>245000000.00</td>\n",
       "      <td>936662225.00</td>\n",
       "      <td>2068223624.00</td>\n",
       "      <td>PG-13</td>\n",
       "      <td>Star Wars: Episode VII - The Force Awakens</td>\n",
       "      <td>2015.00</td>\n",
       "      <td>136.00</td>\n",
       "      <td>1823223624.00</td>\n",
       "      <td>744.17</td>\n",
       "      <td>[Action, Adventure, Fantasy]</td>\n",
       "    </tr>\n",
       "    <tr>\n",
       "      <th>779</th>\n",
       "      <td>tt4154756</td>\n",
       "      <td>321000000.00</td>\n",
       "      <td>678815482.00</td>\n",
       "      <td>2048359754.00</td>\n",
       "      <td>PG-13</td>\n",
       "      <td>Avengers: Infinity War</td>\n",
       "      <td>2018.00</td>\n",
       "      <td>149.00</td>\n",
       "      <td>1727359754.00</td>\n",
       "      <td>538.12</td>\n",
       "      <td>[Action, Adventure, Sci-Fi]</td>\n",
       "    </tr>\n",
       "    <tr>\n",
       "      <th>1164</th>\n",
       "      <td>tt0369610</td>\n",
       "      <td>150000000.00</td>\n",
       "      <td>652270625.00</td>\n",
       "      <td>1670400637.00</td>\n",
       "      <td>PG-13</td>\n",
       "      <td>Jurassic World</td>\n",
       "      <td>2015.00</td>\n",
       "      <td>124.00</td>\n",
       "      <td>1520400637.00</td>\n",
       "      <td>1013.60</td>\n",
       "      <td>[Action, Adventure, Sci-Fi]</td>\n",
       "    </tr>\n",
       "    <tr>\n",
       "      <th>2136</th>\n",
       "      <td>tt6105098</td>\n",
       "      <td>260000000.00</td>\n",
       "      <td>543638043.00</td>\n",
       "      <td>1656943394.00</td>\n",
       "      <td>PG</td>\n",
       "      <td>The Lion King</td>\n",
       "      <td>2019.00</td>\n",
       "      <td>87.00</td>\n",
       "      <td>1396943394.00</td>\n",
       "      <td>537.29</td>\n",
       "      <td>[Adventure, Animation, Drama]</td>\n",
       "    </tr>\n",
       "  </tbody>\n",
       "</table>\n",
       "</div>"
      ],
      "text/plain": [
       "         tconst       budget        gross      ww_gross rating  \\\n",
       "780   tt4154796 356000000.00 858373000.00 2797800564.00  PG-13   \n",
       "176   tt2488496 245000000.00 936662225.00 2068223624.00  PG-13   \n",
       "779   tt4154756 321000000.00 678815482.00 2048359754.00  PG-13   \n",
       "1164  tt0369610 150000000.00 652270625.00 1670400637.00  PG-13   \n",
       "2136  tt6105098 260000000.00 543638043.00 1656943394.00     PG   \n",
       "\n",
       "                                   primary_title  start_year  runtime_minutes  \\\n",
       "780                            Avengers: Endgame     2019.00           181.00   \n",
       "176   Star Wars: Episode VII - The Force Awakens     2015.00           136.00   \n",
       "779                       Avengers: Infinity War     2018.00           149.00   \n",
       "1164                              Jurassic World     2015.00           124.00   \n",
       "2136                               The Lion King     2019.00            87.00   \n",
       "\n",
       "       Net_Revenue     ROI                     genre_list  \n",
       "780  2441800564.00  685.90    [Action, Adventure, Sci-Fi]  \n",
       "176  1823223624.00  744.17   [Action, Adventure, Fantasy]  \n",
       "779  1727359754.00  538.12    [Action, Adventure, Sci-Fi]  \n",
       "1164 1520400637.00 1013.60    [Action, Adventure, Sci-Fi]  \n",
       "2136 1396943394.00  537.29  [Adventure, Animation, Drama]  "
      ]
     },
     "execution_count": 47,
     "metadata": {},
     "output_type": "execute_result"
    }
   ],
   "source": [
    "imdb_full_df.head()"
   ]
  },
  {
   "cell_type": "code",
   "execution_count": 48,
   "metadata": {
    "scrolled": true
   },
   "outputs": [
    {
     "data": {
      "text/html": [
       "<div>\n",
       "<style scoped>\n",
       "    .dataframe tbody tr th:only-of-type {\n",
       "        vertical-align: middle;\n",
       "    }\n",
       "\n",
       "    .dataframe tbody tr th {\n",
       "        vertical-align: top;\n",
       "    }\n",
       "\n",
       "    .dataframe thead th {\n",
       "        text-align: right;\n",
       "    }\n",
       "</style>\n",
       "<table border=\"1\" class=\"dataframe\">\n",
       "  <thead>\n",
       "    <tr style=\"text-align: right;\">\n",
       "      <th></th>\n",
       "      <th>primary_title</th>\n",
       "      <th>budget</th>\n",
       "      <th>Net_Revenue</th>\n",
       "      <th>ROI</th>\n",
       "      <th>ww_gross</th>\n",
       "    </tr>\n",
       "  </thead>\n",
       "  <tbody>\n",
       "    <tr>\n",
       "      <th>780</th>\n",
       "      <td>Avengers: Endgame</td>\n",
       "      <td>356000000.00</td>\n",
       "      <td>2441800564.00</td>\n",
       "      <td>685.90</td>\n",
       "      <td>2797800564.00</td>\n",
       "    </tr>\n",
       "    <tr>\n",
       "      <th>176</th>\n",
       "      <td>Star Wars: Episode VII - The Force Awakens</td>\n",
       "      <td>245000000.00</td>\n",
       "      <td>1823223624.00</td>\n",
       "      <td>744.17</td>\n",
       "      <td>2068223624.00</td>\n",
       "    </tr>\n",
       "    <tr>\n",
       "      <th>779</th>\n",
       "      <td>Avengers: Infinity War</td>\n",
       "      <td>321000000.00</td>\n",
       "      <td>1727359754.00</td>\n",
       "      <td>538.12</td>\n",
       "      <td>2048359754.00</td>\n",
       "    </tr>\n",
       "    <tr>\n",
       "      <th>1164</th>\n",
       "      <td>Jurassic World</td>\n",
       "      <td>150000000.00</td>\n",
       "      <td>1520400637.00</td>\n",
       "      <td>1013.60</td>\n",
       "      <td>1670400637.00</td>\n",
       "    </tr>\n",
       "    <tr>\n",
       "      <th>2136</th>\n",
       "      <td>The Lion King</td>\n",
       "      <td>260000000.00</td>\n",
       "      <td>1396943394.00</td>\n",
       "      <td>537.29</td>\n",
       "      <td>1656943394.00</td>\n",
       "    </tr>\n",
       "  </tbody>\n",
       "</table>\n",
       "</div>"
      ],
      "text/plain": [
       "                                   primary_title       budget   Net_Revenue  \\\n",
       "780                            Avengers: Endgame 356000000.00 2441800564.00   \n",
       "176   Star Wars: Episode VII - The Force Awakens 245000000.00 1823223624.00   \n",
       "779                       Avengers: Infinity War 321000000.00 1727359754.00   \n",
       "1164                              Jurassic World 150000000.00 1520400637.00   \n",
       "2136                               The Lion King 260000000.00 1396943394.00   \n",
       "\n",
       "         ROI      ww_gross  \n",
       "780   685.90 2797800564.00  \n",
       "176   744.17 2068223624.00  \n",
       "779   538.12 2048359754.00  \n",
       "1164 1013.60 1670400637.00  \n",
       "2136  537.29 1656943394.00  "
      ]
     },
     "execution_count": 48,
     "metadata": {},
     "output_type": "execute_result"
    }
   ],
   "source": [
    "# Creating a smaller dataframe with title, budget, and net revenue.\n",
    "\n",
    "budget_roi_df = imdb_full_df.loc[:, ['primary_title', 'budget', 'Net_Revenue', 'ROI', 'ww_gross']]\n",
    "budget_roi_df.head()\n",
    "                                 "
   ]
  },
  {
   "cell_type": "code",
   "execution_count": 49,
   "metadata": {
    "scrolled": true
   },
   "outputs": [
    {
     "data": {
      "text/html": [
       "<div>\n",
       "<style scoped>\n",
       "    .dataframe tbody tr th:only-of-type {\n",
       "        vertical-align: middle;\n",
       "    }\n",
       "\n",
       "    .dataframe tbody tr th {\n",
       "        vertical-align: top;\n",
       "    }\n",
       "\n",
       "    .dataframe thead th {\n",
       "        text-align: right;\n",
       "    }\n",
       "</style>\n",
       "<table border=\"1\" class=\"dataframe\">\n",
       "  <thead>\n",
       "    <tr style=\"text-align: right;\">\n",
       "      <th></th>\n",
       "      <th>budget</th>\n",
       "      <th>Net_Revenue</th>\n",
       "      <th>ROI</th>\n",
       "      <th>ww_gross</th>\n",
       "    </tr>\n",
       "  </thead>\n",
       "  <tbody>\n",
       "    <tr>\n",
       "      <th>count</th>\n",
       "      <td>1968.00</td>\n",
       "      <td>1968.00</td>\n",
       "      <td>1968.00</td>\n",
       "      <td>1968.00</td>\n",
       "    </tr>\n",
       "    <tr>\n",
       "      <th>mean</th>\n",
       "      <td>42263441.46</td>\n",
       "      <td>94500947.26</td>\n",
       "      <td>235.37</td>\n",
       "      <td>136764388.72</td>\n",
       "    </tr>\n",
       "    <tr>\n",
       "      <th>std</th>\n",
       "      <td>52814726.44</td>\n",
       "      <td>202951502.27</td>\n",
       "      <td>550.83</td>\n",
       "      <td>241492763.70</td>\n",
       "    </tr>\n",
       "    <tr>\n",
       "      <th>min</th>\n",
       "      <td>1000000.00</td>\n",
       "      <td>-297460960.00</td>\n",
       "      <td>-99.99</td>\n",
       "      <td>663.00</td>\n",
       "    </tr>\n",
       "    <tr>\n",
       "      <th>25%</th>\n",
       "      <td>8500000.00</td>\n",
       "      <td>-1911619.25</td>\n",
       "      <td>-31.38</td>\n",
       "      <td>8156312.00</td>\n",
       "    </tr>\n",
       "    <tr>\n",
       "      <th>50%</th>\n",
       "      <td>21000000.00</td>\n",
       "      <td>21635963.50</td>\n",
       "      <td>107.28</td>\n",
       "      <td>47198321.50</td>\n",
       "    </tr>\n",
       "    <tr>\n",
       "      <th>75%</th>\n",
       "      <td>50000000.00</td>\n",
       "      <td>95508765.75</td>\n",
       "      <td>303.21</td>\n",
       "      <td>149306619.00</td>\n",
       "    </tr>\n",
       "    <tr>\n",
       "      <th>max</th>\n",
       "      <td>356000000.00</td>\n",
       "      <td>2441800564.00</td>\n",
       "      <td>10075.85</td>\n",
       "      <td>2797800564.00</td>\n",
       "    </tr>\n",
       "  </tbody>\n",
       "</table>\n",
       "</div>"
      ],
      "text/plain": [
       "            budget   Net_Revenue      ROI      ww_gross\n",
       "count      1968.00       1968.00  1968.00       1968.00\n",
       "mean   42263441.46   94500947.26   235.37  136764388.72\n",
       "std    52814726.44  202951502.27   550.83  241492763.70\n",
       "min     1000000.00 -297460960.00   -99.99        663.00\n",
       "25%     8500000.00   -1911619.25   -31.38    8156312.00\n",
       "50%    21000000.00   21635963.50   107.28   47198321.50\n",
       "75%    50000000.00   95508765.75   303.21  149306619.00\n",
       "max   356000000.00 2441800564.00 10075.85 2797800564.00"
      ]
     },
     "execution_count": 49,
     "metadata": {},
     "output_type": "execute_result"
    }
   ],
   "source": [
    "budget_roi_df.describe()"
   ]
  },
  {
   "cell_type": "code",
   "execution_count": 50,
   "metadata": {
    "scrolled": true
   },
   "outputs": [
    {
     "data": {
      "text/html": [
       "<div>\n",
       "<style scoped>\n",
       "    .dataframe tbody tr th:only-of-type {\n",
       "        vertical-align: middle;\n",
       "    }\n",
       "\n",
       "    .dataframe tbody tr th {\n",
       "        vertical-align: top;\n",
       "    }\n",
       "\n",
       "    .dataframe thead th {\n",
       "        text-align: right;\n",
       "    }\n",
       "</style>\n",
       "<table border=\"1\" class=\"dataframe\">\n",
       "  <thead>\n",
       "    <tr style=\"text-align: right;\">\n",
       "      <th></th>\n",
       "      <th>budget</th>\n",
       "      <th>Net_Revenue</th>\n",
       "      <th>ROI</th>\n",
       "      <th>ww_gross</th>\n",
       "    </tr>\n",
       "  </thead>\n",
       "  <tbody>\n",
       "    <tr>\n",
       "      <th>budget</th>\n",
       "      <td>1.00</td>\n",
       "      <td>0.67</td>\n",
       "      <td>-0.02</td>\n",
       "      <td>0.78</td>\n",
       "    </tr>\n",
       "    <tr>\n",
       "      <th>Net_Revenue</th>\n",
       "      <td>0.67</td>\n",
       "      <td>1.00</td>\n",
       "      <td>0.29</td>\n",
       "      <td>0.99</td>\n",
       "    </tr>\n",
       "    <tr>\n",
       "      <th>ROI</th>\n",
       "      <td>-0.02</td>\n",
       "      <td>0.29</td>\n",
       "      <td>1.00</td>\n",
       "      <td>0.24</td>\n",
       "    </tr>\n",
       "    <tr>\n",
       "      <th>ww_gross</th>\n",
       "      <td>0.78</td>\n",
       "      <td>0.99</td>\n",
       "      <td>0.24</td>\n",
       "      <td>1.00</td>\n",
       "    </tr>\n",
       "  </tbody>\n",
       "</table>\n",
       "</div>"
      ],
      "text/plain": [
       "             budget  Net_Revenue   ROI  ww_gross\n",
       "budget         1.00         0.67 -0.02      0.78\n",
       "Net_Revenue    0.67         1.00  0.29      0.99\n",
       "ROI           -0.02         0.29  1.00      0.24\n",
       "ww_gross       0.78         0.99  0.24      1.00"
      ]
     },
     "execution_count": 50,
     "metadata": {},
     "output_type": "execute_result"
    }
   ],
   "source": [
    "#Checking the correlation between budget and revenue. \n",
    "\n",
    "budget_roi_df.corr()"
   ]
  },
  {
   "cell_type": "code",
   "execution_count": 51,
   "metadata": {},
   "outputs": [],
   "source": [
    "# Dropping 5 films with NaN's for title. \n",
    "\n",
    "budget_roi_df = budget_roi_df.dropna()"
   ]
  },
  {
   "cell_type": "code",
   "execution_count": 52,
   "metadata": {
    "scrolled": true
   },
   "outputs": [
    {
     "data": {
      "text/html": [
       "<div>\n",
       "<style scoped>\n",
       "    .dataframe tbody tr th:only-of-type {\n",
       "        vertical-align: middle;\n",
       "    }\n",
       "\n",
       "    .dataframe tbody tr th {\n",
       "        vertical-align: top;\n",
       "    }\n",
       "\n",
       "    .dataframe thead th {\n",
       "        text-align: right;\n",
       "    }\n",
       "</style>\n",
       "<table border=\"1\" class=\"dataframe\">\n",
       "  <thead>\n",
       "    <tr style=\"text-align: right;\">\n",
       "      <th></th>\n",
       "      <th>primary_title</th>\n",
       "      <th>budget</th>\n",
       "      <th>Net_Revenue</th>\n",
       "      <th>ROI</th>\n",
       "      <th>ww_gross</th>\n",
       "    </tr>\n",
       "  </thead>\n",
       "  <tbody>\n",
       "    <tr>\n",
       "      <th>780</th>\n",
       "      <td>Avengers: Endgame</td>\n",
       "      <td>356000000.00</td>\n",
       "      <td>2441800564.00</td>\n",
       "      <td>685.90</td>\n",
       "      <td>2797800564.00</td>\n",
       "    </tr>\n",
       "    <tr>\n",
       "      <th>176</th>\n",
       "      <td>Star Wars: Episode VII - The Force Awakens</td>\n",
       "      <td>245000000.00</td>\n",
       "      <td>1823223624.00</td>\n",
       "      <td>744.17</td>\n",
       "      <td>2068223624.00</td>\n",
       "    </tr>\n",
       "    <tr>\n",
       "      <th>779</th>\n",
       "      <td>Avengers: Infinity War</td>\n",
       "      <td>321000000.00</td>\n",
       "      <td>1727359754.00</td>\n",
       "      <td>538.12</td>\n",
       "      <td>2048359754.00</td>\n",
       "    </tr>\n",
       "    <tr>\n",
       "      <th>1164</th>\n",
       "      <td>Jurassic World</td>\n",
       "      <td>150000000.00</td>\n",
       "      <td>1520400637.00</td>\n",
       "      <td>1013.60</td>\n",
       "      <td>1670400637.00</td>\n",
       "    </tr>\n",
       "    <tr>\n",
       "      <th>2136</th>\n",
       "      <td>The Lion King</td>\n",
       "      <td>260000000.00</td>\n",
       "      <td>1396943394.00</td>\n",
       "      <td>537.29</td>\n",
       "      <td>1656943394.00</td>\n",
       "    </tr>\n",
       "  </tbody>\n",
       "</table>\n",
       "</div>"
      ],
      "text/plain": [
       "                                   primary_title       budget   Net_Revenue  \\\n",
       "780                            Avengers: Endgame 356000000.00 2441800564.00   \n",
       "176   Star Wars: Episode VII - The Force Awakens 245000000.00 1823223624.00   \n",
       "779                       Avengers: Infinity War 321000000.00 1727359754.00   \n",
       "1164                              Jurassic World 150000000.00 1520400637.00   \n",
       "2136                               The Lion King 260000000.00 1396943394.00   \n",
       "\n",
       "         ROI      ww_gross  \n",
       "780   685.90 2797800564.00  \n",
       "176   744.17 2068223624.00  \n",
       "779   538.12 2048359754.00  \n",
       "1164 1013.60 1670400637.00  \n",
       "2136  537.29 1656943394.00  "
      ]
     },
     "execution_count": 52,
     "metadata": {},
     "output_type": "execute_result"
    }
   ],
   "source": [
    "# Sorting by worldwide gross\n",
    "\n",
    "budget_roi_df = budget_roi_df.sort_values('ww_gross', ascending = False) \n",
    "budget_roi_df.head()"
   ]
  },
  {
   "cell_type": "code",
   "execution_count": 53,
   "metadata": {},
   "outputs": [
    {
     "data": {
      "text/plain": [
       "(1964, 5)"
      ]
     },
     "execution_count": 53,
     "metadata": {},
     "output_type": "execute_result"
    }
   ],
   "source": [
    "budget_roi_df.shape"
   ]
  },
  {
   "cell_type": "code",
   "execution_count": 54,
   "metadata": {},
   "outputs": [
    {
     "data": {
      "text/plain": [
       "count        1964.00\n",
       "mean     42323041.14\n",
       "std      52845338.21\n",
       "min       1000000.00\n",
       "25%       8500000.00\n",
       "50%      21000000.00\n",
       "75%      50000000.00\n",
       "max     356000000.00\n",
       "Name: budget, dtype: float64"
      ]
     },
     "execution_count": 54,
     "metadata": {},
     "output_type": "execute_result"
    }
   ],
   "source": [
    "budget_roi_df['budget'].describe()"
   ]
  },
  {
   "cell_type": "code",
   "execution_count": 55,
   "metadata": {},
   "outputs": [
    {
     "data": {
      "text/plain": [
       "count    1964.00\n",
       "mean      235.81\n",
       "std       551.26\n",
       "min       -99.99\n",
       "25%       -31.25\n",
       "50%       107.59\n",
       "75%       303.60\n",
       "max     10075.85\n",
       "Name: ROI, dtype: float64"
      ]
     },
     "execution_count": 55,
     "metadata": {},
     "output_type": "execute_result"
    }
   ],
   "source": [
    "budget_roi_df['ROI'].describe()"
   ]
  },
  {
   "cell_type": "markdown",
   "metadata": {},
   "source": [
    "### Fig. 1 - Budget vs. Revenue\n",
    "In the figure below, the goal is to see if there exists a \"sweet spot\" in terms of a production budget where we can maximize the rate of return.  The top 100 highest grossing films are represented and the larger the plot point, the higher the net profit.  As we can see, outside of a handful of \"home runs\", the area of the most consistent rate of return is where <b> the production budget falls between 150 and 200 million dollars. </b>"
   ]
  },
  {
   "cell_type": "code",
   "execution_count": 126,
   "metadata": {
    "scrolled": false
   },
   "outputs": [
    {
     "data": {
      "image/png": "[encoded data removed]",
      "text/plain": [
       "<Figure size 720x576 with 1 Axes>"
      ]
     },
     "metadata": {},
     "output_type": "display_data"
    }
   ],
   "source": [
    "#Created a scatter plot showing the relationhip between budget and revenue across the top 100 highest grossing films.\n",
    "\n",
    "f,ax = plt.subplots(figsize = (10,8))\n",
    "ax = sns.set_context(\"talk\")\n",
    "ax = sns.set_style(\"darkgrid\")\n",
    "ax = sns.scatterplot(x = 'budget', y = 'Net_Revenue', ci = 68, data = budget_roi_df.head(100));\n",
    "ax.ticklabel_format(style='plain')\n",
    "ax.set_title('Budget vs. Net Revenue in Top 100 Highest Grossing Films')\n",
    "ax.set_xlabel('Production Budget')\n",
    "ax.set_ylabel('Net Revenue')\n",
    "\n",
    "fmt = '${x:,.0f}'\n",
    "tick = mtick.StrMethodFormatter(fmt)\n",
    "ax.yaxis.set_major_formatter(tick)\n",
    "ax.xaxis.set_major_formatter(tick)\n",
    "plt.xticks(rotation = 45);\n"
   ]
  },
  {
   "cell_type": "code",
   "execution_count": 57,
   "metadata": {},
   "outputs": [],
   "source": [
    "# Z Score Experiment - Carry on\n",
    "# z = np.abs(stats.zscore(budget_roi_df['budget']))\n",
    "# too_low_budget = z > 3 \n",
    "# budget_roi_df.loc[too_low_budget]"
   ]
  },
  {
   "cell_type": "code",
   "execution_count": 58,
   "metadata": {},
   "outputs": [
    {
     "data": {
      "text/plain": [
       "(142, 5)"
      ]
     },
     "execution_count": 58,
     "metadata": {},
     "output_type": "execute_result"
    }
   ],
   "source": [
    "# Crudely filtering the budgets to range between 150 and 200 million - part 1 \n",
    "\n",
    "budget_roi_df_new = budget_roi_df[budget_roi_df['budget'] >= 150000000]\n",
    "budget_roi_df_new.shape"
   ]
  },
  {
   "cell_type": "code",
   "execution_count": 59,
   "metadata": {},
   "outputs": [
    {
     "data": {
      "text/plain": [
       "(111, 5)"
      ]
     },
     "execution_count": 59,
     "metadata": {},
     "output_type": "execute_result"
    }
   ],
   "source": [
    "# Crudely filtering the budgets to range between 150 and 200 million - part 2 \n",
    "\n",
    "budget_roi_df_new = budget_roi_df_new[budget_roi_df_new['budget'] <= 200000000]\n",
    "budget_roi_df_new.shape"
   ]
  },
  {
   "cell_type": "code",
   "execution_count": 60,
   "metadata": {
    "scrolled": true
   },
   "outputs": [
    {
     "data": {
      "text/html": [
       "<div>\n",
       "<style scoped>\n",
       "    .dataframe tbody tr th:only-of-type {\n",
       "        vertical-align: middle;\n",
       "    }\n",
       "\n",
       "    .dataframe tbody tr th {\n",
       "        vertical-align: top;\n",
       "    }\n",
       "\n",
       "    .dataframe thead th {\n",
       "        text-align: right;\n",
       "    }\n",
       "</style>\n",
       "<table border=\"1\" class=\"dataframe\">\n",
       "  <thead>\n",
       "    <tr style=\"text-align: right;\">\n",
       "      <th></th>\n",
       "      <th>primary_title</th>\n",
       "      <th>budget</th>\n",
       "      <th>Net_Revenue</th>\n",
       "      <th>ROI</th>\n",
       "      <th>ww_gross</th>\n",
       "    </tr>\n",
       "  </thead>\n",
       "  <tbody>\n",
       "    <tr>\n",
       "      <th>1164</th>\n",
       "      <td>Jurassic World</td>\n",
       "      <td>150000000.00</td>\n",
       "      <td>1520400637.00</td>\n",
       "      <td>1013.60</td>\n",
       "      <td>1670400637.00</td>\n",
       "    </tr>\n",
       "    <tr>\n",
       "      <th>395</th>\n",
       "      <td>Frozen II</td>\n",
       "      <td>150000000.00</td>\n",
       "      <td>1300026933.00</td>\n",
       "      <td>866.68</td>\n",
       "      <td>1450026933.00</td>\n",
       "    </tr>\n",
       "    <tr>\n",
       "      <th>53</th>\n",
       "      <td>Frozen</td>\n",
       "      <td>150000000.00</td>\n",
       "      <td>1130802282.00</td>\n",
       "      <td>753.87</td>\n",
       "      <td>1280802282.00</td>\n",
       "    </tr>\n",
       "    <tr>\n",
       "      <th>268</th>\n",
       "      <td>Furious 7</td>\n",
       "      <td>190000000.00</td>\n",
       "      <td>1325048151.00</td>\n",
       "      <td>697.39</td>\n",
       "      <td>1515048151.00</td>\n",
       "    </tr>\n",
       "    <tr>\n",
       "      <th>255</th>\n",
       "      <td>Beauty and the Beast</td>\n",
       "      <td>160000000.00</td>\n",
       "      <td>1103536328.00</td>\n",
       "      <td>689.71</td>\n",
       "      <td>1263536328.00</td>\n",
       "    </tr>\n",
       "    <tr>\n",
       "      <th>...</th>\n",
       "      <td>...</td>\n",
       "      <td>...</td>\n",
       "      <td>...</td>\n",
       "      <td>...</td>\n",
       "      <td>...</td>\n",
       "    </tr>\n",
       "    <tr>\n",
       "      <th>1227</th>\n",
       "      <td>The Wolfman</td>\n",
       "      <td>150000000.00</td>\n",
       "      <td>-10210235.00</td>\n",
       "      <td>-6.81</td>\n",
       "      <td>139789765.00</td>\n",
       "    </tr>\n",
       "    <tr>\n",
       "      <th>1585</th>\n",
       "      <td>47 Ronin</td>\n",
       "      <td>175000000.00</td>\n",
       "      <td>-23216161.00</td>\n",
       "      <td>-13.27</td>\n",
       "      <td>151783839.00</td>\n",
       "    </tr>\n",
       "    <tr>\n",
       "      <th>610</th>\n",
       "      <td>Pan</td>\n",
       "      <td>150000000.00</td>\n",
       "      <td>-21611680.00</td>\n",
       "      <td>-14.41</td>\n",
       "      <td>128388320.00</td>\n",
       "    </tr>\n",
       "    <tr>\n",
       "      <th>1024</th>\n",
       "      <td>King Arthur: Legend of the Sword</td>\n",
       "      <td>175000000.00</td>\n",
       "      <td>-26324934.00</td>\n",
       "      <td>-15.04</td>\n",
       "      <td>148675066.00</td>\n",
       "    </tr>\n",
       "    <tr>\n",
       "      <th>1553</th>\n",
       "      <td>Mars Needs Moms</td>\n",
       "      <td>150000000.00</td>\n",
       "      <td>-110766322.00</td>\n",
       "      <td>-73.84</td>\n",
       "      <td>39233678.00</td>\n",
       "    </tr>\n",
       "  </tbody>\n",
       "</table>\n",
       "<p>111 rows × 5 columns</p>\n",
       "</div>"
      ],
      "text/plain": [
       "                         primary_title       budget   Net_Revenue     ROI  \\\n",
       "1164                    Jurassic World 150000000.00 1520400637.00 1013.60   \n",
       "395                          Frozen II 150000000.00 1300026933.00  866.68   \n",
       "53                              Frozen 150000000.00 1130802282.00  753.87   \n",
       "268                          Furious 7 190000000.00 1325048151.00  697.39   \n",
       "255               Beauty and the Beast 160000000.00 1103536328.00  689.71   \n",
       "...                                ...          ...           ...     ...   \n",
       "1227                       The Wolfman 150000000.00  -10210235.00   -6.81   \n",
       "1585                          47 Ronin 175000000.00  -23216161.00  -13.27   \n",
       "610                                Pan 150000000.00  -21611680.00  -14.41   \n",
       "1024  King Arthur: Legend of the Sword 175000000.00  -26324934.00  -15.04   \n",
       "1553                   Mars Needs Moms 150000000.00 -110766322.00  -73.84   \n",
       "\n",
       "          ww_gross  \n",
       "1164 1670400637.00  \n",
       "395  1450026933.00  \n",
       "53   1280802282.00  \n",
       "268  1515048151.00  \n",
       "255  1263536328.00  \n",
       "...            ...  \n",
       "1227  139789765.00  \n",
       "1585  151783839.00  \n",
       "610   128388320.00  \n",
       "1024  148675066.00  \n",
       "1553   39233678.00  \n",
       "\n",
       "[111 rows x 5 columns]"
      ]
     },
     "execution_count": 60,
     "metadata": {},
     "output_type": "execute_result"
    }
   ],
   "source": [
    "# Sort by ROI\n",
    "\n",
    "budget_roi_df_new = budget_roi_df_new.sort_values('ROI', ascending = False) \n",
    "budget_roi_df_new"
   ]
  },
  {
   "cell_type": "code",
   "execution_count": 61,
   "metadata": {
    "scrolled": true
   },
   "outputs": [
    {
     "data": {
      "text/html": [
       "<div>\n",
       "<style scoped>\n",
       "    .dataframe tbody tr th:only-of-type {\n",
       "        vertical-align: middle;\n",
       "    }\n",
       "\n",
       "    .dataframe tbody tr th {\n",
       "        vertical-align: top;\n",
       "    }\n",
       "\n",
       "    .dataframe thead th {\n",
       "        text-align: right;\n",
       "    }\n",
       "</style>\n",
       "<table border=\"1\" class=\"dataframe\">\n",
       "  <thead>\n",
       "    <tr style=\"text-align: right;\">\n",
       "      <th></th>\n",
       "      <th>primary_title</th>\n",
       "      <th>budget</th>\n",
       "      <th>Net_Revenue</th>\n",
       "      <th>ROI</th>\n",
       "      <th>ww_gross</th>\n",
       "    </tr>\n",
       "  </thead>\n",
       "  <tbody>\n",
       "    <tr>\n",
       "      <th>1639</th>\n",
       "      <td>Transformers: Dark of the Moon</td>\n",
       "      <td>195000000.00</td>\n",
       "      <td>928794079.00</td>\n",
       "      <td>476.30</td>\n",
       "      <td>1123794079.00</td>\n",
       "    </tr>\n",
       "    <tr>\n",
       "      <th>1596</th>\n",
       "      <td>Jack the Giant Slayer</td>\n",
       "      <td>195000000.00</td>\n",
       "      <td>2687603.00</td>\n",
       "      <td>1.38</td>\n",
       "      <td>197687603.00</td>\n",
       "    </tr>\n",
       "  </tbody>\n",
       "</table>\n",
       "</div>"
      ],
      "text/plain": [
       "                       primary_title       budget  Net_Revenue    ROI  \\\n",
       "1639  Transformers: Dark of the Moon 195000000.00 928794079.00 476.30   \n",
       "1596           Jack the Giant Slayer 195000000.00   2687603.00   1.38   \n",
       "\n",
       "          ww_gross  \n",
       "1639 1123794079.00  \n",
       "1596  197687603.00  "
      ]
     },
     "execution_count": 61,
     "metadata": {},
     "output_type": "execute_result"
    }
   ],
   "source": [
    "budget_roi_df_new.loc[budget_roi_df_new['budget'] == 195000000.00]"
   ]
  },
  {
   "cell_type": "markdown",
   "metadata": {},
   "source": [
    "### Fig 2. - Production Budget vs. ROI in 150-200 Million Dollar Budgets \n",
    "After figuring out that the budget \"sweet spot\" is between 150 and 200 million dollars, I wanted to see if I could narrow that range down a bit and figure out a more exact number.  I now want to compare the ROI of films with budgets between 150 & 200 milliion dollars.  We can now see that <b>the single budget that has the highest ROI within this range is $183 million. </b>"
   ]
  },
  {
   "cell_type": "code",
   "execution_count": 62,
   "metadata": {
    "scrolled": false
   },
   "outputs": [
    {
     "data": {
      "image/png": "[encoded data removed]",
      "text/plain": [
       "<Figure size 864x432 with 1 Axes>"
      ]
     },
     "metadata": {},
     "output_type": "display_data"
    }
   ],
   "source": [
    "# I want to get a little tighter of a scope as far as optimal budget.\n",
    "\n",
    "f,ax = plt.subplots(figsize = (12,6))\n",
    "ax = sns.set_style(\"darkgrid\")\n",
    "ax = sns.set_context(\"talk\")\n",
    "ax = sns.barplot(x = 'budget', y = 'ROI', data = budget_roi_df_new, ci = 68)\n",
    "ax.set_title(' Budget vs. ROI in 150-200 Million Dollar Budgets')\n",
    "ax.set_xlabel('Budget')\n",
    "ax.set_ylabel('ROI')\n",
    "\n",
    "#fmt = '${x:,.0f}'\n",
    "fmt2 = '{x:,.0f}%'\n",
    "#tick1 = mtick.StrMethodFormatter(fmt)\n",
    "tick2 = mtick.StrMethodFormatter(fmt2)\n",
    "ax.yaxis.set_major_formatter(tick2)\n",
    "#ax.xaxis.set_major_formatter(tick)\n",
    "plt.xticks(rotation = 90);\n"
   ]
  },
  {
   "cell_type": "code",
   "execution_count": 63,
   "metadata": {},
   "outputs": [
    {
     "data": {
      "text/html": [
       "<div>\n",
       "<style scoped>\n",
       "    .dataframe tbody tr th:only-of-type {\n",
       "        vertical-align: middle;\n",
       "    }\n",
       "\n",
       "    .dataframe tbody tr th {\n",
       "        vertical-align: top;\n",
       "    }\n",
       "\n",
       "    .dataframe thead th {\n",
       "        text-align: right;\n",
       "    }\n",
       "</style>\n",
       "<table border=\"1\" class=\"dataframe\">\n",
       "  <thead>\n",
       "    <tr style=\"text-align: right;\">\n",
       "      <th></th>\n",
       "      <th>budget</th>\n",
       "      <th>genre_list</th>\n",
       "    </tr>\n",
       "  </thead>\n",
       "  <tbody>\n",
       "    <tr>\n",
       "      <th>780</th>\n",
       "      <td>356000000.00</td>\n",
       "      <td>[Action, Adventure, Sci-Fi]</td>\n",
       "    </tr>\n",
       "    <tr>\n",
       "      <th>176</th>\n",
       "      <td>245000000.00</td>\n",
       "      <td>[Action, Adventure, Fantasy]</td>\n",
       "    </tr>\n",
       "    <tr>\n",
       "      <th>779</th>\n",
       "      <td>321000000.00</td>\n",
       "      <td>[Action, Adventure, Sci-Fi]</td>\n",
       "    </tr>\n",
       "    <tr>\n",
       "      <th>1164</th>\n",
       "      <td>150000000.00</td>\n",
       "      <td>[Action, Adventure, Sci-Fi]</td>\n",
       "    </tr>\n",
       "    <tr>\n",
       "      <th>2136</th>\n",
       "      <td>260000000.00</td>\n",
       "      <td>[Adventure, Animation, Drama]</td>\n",
       "    </tr>\n",
       "  </tbody>\n",
       "</table>\n",
       "</div>"
      ],
      "text/plain": [
       "           budget                     genre_list\n",
       "780  356000000.00    [Action, Adventure, Sci-Fi]\n",
       "176  245000000.00   [Action, Adventure, Fantasy]\n",
       "779  321000000.00    [Action, Adventure, Sci-Fi]\n",
       "1164 150000000.00    [Action, Adventure, Sci-Fi]\n",
       "2136 260000000.00  [Adventure, Animation, Drama]"
      ]
     },
     "execution_count": 63,
     "metadata": {},
     "output_type": "execute_result"
    }
   ],
   "source": [
    "#Creating another small dataframe\n",
    "\n",
    "genre_budget_df = imdb_full_df.loc[:, ['budget', 'genre_list']]\n",
    "genre_budget_df.head()"
   ]
  },
  {
   "cell_type": "code",
   "execution_count": 64,
   "metadata": {},
   "outputs": [
    {
     "data": {
      "text/html": [
       "<div>\n",
       "<style scoped>\n",
       "    .dataframe tbody tr th:only-of-type {\n",
       "        vertical-align: middle;\n",
       "    }\n",
       "\n",
       "    .dataframe tbody tr th {\n",
       "        vertical-align: top;\n",
       "    }\n",
       "\n",
       "    .dataframe thead th {\n",
       "        text-align: right;\n",
       "    }\n",
       "</style>\n",
       "<table border=\"1\" class=\"dataframe\">\n",
       "  <thead>\n",
       "    <tr style=\"text-align: right;\">\n",
       "      <th></th>\n",
       "      <th>budget</th>\n",
       "      <th>genre_list</th>\n",
       "    </tr>\n",
       "  </thead>\n",
       "  <tbody>\n",
       "    <tr>\n",
       "      <th>780</th>\n",
       "      <td>356000000.00</td>\n",
       "      <td>Action</td>\n",
       "    </tr>\n",
       "    <tr>\n",
       "      <th>780</th>\n",
       "      <td>356000000.00</td>\n",
       "      <td>Adventure</td>\n",
       "    </tr>\n",
       "    <tr>\n",
       "      <th>780</th>\n",
       "      <td>356000000.00</td>\n",
       "      <td>Sci-Fi</td>\n",
       "    </tr>\n",
       "    <tr>\n",
       "      <th>176</th>\n",
       "      <td>245000000.00</td>\n",
       "      <td>Action</td>\n",
       "    </tr>\n",
       "    <tr>\n",
       "      <th>176</th>\n",
       "      <td>245000000.00</td>\n",
       "      <td>Adventure</td>\n",
       "    </tr>\n",
       "  </tbody>\n",
       "</table>\n",
       "</div>"
      ],
      "text/plain": [
       "          budget genre_list\n",
       "780 356000000.00     Action\n",
       "780 356000000.00  Adventure\n",
       "780 356000000.00     Sci-Fi\n",
       "176 245000000.00     Action\n",
       "176 245000000.00  Adventure"
      ]
     },
     "execution_count": 64,
     "metadata": {},
     "output_type": "execute_result"
    }
   ],
   "source": [
    "#Explode genres\n",
    "\n",
    "genre_budget_df = genre_budget_df.explode('genre_list')\n",
    "genre_budget_df.head()"
   ]
  },
  {
   "cell_type": "code",
   "execution_count": 65,
   "metadata": {},
   "outputs": [],
   "source": [
    "#Group by genre list and calculate median budgets. \n",
    "\n",
    "genre_budget_df = genre_budget_df.groupby('genre_list')['budget'].median()"
   ]
  },
  {
   "cell_type": "code",
   "execution_count": 66,
   "metadata": {},
   "outputs": [],
   "source": [
    "# Put the series back into a dataframe\n",
    "\n",
    "genre_budget_df = genre_budget_df.to_frame(name = 'budget').reset_index()"
   ]
  },
  {
   "cell_type": "code",
   "execution_count": 67,
   "metadata": {},
   "outputs": [],
   "source": [
    "# Sort by budget \n",
    "\n",
    "genre_budget_df = genre_budget_df.sort_values('budget', ascending = False) "
   ]
  },
  {
   "cell_type": "code",
   "execution_count": 68,
   "metadata": {},
   "outputs": [
    {
     "data": {
      "text/html": [
       "<div>\n",
       "<style scoped>\n",
       "    .dataframe tbody tr th:only-of-type {\n",
       "        vertical-align: middle;\n",
       "    }\n",
       "\n",
       "    .dataframe tbody tr th {\n",
       "        vertical-align: top;\n",
       "    }\n",
       "\n",
       "    .dataframe thead th {\n",
       "        text-align: right;\n",
       "    }\n",
       "</style>\n",
       "<table border=\"1\" class=\"dataframe\">\n",
       "  <thead>\n",
       "    <tr style=\"text-align: right;\">\n",
       "      <th></th>\n",
       "      <th>genre_list</th>\n",
       "      <th>budget</th>\n",
       "    </tr>\n",
       "  </thead>\n",
       "  <tbody>\n",
       "    <tr>\n",
       "      <th>1</th>\n",
       "      <td>Adventure</td>\n",
       "      <td>90000000.00</td>\n",
       "    </tr>\n",
       "    <tr>\n",
       "      <th>2</th>\n",
       "      <td>Animation</td>\n",
       "      <td>76000000.00</td>\n",
       "    </tr>\n",
       "    <tr>\n",
       "      <th>17</th>\n",
       "      <td>Sci-Fi</td>\n",
       "      <td>66500000.00</td>\n",
       "    </tr>\n",
       "    <tr>\n",
       "      <th>9</th>\n",
       "      <td>Fantasy</td>\n",
       "      <td>60000000.00</td>\n",
       "    </tr>\n",
       "    <tr>\n",
       "      <th>13</th>\n",
       "      <td>Musical</td>\n",
       "      <td>58000000.00</td>\n",
       "    </tr>\n",
       "  </tbody>\n",
       "</table>\n",
       "</div>"
      ],
      "text/plain": [
       "   genre_list      budget\n",
       "1   Adventure 90000000.00\n",
       "2   Animation 76000000.00\n",
       "17     Sci-Fi 66500000.00\n",
       "9     Fantasy 60000000.00\n",
       "13    Musical 58000000.00"
      ]
     },
     "execution_count": 68,
     "metadata": {},
     "output_type": "execute_result"
    }
   ],
   "source": [
    "genre_budget_df.head()"
   ]
  },
  {
   "cell_type": "markdown",
   "metadata": {},
   "source": [
    "### Fig. 3 - Median Budget by Genre\n",
    "We'll talk more about genre in the next section, but the figure below shows the median budget by genre of films produced over the last 10 years.  <b>We can see that Adventure, Animation, and Sci Fi are among the most expensive films to make.</b>"
   ]
  },
  {
   "cell_type": "code",
   "execution_count": 69,
   "metadata": {},
   "outputs": [
    {
     "data": {
      "image/png": "[encoded data removed]",
      "text/plain": [
       "<Figure size 720x576 with 1 Axes>"
      ]
     },
     "metadata": {},
     "output_type": "display_data"
    }
   ],
   "source": [
    "ax = plt.figure(figsize = (10,8))\n",
    "ax = sns.set_style(\"darkgrid\")\n",
    "ax = sns.set_context(\"talk\")\n",
    "ax = sns.barplot(x = 'budget', y = 'genre_list', data = genre_budget_df)\n",
    "ax.set_title('Median Budget by Genre')\n",
    "ax.set_xlabel('Production Budget')\n",
    "ax.set_ylabel('Genre')\n",
    "\n",
    "fmt = '${x:,.0f}'\n",
    "tick = mtick.StrMethodFormatter(fmt)\n",
    "ax.xaxis.set_major_formatter(tick);"
   ]
  },
  {
   "cell_type": "markdown",
   "metadata": {
    "heading_collapsed": true
   },
   "source": [
    "## Q2. Do movies in certain genres perform better at the box office?"
   ]
  },
  {
   "cell_type": "code",
   "execution_count": 70,
   "metadata": {
    "hidden": true
   },
   "outputs": [
    {
     "data": {
      "text/html": [
       "<div>\n",
       "<style scoped>\n",
       "    .dataframe tbody tr th:only-of-type {\n",
       "        vertical-align: middle;\n",
       "    }\n",
       "\n",
       "    .dataframe tbody tr th {\n",
       "        vertical-align: top;\n",
       "    }\n",
       "\n",
       "    .dataframe thead th {\n",
       "        text-align: right;\n",
       "    }\n",
       "</style>\n",
       "<table border=\"1\" class=\"dataframe\">\n",
       "  <thead>\n",
       "    <tr style=\"text-align: right;\">\n",
       "      <th></th>\n",
       "      <th>primary_title</th>\n",
       "      <th>genre_list</th>\n",
       "      <th>Net_Revenue</th>\n",
       "      <th>ROI</th>\n",
       "      <th>ww_gross</th>\n",
       "    </tr>\n",
       "  </thead>\n",
       "  <tbody>\n",
       "    <tr>\n",
       "      <th>780</th>\n",
       "      <td>Avengers: Endgame</td>\n",
       "      <td>[Action, Adventure, Sci-Fi]</td>\n",
       "      <td>2441800564.00</td>\n",
       "      <td>685.90</td>\n",
       "      <td>2797800564.00</td>\n",
       "    </tr>\n",
       "    <tr>\n",
       "      <th>176</th>\n",
       "      <td>Star Wars: Episode VII - The Force Awakens</td>\n",
       "      <td>[Action, Adventure, Fantasy]</td>\n",
       "      <td>1823223624.00</td>\n",
       "      <td>744.17</td>\n",
       "      <td>2068223624.00</td>\n",
       "    </tr>\n",
       "    <tr>\n",
       "      <th>779</th>\n",
       "      <td>Avengers: Infinity War</td>\n",
       "      <td>[Action, Adventure, Sci-Fi]</td>\n",
       "      <td>1727359754.00</td>\n",
       "      <td>538.12</td>\n",
       "      <td>2048359754.00</td>\n",
       "    </tr>\n",
       "    <tr>\n",
       "      <th>1164</th>\n",
       "      <td>Jurassic World</td>\n",
       "      <td>[Action, Adventure, Sci-Fi]</td>\n",
       "      <td>1520400637.00</td>\n",
       "      <td>1013.60</td>\n",
       "      <td>1670400637.00</td>\n",
       "    </tr>\n",
       "    <tr>\n",
       "      <th>2136</th>\n",
       "      <td>The Lion King</td>\n",
       "      <td>[Adventure, Animation, Drama]</td>\n",
       "      <td>1396943394.00</td>\n",
       "      <td>537.29</td>\n",
       "      <td>1656943394.00</td>\n",
       "    </tr>\n",
       "  </tbody>\n",
       "</table>\n",
       "</div>"
      ],
      "text/plain": [
       "                                   primary_title  \\\n",
       "780                            Avengers: Endgame   \n",
       "176   Star Wars: Episode VII - The Force Awakens   \n",
       "779                       Avengers: Infinity War   \n",
       "1164                              Jurassic World   \n",
       "2136                               The Lion King   \n",
       "\n",
       "                         genre_list   Net_Revenue     ROI      ww_gross  \n",
       "780     [Action, Adventure, Sci-Fi] 2441800564.00  685.90 2797800564.00  \n",
       "176    [Action, Adventure, Fantasy] 1823223624.00  744.17 2068223624.00  \n",
       "779     [Action, Adventure, Sci-Fi] 1727359754.00  538.12 2048359754.00  \n",
       "1164    [Action, Adventure, Sci-Fi] 1520400637.00 1013.60 1670400637.00  \n",
       "2136  [Adventure, Animation, Drama] 1396943394.00  537.29 1656943394.00  "
      ]
     },
     "execution_count": 70,
     "metadata": {},
     "output_type": "execute_result"
    }
   ],
   "source": [
    "# Creating a smaller dataframe to work with.  Using just title, genre, and net revenue. \n",
    "\n",
    "genre_revenue_df = imdb_full_df.loc[:, ['primary_title', 'genre_list', 'Net_Revenue', 'ROI', 'ww_gross']]\n",
    "genre_revenue_df.head()"
   ]
  },
  {
   "cell_type": "code",
   "execution_count": 71,
   "metadata": {
    "hidden": true,
    "scrolled": false
   },
   "outputs": [
    {
     "data": {
      "text/html": [
       "<div>\n",
       "<style scoped>\n",
       "    .dataframe tbody tr th:only-of-type {\n",
       "        vertical-align: middle;\n",
       "    }\n",
       "\n",
       "    .dataframe tbody tr th {\n",
       "        vertical-align: top;\n",
       "    }\n",
       "\n",
       "    .dataframe thead th {\n",
       "        text-align: right;\n",
       "    }\n",
       "</style>\n",
       "<table border=\"1\" class=\"dataframe\">\n",
       "  <thead>\n",
       "    <tr style=\"text-align: right;\">\n",
       "      <th></th>\n",
       "      <th>primary_title</th>\n",
       "      <th>genre_list</th>\n",
       "      <th>Net_Revenue</th>\n",
       "      <th>ROI</th>\n",
       "      <th>ww_gross</th>\n",
       "    </tr>\n",
       "  </thead>\n",
       "  <tbody>\n",
       "    <tr>\n",
       "      <th>780</th>\n",
       "      <td>Avengers: Endgame</td>\n",
       "      <td>Action</td>\n",
       "      <td>2441800564.00</td>\n",
       "      <td>685.90</td>\n",
       "      <td>2797800564.00</td>\n",
       "    </tr>\n",
       "    <tr>\n",
       "      <th>780</th>\n",
       "      <td>Avengers: Endgame</td>\n",
       "      <td>Adventure</td>\n",
       "      <td>2441800564.00</td>\n",
       "      <td>685.90</td>\n",
       "      <td>2797800564.00</td>\n",
       "    </tr>\n",
       "    <tr>\n",
       "      <th>780</th>\n",
       "      <td>Avengers: Endgame</td>\n",
       "      <td>Sci-Fi</td>\n",
       "      <td>2441800564.00</td>\n",
       "      <td>685.90</td>\n",
       "      <td>2797800564.00</td>\n",
       "    </tr>\n",
       "    <tr>\n",
       "      <th>176</th>\n",
       "      <td>Star Wars: Episode VII - The Force Awakens</td>\n",
       "      <td>Action</td>\n",
       "      <td>1823223624.00</td>\n",
       "      <td>744.17</td>\n",
       "      <td>2068223624.00</td>\n",
       "    </tr>\n",
       "    <tr>\n",
       "      <th>176</th>\n",
       "      <td>Star Wars: Episode VII - The Force Awakens</td>\n",
       "      <td>Adventure</td>\n",
       "      <td>1823223624.00</td>\n",
       "      <td>744.17</td>\n",
       "      <td>2068223624.00</td>\n",
       "    </tr>\n",
       "    <tr>\n",
       "      <th>...</th>\n",
       "      <td>...</td>\n",
       "      <td>...</td>\n",
       "      <td>...</td>\n",
       "      <td>...</td>\n",
       "      <td>...</td>\n",
       "    </tr>\n",
       "    <tr>\n",
       "      <th>965</th>\n",
       "      <td>Best Man Down</td>\n",
       "      <td>Comedy</td>\n",
       "      <td>-1498062.00</td>\n",
       "      <td>-99.87</td>\n",
       "      <td>1938.00</td>\n",
       "    </tr>\n",
       "    <tr>\n",
       "      <th>965</th>\n",
       "      <td>Best Man Down</td>\n",
       "      <td>Drama</td>\n",
       "      <td>-1498062.00</td>\n",
       "      <td>-99.87</td>\n",
       "      <td>1938.00</td>\n",
       "    </tr>\n",
       "    <tr>\n",
       "      <th>1219</th>\n",
       "      <td>Syrup</td>\n",
       "      <td>Comedy</td>\n",
       "      <td>-2499337.00</td>\n",
       "      <td>-99.97</td>\n",
       "      <td>663.00</td>\n",
       "    </tr>\n",
       "    <tr>\n",
       "      <th>1219</th>\n",
       "      <td>Syrup</td>\n",
       "      <td>Drama</td>\n",
       "      <td>-2499337.00</td>\n",
       "      <td>-99.97</td>\n",
       "      <td>663.00</td>\n",
       "    </tr>\n",
       "    <tr>\n",
       "      <th>1219</th>\n",
       "      <td>Syrup</td>\n",
       "      <td>Romance</td>\n",
       "      <td>-2499337.00</td>\n",
       "      <td>-99.97</td>\n",
       "      <td>663.00</td>\n",
       "    </tr>\n",
       "  </tbody>\n",
       "</table>\n",
       "<p>5019 rows × 5 columns</p>\n",
       "</div>"
      ],
      "text/plain": [
       "                                   primary_title genre_list   Net_Revenue  \\\n",
       "780                            Avengers: Endgame     Action 2441800564.00   \n",
       "780                            Avengers: Endgame  Adventure 2441800564.00   \n",
       "780                            Avengers: Endgame     Sci-Fi 2441800564.00   \n",
       "176   Star Wars: Episode VII - The Force Awakens     Action 1823223624.00   \n",
       "176   Star Wars: Episode VII - The Force Awakens  Adventure 1823223624.00   \n",
       "...                                          ...        ...           ...   \n",
       "965                                Best Man Down     Comedy   -1498062.00   \n",
       "965                                Best Man Down      Drama   -1498062.00   \n",
       "1219                                       Syrup     Comedy   -2499337.00   \n",
       "1219                                       Syrup      Drama   -2499337.00   \n",
       "1219                                       Syrup    Romance   -2499337.00   \n",
       "\n",
       "        ROI      ww_gross  \n",
       "780  685.90 2797800564.00  \n",
       "780  685.90 2797800564.00  \n",
       "780  685.90 2797800564.00  \n",
       "176  744.17 2068223624.00  \n",
       "176  744.17 2068223624.00  \n",
       "...     ...           ...  \n",
       "965  -99.87       1938.00  \n",
       "965  -99.87       1938.00  \n",
       "1219 -99.97        663.00  \n",
       "1219 -99.97        663.00  \n",
       "1219 -99.97        663.00  \n",
       "\n",
       "[5019 rows x 5 columns]"
      ]
     },
     "execution_count": 71,
     "metadata": {},
     "output_type": "execute_result"
    }
   ],
   "source": [
    "# Giving each listed genre it's own row, as many films have multiple genres. \n",
    "\n",
    "genre_revenue_df = genre_revenue_df.explode('genre_list')\n",
    "genre_revenue_df"
   ]
  },
  {
   "cell_type": "code",
   "execution_count": 72,
   "metadata": {
    "hidden": true
   },
   "outputs": [
    {
     "data": {
      "text/plain": [
       "primary_title    1960\n",
       "genre_list         22\n",
       "Net_Revenue      1968\n",
       "ROI              1968\n",
       "ww_gross         1967\n",
       "dtype: int64"
      ]
     },
     "execution_count": 72,
     "metadata": {},
     "output_type": "execute_result"
    }
   ],
   "source": [
    "genre_revenue_df.nunique()"
   ]
  },
  {
   "cell_type": "code",
   "execution_count": 73,
   "metadata": {
    "hidden": true
   },
   "outputs": [
    {
     "data": {
      "text/plain": [
       "primary_title    4\n",
       "genre_list       0\n",
       "Net_Revenue      0\n",
       "ROI              0\n",
       "ww_gross         0\n",
       "dtype: int64"
      ]
     },
     "execution_count": 73,
     "metadata": {},
     "output_type": "execute_result"
    }
   ],
   "source": [
    "genre_revenue_df.isna().sum()"
   ]
  },
  {
   "cell_type": "code",
   "execution_count": 74,
   "metadata": {
    "hidden": true
   },
   "outputs": [
    {
     "data": {
      "text/html": [
       "<div>\n",
       "<style scoped>\n",
       "    .dataframe tbody tr th:only-of-type {\n",
       "        vertical-align: middle;\n",
       "    }\n",
       "\n",
       "    .dataframe tbody tr th {\n",
       "        vertical-align: top;\n",
       "    }\n",
       "\n",
       "    .dataframe thead th {\n",
       "        text-align: right;\n",
       "    }\n",
       "</style>\n",
       "<table border=\"1\" class=\"dataframe\">\n",
       "  <thead>\n",
       "    <tr style=\"text-align: right;\">\n",
       "      <th></th>\n",
       "      <th>primary_title</th>\n",
       "      <th>genre_list</th>\n",
       "      <th>Net_Revenue</th>\n",
       "      <th>ROI</th>\n",
       "      <th>ww_gross</th>\n",
       "    </tr>\n",
       "  </thead>\n",
       "  <tbody>\n",
       "    <tr>\n",
       "      <th>780</th>\n",
       "      <td>Avengers: Endgame</td>\n",
       "      <td>Action</td>\n",
       "      <td>2441800564.00</td>\n",
       "      <td>685.90</td>\n",
       "      <td>2797800564.00</td>\n",
       "    </tr>\n",
       "    <tr>\n",
       "      <th>780</th>\n",
       "      <td>Avengers: Endgame</td>\n",
       "      <td>Adventure</td>\n",
       "      <td>2441800564.00</td>\n",
       "      <td>685.90</td>\n",
       "      <td>2797800564.00</td>\n",
       "    </tr>\n",
       "    <tr>\n",
       "      <th>780</th>\n",
       "      <td>Avengers: Endgame</td>\n",
       "      <td>Sci-Fi</td>\n",
       "      <td>2441800564.00</td>\n",
       "      <td>685.90</td>\n",
       "      <td>2797800564.00</td>\n",
       "    </tr>\n",
       "    <tr>\n",
       "      <th>176</th>\n",
       "      <td>Star Wars: Episode VII - The Force Awakens</td>\n",
       "      <td>Action</td>\n",
       "      <td>1823223624.00</td>\n",
       "      <td>744.17</td>\n",
       "      <td>2068223624.00</td>\n",
       "    </tr>\n",
       "    <tr>\n",
       "      <th>176</th>\n",
       "      <td>Star Wars: Episode VII - The Force Awakens</td>\n",
       "      <td>Adventure</td>\n",
       "      <td>1823223624.00</td>\n",
       "      <td>744.17</td>\n",
       "      <td>2068223624.00</td>\n",
       "    </tr>\n",
       "    <tr>\n",
       "      <th>...</th>\n",
       "      <td>...</td>\n",
       "      <td>...</td>\n",
       "      <td>...</td>\n",
       "      <td>...</td>\n",
       "      <td>...</td>\n",
       "    </tr>\n",
       "    <tr>\n",
       "      <th>965</th>\n",
       "      <td>Best Man Down</td>\n",
       "      <td>Comedy</td>\n",
       "      <td>-1498062.00</td>\n",
       "      <td>-99.87</td>\n",
       "      <td>1938.00</td>\n",
       "    </tr>\n",
       "    <tr>\n",
       "      <th>965</th>\n",
       "      <td>Best Man Down</td>\n",
       "      <td>Drama</td>\n",
       "      <td>-1498062.00</td>\n",
       "      <td>-99.87</td>\n",
       "      <td>1938.00</td>\n",
       "    </tr>\n",
       "    <tr>\n",
       "      <th>1219</th>\n",
       "      <td>Syrup</td>\n",
       "      <td>Comedy</td>\n",
       "      <td>-2499337.00</td>\n",
       "      <td>-99.97</td>\n",
       "      <td>663.00</td>\n",
       "    </tr>\n",
       "    <tr>\n",
       "      <th>1219</th>\n",
       "      <td>Syrup</td>\n",
       "      <td>Drama</td>\n",
       "      <td>-2499337.00</td>\n",
       "      <td>-99.97</td>\n",
       "      <td>663.00</td>\n",
       "    </tr>\n",
       "    <tr>\n",
       "      <th>1219</th>\n",
       "      <td>Syrup</td>\n",
       "      <td>Romance</td>\n",
       "      <td>-2499337.00</td>\n",
       "      <td>-99.97</td>\n",
       "      <td>663.00</td>\n",
       "    </tr>\n",
       "  </tbody>\n",
       "</table>\n",
       "<p>5015 rows × 5 columns</p>\n",
       "</div>"
      ],
      "text/plain": [
       "                                   primary_title genre_list   Net_Revenue  \\\n",
       "780                            Avengers: Endgame     Action 2441800564.00   \n",
       "780                            Avengers: Endgame  Adventure 2441800564.00   \n",
       "780                            Avengers: Endgame     Sci-Fi 2441800564.00   \n",
       "176   Star Wars: Episode VII - The Force Awakens     Action 1823223624.00   \n",
       "176   Star Wars: Episode VII - The Force Awakens  Adventure 1823223624.00   \n",
       "...                                          ...        ...           ...   \n",
       "965                                Best Man Down     Comedy   -1498062.00   \n",
       "965                                Best Man Down      Drama   -1498062.00   \n",
       "1219                                       Syrup     Comedy   -2499337.00   \n",
       "1219                                       Syrup      Drama   -2499337.00   \n",
       "1219                                       Syrup    Romance   -2499337.00   \n",
       "\n",
       "        ROI      ww_gross  \n",
       "780  685.90 2797800564.00  \n",
       "780  685.90 2797800564.00  \n",
       "780  685.90 2797800564.00  \n",
       "176  744.17 2068223624.00  \n",
       "176  744.17 2068223624.00  \n",
       "...     ...           ...  \n",
       "965  -99.87       1938.00  \n",
       "965  -99.87       1938.00  \n",
       "1219 -99.97        663.00  \n",
       "1219 -99.97        663.00  \n",
       "1219 -99.97        663.00  \n",
       "\n",
       "[5015 rows x 5 columns]"
      ]
     },
     "execution_count": 74,
     "metadata": {},
     "output_type": "execute_result"
    }
   ],
   "source": [
    "# Drop remaining null values \n",
    "\n",
    "genre_revenue_df.dropna()"
   ]
  },
  {
   "cell_type": "code",
   "execution_count": 75,
   "metadata": {
    "hidden": true,
    "scrolled": true
   },
   "outputs": [
    {
     "data": {
      "text/html": [
       "<div>\n",
       "<style scoped>\n",
       "    .dataframe tbody tr th:only-of-type {\n",
       "        vertical-align: middle;\n",
       "    }\n",
       "\n",
       "    .dataframe tbody tr th {\n",
       "        vertical-align: top;\n",
       "    }\n",
       "\n",
       "    .dataframe thead th {\n",
       "        text-align: right;\n",
       "    }\n",
       "</style>\n",
       "<table border=\"1\" class=\"dataframe\">\n",
       "  <thead>\n",
       "    <tr style=\"text-align: right;\">\n",
       "      <th></th>\n",
       "      <th>genre_list</th>\n",
       "      <th>Net_Revenue</th>\n",
       "      <th>ROI</th>\n",
       "      <th>ww_gross</th>\n",
       "    </tr>\n",
       "  </thead>\n",
       "  <tbody>\n",
       "    <tr>\n",
       "      <th>780</th>\n",
       "      <td>Action</td>\n",
       "      <td>2441800564.00</td>\n",
       "      <td>685.90</td>\n",
       "      <td>2797800564.00</td>\n",
       "    </tr>\n",
       "    <tr>\n",
       "      <th>780</th>\n",
       "      <td>Adventure</td>\n",
       "      <td>2441800564.00</td>\n",
       "      <td>685.90</td>\n",
       "      <td>2797800564.00</td>\n",
       "    </tr>\n",
       "    <tr>\n",
       "      <th>780</th>\n",
       "      <td>Sci-Fi</td>\n",
       "      <td>2441800564.00</td>\n",
       "      <td>685.90</td>\n",
       "      <td>2797800564.00</td>\n",
       "    </tr>\n",
       "    <tr>\n",
       "      <th>176</th>\n",
       "      <td>Action</td>\n",
       "      <td>1823223624.00</td>\n",
       "      <td>744.17</td>\n",
       "      <td>2068223624.00</td>\n",
       "    </tr>\n",
       "    <tr>\n",
       "      <th>176</th>\n",
       "      <td>Adventure</td>\n",
       "      <td>1823223624.00</td>\n",
       "      <td>744.17</td>\n",
       "      <td>2068223624.00</td>\n",
       "    </tr>\n",
       "  </tbody>\n",
       "</table>\n",
       "</div>"
      ],
      "text/plain": [
       "    genre_list   Net_Revenue    ROI      ww_gross\n",
       "780     Action 2441800564.00 685.90 2797800564.00\n",
       "780  Adventure 2441800564.00 685.90 2797800564.00\n",
       "780     Sci-Fi 2441800564.00 685.90 2797800564.00\n",
       "176     Action 1823223624.00 744.17 2068223624.00\n",
       "176  Adventure 1823223624.00 744.17 2068223624.00"
      ]
     },
     "execution_count": 75,
     "metadata": {},
     "output_type": "execute_result"
    }
   ],
   "source": [
    "# Filtering the info further by dropping the title, giving me just the genre and how much money earned. \n",
    "\n",
    "genre_revenue_df.drop('primary_title', axis = 1, inplace = True)\n",
    "genre_revenue_df.head()"
   ]
  },
  {
   "cell_type": "code",
   "execution_count": 76,
   "metadata": {
    "hidden": true
   },
   "outputs": [
    {
     "data": {
      "text/html": [
       "<div>\n",
       "<style scoped>\n",
       "    .dataframe tbody tr th:only-of-type {\n",
       "        vertical-align: middle;\n",
       "    }\n",
       "\n",
       "    .dataframe tbody tr th {\n",
       "        vertical-align: top;\n",
       "    }\n",
       "\n",
       "    .dataframe thead th {\n",
       "        text-align: right;\n",
       "    }\n",
       "</style>\n",
       "<table border=\"1\" class=\"dataframe\">\n",
       "  <thead>\n",
       "    <tr style=\"text-align: right;\">\n",
       "      <th></th>\n",
       "      <th>genre_list</th>\n",
       "      <th>Net_Revenue</th>\n",
       "      <th>ROI</th>\n",
       "      <th>ww_gross</th>\n",
       "    </tr>\n",
       "  </thead>\n",
       "  <tbody>\n",
       "    <tr>\n",
       "      <th>780</th>\n",
       "      <td>Action</td>\n",
       "      <td>2441800564.00</td>\n",
       "      <td>685.90</td>\n",
       "      <td>2797800564.00</td>\n",
       "    </tr>\n",
       "    <tr>\n",
       "      <th>780</th>\n",
       "      <td>Sci-Fi</td>\n",
       "      <td>2441800564.00</td>\n",
       "      <td>685.90</td>\n",
       "      <td>2797800564.00</td>\n",
       "    </tr>\n",
       "    <tr>\n",
       "      <th>780</th>\n",
       "      <td>Adventure</td>\n",
       "      <td>2441800564.00</td>\n",
       "      <td>685.90</td>\n",
       "      <td>2797800564.00</td>\n",
       "    </tr>\n",
       "    <tr>\n",
       "      <th>176</th>\n",
       "      <td>Action</td>\n",
       "      <td>1823223624.00</td>\n",
       "      <td>744.17</td>\n",
       "      <td>2068223624.00</td>\n",
       "    </tr>\n",
       "    <tr>\n",
       "      <th>176</th>\n",
       "      <td>Fantasy</td>\n",
       "      <td>1823223624.00</td>\n",
       "      <td>744.17</td>\n",
       "      <td>2068223624.00</td>\n",
       "    </tr>\n",
       "  </tbody>\n",
       "</table>\n",
       "</div>"
      ],
      "text/plain": [
       "    genre_list   Net_Revenue    ROI      ww_gross\n",
       "780     Action 2441800564.00 685.90 2797800564.00\n",
       "780     Sci-Fi 2441800564.00 685.90 2797800564.00\n",
       "780  Adventure 2441800564.00 685.90 2797800564.00\n",
       "176     Action 1823223624.00 744.17 2068223624.00\n",
       "176    Fantasy 1823223624.00 744.17 2068223624.00"
      ]
     },
     "execution_count": 76,
     "metadata": {},
     "output_type": "execute_result"
    }
   ],
   "source": [
    "# Sorting by worldwide gross in descending order.\n",
    "\n",
    "genre_revenue_df = genre_revenue_df.sort_values('ww_gross', ascending = False) \n",
    "genre_revenue_df.head()"
   ]
  },
  {
   "cell_type": "code",
   "execution_count": 77,
   "metadata": {
    "hidden": true
   },
   "outputs": [],
   "source": [
    "# Creating one last dataframe that combines all films of a specific genre and adds their net revenue.\n",
    "\n",
    "final_genre_revenue_df = genre_revenue_df.groupby('genre_list')['Net_Revenue'].median()"
   ]
  },
  {
   "cell_type": "code",
   "execution_count": 78,
   "metadata": {
    "hidden": true
   },
   "outputs": [
    {
     "data": {
      "text/plain": [
       "genre_list\n",
       "Action         55366737.00\n",
       "Adventure     120953723.00\n",
       "Animation     134040103.00\n",
       "Biography       8189571.50\n",
       "Comedy         29779728.00\n",
       "Crime           7753365.00\n",
       "Documentary     -107198.00\n",
       "Drama           7553763.00\n",
       "Family         52744032.50\n",
       "Fantasy        51921761.00\n",
       "History         1478892.50\n",
       "Horror         33854305.00\n",
       "Music           9122090.00\n",
       "Musical        17673631.00\n",
       "Mystery        33036609.00\n",
       "News            -107198.00\n",
       "Romance        12332018.50\n",
       "Sci-Fi        111937877.50\n",
       "Sport            698679.00\n",
       "Thriller       26020018.50\n",
       "War            -1315295.00\n",
       "Western        -3081122.50\n",
       "Name: Net_Revenue, dtype: float64"
      ]
     },
     "execution_count": 78,
     "metadata": {},
     "output_type": "execute_result"
    }
   ],
   "source": [
    "final_genre_revenue_df"
   ]
  },
  {
   "cell_type": "code",
   "execution_count": 79,
   "metadata": {
    "hidden": true,
    "scrolled": true
   },
   "outputs": [],
   "source": [
    "#change from groupby back into a dataframe\n",
    "final_genre_revenue_df = final_genre_revenue_df.to_frame(name = 'Net_Revenue').reset_index()"
   ]
  },
  {
   "cell_type": "code",
   "execution_count": 80,
   "metadata": {
    "hidden": true,
    "scrolled": true
   },
   "outputs": [],
   "source": [
    "final_genre_revenue_df = final_genre_revenue_df.sort_values('Net_Revenue', ascending = False) "
   ]
  },
  {
   "cell_type": "code",
   "execution_count": 81,
   "metadata": {
    "hidden": true
   },
   "outputs": [
    {
     "data": {
      "text/html": [
       "<div>\n",
       "<style scoped>\n",
       "    .dataframe tbody tr th:only-of-type {\n",
       "        vertical-align: middle;\n",
       "    }\n",
       "\n",
       "    .dataframe tbody tr th {\n",
       "        vertical-align: top;\n",
       "    }\n",
       "\n",
       "    .dataframe thead th {\n",
       "        text-align: right;\n",
       "    }\n",
       "</style>\n",
       "<table border=\"1\" class=\"dataframe\">\n",
       "  <thead>\n",
       "    <tr style=\"text-align: right;\">\n",
       "      <th></th>\n",
       "      <th>genre_list</th>\n",
       "      <th>Net_Revenue</th>\n",
       "    </tr>\n",
       "  </thead>\n",
       "  <tbody>\n",
       "    <tr>\n",
       "      <th>2</th>\n",
       "      <td>Animation</td>\n",
       "      <td>134040103.00</td>\n",
       "    </tr>\n",
       "    <tr>\n",
       "      <th>1</th>\n",
       "      <td>Adventure</td>\n",
       "      <td>120953723.00</td>\n",
       "    </tr>\n",
       "    <tr>\n",
       "      <th>17</th>\n",
       "      <td>Sci-Fi</td>\n",
       "      <td>111937877.50</td>\n",
       "    </tr>\n",
       "    <tr>\n",
       "      <th>0</th>\n",
       "      <td>Action</td>\n",
       "      <td>55366737.00</td>\n",
       "    </tr>\n",
       "    <tr>\n",
       "      <th>8</th>\n",
       "      <td>Family</td>\n",
       "      <td>52744032.50</td>\n",
       "    </tr>\n",
       "    <tr>\n",
       "      <th>9</th>\n",
       "      <td>Fantasy</td>\n",
       "      <td>51921761.00</td>\n",
       "    </tr>\n",
       "    <tr>\n",
       "      <th>11</th>\n",
       "      <td>Horror</td>\n",
       "      <td>33854305.00</td>\n",
       "    </tr>\n",
       "    <tr>\n",
       "      <th>14</th>\n",
       "      <td>Mystery</td>\n",
       "      <td>33036609.00</td>\n",
       "    </tr>\n",
       "    <tr>\n",
       "      <th>4</th>\n",
       "      <td>Comedy</td>\n",
       "      <td>29779728.00</td>\n",
       "    </tr>\n",
       "    <tr>\n",
       "      <th>19</th>\n",
       "      <td>Thriller</td>\n",
       "      <td>26020018.50</td>\n",
       "    </tr>\n",
       "    <tr>\n",
       "      <th>13</th>\n",
       "      <td>Musical</td>\n",
       "      <td>17673631.00</td>\n",
       "    </tr>\n",
       "    <tr>\n",
       "      <th>16</th>\n",
       "      <td>Romance</td>\n",
       "      <td>12332018.50</td>\n",
       "    </tr>\n",
       "    <tr>\n",
       "      <th>12</th>\n",
       "      <td>Music</td>\n",
       "      <td>9122090.00</td>\n",
       "    </tr>\n",
       "    <tr>\n",
       "      <th>3</th>\n",
       "      <td>Biography</td>\n",
       "      <td>8189571.50</td>\n",
       "    </tr>\n",
       "    <tr>\n",
       "      <th>5</th>\n",
       "      <td>Crime</td>\n",
       "      <td>7753365.00</td>\n",
       "    </tr>\n",
       "    <tr>\n",
       "      <th>7</th>\n",
       "      <td>Drama</td>\n",
       "      <td>7553763.00</td>\n",
       "    </tr>\n",
       "    <tr>\n",
       "      <th>10</th>\n",
       "      <td>History</td>\n",
       "      <td>1478892.50</td>\n",
       "    </tr>\n",
       "    <tr>\n",
       "      <th>18</th>\n",
       "      <td>Sport</td>\n",
       "      <td>698679.00</td>\n",
       "    </tr>\n",
       "    <tr>\n",
       "      <th>6</th>\n",
       "      <td>Documentary</td>\n",
       "      <td>-107198.00</td>\n",
       "    </tr>\n",
       "    <tr>\n",
       "      <th>15</th>\n",
       "      <td>News</td>\n",
       "      <td>-107198.00</td>\n",
       "    </tr>\n",
       "    <tr>\n",
       "      <th>20</th>\n",
       "      <td>War</td>\n",
       "      <td>-1315295.00</td>\n",
       "    </tr>\n",
       "    <tr>\n",
       "      <th>21</th>\n",
       "      <td>Western</td>\n",
       "      <td>-3081122.50</td>\n",
       "    </tr>\n",
       "  </tbody>\n",
       "</table>\n",
       "</div>"
      ],
      "text/plain": [
       "     genre_list  Net_Revenue\n",
       "2     Animation 134040103.00\n",
       "1     Adventure 120953723.00\n",
       "17       Sci-Fi 111937877.50\n",
       "0        Action  55366737.00\n",
       "8        Family  52744032.50\n",
       "9       Fantasy  51921761.00\n",
       "11       Horror  33854305.00\n",
       "14      Mystery  33036609.00\n",
       "4        Comedy  29779728.00\n",
       "19     Thriller  26020018.50\n",
       "13      Musical  17673631.00\n",
       "16      Romance  12332018.50\n",
       "12        Music   9122090.00\n",
       "3     Biography   8189571.50\n",
       "5         Crime   7753365.00\n",
       "7         Drama   7553763.00\n",
       "10      History   1478892.50\n",
       "18        Sport    698679.00\n",
       "6   Documentary   -107198.00\n",
       "15         News   -107198.00\n",
       "20          War  -1315295.00\n",
       "21      Western  -3081122.50"
      ]
     },
     "execution_count": 81,
     "metadata": {},
     "output_type": "execute_result"
    }
   ],
   "source": [
    "final_genre_revenue_df"
   ]
  },
  {
   "cell_type": "markdown",
   "metadata": {
    "hidden": true
   },
   "source": [
    "### Fig. 4 - Median Net Revenue by Genre\n",
    "The figure below represents the total net revenue for each major genre over the past 10 years.  We can see that <b>the genres with the highest median net revenue are Sci Fi, Adventure, Fantasy, Musical and Animation. </b>  "
   ]
  },
  {
   "cell_type": "code",
   "execution_count": 127,
   "metadata": {
    "hidden": true
   },
   "outputs": [
    {
     "data": {
      "image/png": "[encoded data removed]",
      "text/plain": [
       "<Figure size 1440x504 with 1 Axes>"
      ]
     },
     "metadata": {},
     "output_type": "display_data"
    }
   ],
   "source": [
    "ax = plt.figure(figsize = (20,7))\n",
    "ax = sns.set_context(\"talk\")\n",
    "ax = sns.set_style(\"darkgrid\")\n",
    "ax = sns.barplot(x = 'genre_list', y = 'Net_Revenue', data = genre_revenue_df, ci = 68 );\n",
    "ax.set_title('Median Net Revenue by Genre')\n",
    "ax.set_xlabel('Genre')\n",
    "ax.set_ylabel('Median Net Revenue')\n",
    "\n",
    "fmt = '${x:,.0f}'\n",
    "tick = mtick.StrMethodFormatter(fmt)\n",
    "ax.yaxis.set_major_formatter(tick)\n",
    "plt.xticks(rotation = 45);\n"
   ]
  },
  {
   "cell_type": "code",
   "execution_count": 83,
   "metadata": {
    "hidden": true
   },
   "outputs": [],
   "source": [
    "# New dataframe of genres and median ROI\n",
    "genre_roi_df = genre_revenue_df.groupby('genre_list')['ROI'].median()"
   ]
  },
  {
   "cell_type": "code",
   "execution_count": 84,
   "metadata": {
    "hidden": true
   },
   "outputs": [],
   "source": [
    "genre_roi_df = genre_roi_df.to_frame(name = 'ROI').reset_index()"
   ]
  },
  {
   "cell_type": "code",
   "execution_count": 85,
   "metadata": {
    "hidden": true
   },
   "outputs": [],
   "source": [
    "# Sort dataframe by ROI\n",
    "genre_roi_df = genre_roi_df.sort_values('ROI', ascending = False) "
   ]
  },
  {
   "cell_type": "code",
   "execution_count": 86,
   "metadata": {
    "hidden": true,
    "scrolled": true
   },
   "outputs": [],
   "source": [
    "#Created a plot representing the ROI by genre. Not important.\n",
    "\n",
    "# plt.figure(figsize = (20,7))\n",
    "# sns.set_context(\"talk\")\n",
    "# #with sns.plotting_context(font_scale = 1):\n",
    "# ax = sns.barplot(x = 'genre_list', y = 'ROI', data = genre_revenue_df, ci = 68)\n",
    "# ax.set_title('ROI by Genre')\n",
    "# ax.set_xlabel('Genre')\n",
    "# ax.set_ylabel('Median ROI')\n",
    "\n",
    "\n",
    "# fmt = '{x:,.0f}%'\n",
    "# tick = mtick.StrMethodFormatter(fmt)\n",
    "# ax.yaxis.set_major_formatter(tick) \n",
    "# plt.xticks(rotation=45);"
   ]
  },
  {
   "cell_type": "code",
   "execution_count": 87,
   "metadata": {
    "hidden": true
   },
   "outputs": [
    {
     "data": {
      "text/html": [
       "<div>\n",
       "<style scoped>\n",
       "    .dataframe tbody tr th:only-of-type {\n",
       "        vertical-align: middle;\n",
       "    }\n",
       "\n",
       "    .dataframe tbody tr th {\n",
       "        vertical-align: top;\n",
       "    }\n",
       "\n",
       "    .dataframe thead th {\n",
       "        text-align: right;\n",
       "    }\n",
       "</style>\n",
       "<table border=\"1\" class=\"dataframe\">\n",
       "  <thead>\n",
       "    <tr style=\"text-align: right;\">\n",
       "      <th></th>\n",
       "      <th>genre_list</th>\n",
       "      <th>ROI</th>\n",
       "    </tr>\n",
       "  </thead>\n",
       "  <tbody>\n",
       "    <tr>\n",
       "      <th>1</th>\n",
       "      <td>Adventure</td>\n",
       "      <td>168.43</td>\n",
       "    </tr>\n",
       "    <tr>\n",
       "      <th>17</th>\n",
       "      <td>Sci-Fi</td>\n",
       "      <td>161.74</td>\n",
       "    </tr>\n",
       "    <tr>\n",
       "      <th>2</th>\n",
       "      <td>Animation</td>\n",
       "      <td>191.34</td>\n",
       "    </tr>\n",
       "    <tr>\n",
       "      <th>13</th>\n",
       "      <td>Musical</td>\n",
       "      <td>52.07</td>\n",
       "    </tr>\n",
       "    <tr>\n",
       "      <th>9</th>\n",
       "      <td>Fantasy</td>\n",
       "      <td>128.07</td>\n",
       "    </tr>\n",
       "  </tbody>\n",
       "</table>\n",
       "</div>"
      ],
      "text/plain": [
       "   genre_list    ROI\n",
       "1   Adventure 168.43\n",
       "17     Sci-Fi 161.74\n",
       "2   Animation 191.34\n",
       "13    Musical  52.07\n",
       "9     Fantasy 128.07"
      ]
     },
     "execution_count": 87,
     "metadata": {},
     "output_type": "execute_result"
    }
   ],
   "source": [
    "# Creating a dataframe of the top 5 genre's by revenue to compare ROI\n",
    "\n",
    "top_genre_roi_df1 = genre_roi_df.loc[genre_roi_df['genre_list'] == 'Adventure']\n",
    "top_genre_roi_df2 = genre_roi_df.loc[genre_roi_df['genre_list'] == 'Sci-Fi']\n",
    "top_genre_roi_df3 = genre_roi_df.loc[genre_roi_df['genre_list'] == 'Animation']\n",
    "top_genre_roi_df4 = genre_roi_df.loc[genre_roi_df['genre_list'] == 'Musical']\n",
    "top_genre_roi_df5 = genre_roi_df.loc[genre_roi_df['genre_list'] == 'Fantasy']\n",
    "\n",
    "top_genre_roi_df = pd.concat([top_genre_roi_df1, top_genre_roi_df2, top_genre_roi_df3, \n",
    "                              top_genre_roi_df4, top_genre_roi_df5])\n",
    "\n",
    "top_genre_roi_df"
   ]
  },
  {
   "cell_type": "markdown",
   "metadata": {
    "hidden": true
   },
   "source": [
    "### Fig. 5 - ROI of Top 5 Most Profitable Genres\n",
    "After seeing that the top 5 genres by net revenue are Adventure, Sci-Fi, Animation, Musical, and Fantasy, I wanted to check the ROI across these 5 genres.  Surprisingly, <b>of these genres, Animation has the highest ROI.<b>"
   ]
  },
  {
   "cell_type": "code",
   "execution_count": 88,
   "metadata": {
    "hidden": true
   },
   "outputs": [
    {
     "data": {
      "image/png": "[encoded data removed]",
      "text/plain": [
       "<Figure size 1440x504 with 1 Axes>"
      ]
     },
     "metadata": {},
     "output_type": "display_data"
    }
   ],
   "source": [
    "ax = plt.figure(figsize = (20,7))\n",
    "ax = sns.set_context(\"talk\")\n",
    "ax = sns.set_style(\"darkgrid\")\n",
    "ax = sns.barplot(x = 'genre_list', y = 'ROI', data = top_genre_roi_df, ci = 68)\n",
    "ax.set_title('ROI of Top 5 Most Profitable Genres')\n",
    "ax.set_xlabel('Genre')\n",
    "ax.set_ylabel('ROI')\n",
    "\n",
    "\n",
    "fmt = '{x:,.0f}%'\n",
    "tick = mtick.StrMethodFormatter(fmt)\n",
    "ax.yaxis.set_major_formatter(tick);"
   ]
  },
  {
   "cell_type": "markdown",
   "metadata": {
    "heading_collapsed": true
   },
   "source": [
    "## Q3. What is the relationship between a film's MPAA rating and it's performance at the box office?"
   ]
  },
  {
   "cell_type": "code",
   "execution_count": 89,
   "metadata": {
    "hidden": true,
    "scrolled": true
   },
   "outputs": [
    {
     "data": {
      "text/html": [
       "<div>\n",
       "<style scoped>\n",
       "    .dataframe tbody tr th:only-of-type {\n",
       "        vertical-align: middle;\n",
       "    }\n",
       "\n",
       "    .dataframe tbody tr th {\n",
       "        vertical-align: top;\n",
       "    }\n",
       "\n",
       "    .dataframe thead th {\n",
       "        text-align: right;\n",
       "    }\n",
       "</style>\n",
       "<table border=\"1\" class=\"dataframe\">\n",
       "  <thead>\n",
       "    <tr style=\"text-align: right;\">\n",
       "      <th></th>\n",
       "      <th>primary_title</th>\n",
       "      <th>rating</th>\n",
       "      <th>Net_Revenue</th>\n",
       "      <th>ww_gross</th>\n",
       "      <th>ROI</th>\n",
       "    </tr>\n",
       "  </thead>\n",
       "  <tbody>\n",
       "    <tr>\n",
       "      <th>780</th>\n",
       "      <td>Avengers: Endgame</td>\n",
       "      <td>PG-13</td>\n",
       "      <td>2441800564.00</td>\n",
       "      <td>2797800564.00</td>\n",
       "      <td>685.90</td>\n",
       "    </tr>\n",
       "    <tr>\n",
       "      <th>176</th>\n",
       "      <td>Star Wars: Episode VII - The Force Awakens</td>\n",
       "      <td>PG-13</td>\n",
       "      <td>1823223624.00</td>\n",
       "      <td>2068223624.00</td>\n",
       "      <td>744.17</td>\n",
       "    </tr>\n",
       "    <tr>\n",
       "      <th>779</th>\n",
       "      <td>Avengers: Infinity War</td>\n",
       "      <td>PG-13</td>\n",
       "      <td>1727359754.00</td>\n",
       "      <td>2048359754.00</td>\n",
       "      <td>538.12</td>\n",
       "    </tr>\n",
       "    <tr>\n",
       "      <th>1164</th>\n",
       "      <td>Jurassic World</td>\n",
       "      <td>PG-13</td>\n",
       "      <td>1520400637.00</td>\n",
       "      <td>1670400637.00</td>\n",
       "      <td>1013.60</td>\n",
       "    </tr>\n",
       "    <tr>\n",
       "      <th>2136</th>\n",
       "      <td>The Lion King</td>\n",
       "      <td>PG</td>\n",
       "      <td>1396943394.00</td>\n",
       "      <td>1656943394.00</td>\n",
       "      <td>537.29</td>\n",
       "    </tr>\n",
       "  </tbody>\n",
       "</table>\n",
       "</div>"
      ],
      "text/plain": [
       "                                   primary_title rating   Net_Revenue  \\\n",
       "780                            Avengers: Endgame  PG-13 2441800564.00   \n",
       "176   Star Wars: Episode VII - The Force Awakens  PG-13 1823223624.00   \n",
       "779                       Avengers: Infinity War  PG-13 1727359754.00   \n",
       "1164                              Jurassic World  PG-13 1520400637.00   \n",
       "2136                               The Lion King     PG 1396943394.00   \n",
       "\n",
       "          ww_gross     ROI  \n",
       "780  2797800564.00  685.90  \n",
       "176  2068223624.00  744.17  \n",
       "779  2048359754.00  538.12  \n",
       "1164 1670400637.00 1013.60  \n",
       "2136 1656943394.00  537.29  "
      ]
     },
     "execution_count": 89,
     "metadata": {},
     "output_type": "execute_result"
    }
   ],
   "source": [
    "# Created smaller rating dataframe.\n",
    "\n",
    "rating_revenue_df = imdb_full_df.loc[:, ['primary_title', 'rating', 'Net_Revenue', 'ww_gross', 'ROI']]\n",
    "rating_revenue_df.head()"
   ]
  },
  {
   "cell_type": "code",
   "execution_count": 90,
   "metadata": {
    "hidden": true
   },
   "outputs": [
    {
     "data": {
      "text/plain": [
       "R        869\n",
       "PG-13    764\n",
       "PG       289\n",
       "G         26\n",
       "TV-MA     12\n",
       "TV-14      6\n",
       "NC-17      1\n",
       "TV-PG      1\n",
       "Name: rating, dtype: int64"
      ]
     },
     "execution_count": 90,
     "metadata": {},
     "output_type": "execute_result"
    }
   ],
   "source": [
    "# Checked the value counts.  Ew there's still TV ratings.\n",
    "\n",
    "rating_revenue_df['rating'].value_counts()"
   ]
  },
  {
   "cell_type": "code",
   "execution_count": 91,
   "metadata": {
    "hidden": true,
    "scrolled": false
   },
   "outputs": [
    {
     "data": {
      "text/plain": [
       "R        869\n",
       "PG-13    764\n",
       "PG       289\n",
       "G         26\n",
       "NC-17      1\n",
       "Name: rating, dtype: int64"
      ]
     },
     "execution_count": 91,
     "metadata": {},
     "output_type": "execute_result"
    }
   ],
   "source": [
    "# Removing irrelevant ratings\n",
    "\n",
    "ratings_list = ['R', 'PG-13', 'PG', 'G', 'NC-17']\n",
    "for i in rating_revenue_df['rating']:\n",
    "    if i not in ratings_list:\n",
    "        rating_revenue_df['rating'].replace(i, np.nan, inplace=True)\n",
    "    \n",
    "rating_revenue_df['rating'].value_counts()"
   ]
  },
  {
   "cell_type": "markdown",
   "metadata": {
    "hidden": true
   },
   "source": [
    "<h5> Note: </h5>\n",
    "While this seems weird to keep movies with TV ratings, each of those listings does have a box office gross.  Upon further research, I learned that movies produced for television can open theatrically in some cases.  However, for the purposes of this analysis, I want to make the assumption that Microsoft will not be producing films for television.  For more information, <a href=\"https://help.imdb.com/article/imdb/discover-watch/how-do-you-decide-if-a-title-is-a-film-a-tv-movie-or-a-miniseries/GKUQEMEFSM54T2KT?ref_=helpart_nav_21#\"> click here.</a> \n"
   ]
  },
  {
   "cell_type": "code",
   "execution_count": 92,
   "metadata": {
    "hidden": true,
    "scrolled": true
   },
   "outputs": [
    {
     "name": "stdout",
     "output_type": "stream",
     "text": [
      "(1968, 5)\n",
      "\n",
      "        Net_Revenue      ww_gross      ROI\n",
      "count       1968.00       1968.00  1968.00\n",
      "mean    94500947.26  136764388.72   235.37\n",
      "std    202951502.27  241492763.70   550.83\n",
      "min   -297460960.00        663.00   -99.99\n",
      "25%     -1911619.25    8156312.00   -31.38\n",
      "50%     21635963.50   47198321.50   107.28\n",
      "75%     95508765.75  149306619.00   303.21\n",
      "max   2441800564.00 2797800564.00 10075.85\n",
      "\n",
      "<class 'pandas.core.frame.DataFrame'>\n",
      "Int64Index: 1968 entries, 780 to 1219\n",
      "Data columns (total 5 columns):\n",
      " #   Column         Non-Null Count  Dtype  \n",
      "---  ------         --------------  -----  \n",
      " 0   primary_title  1964 non-null   object \n",
      " 1   rating         1949 non-null   object \n",
      " 2   Net_Revenue    1968 non-null   float64\n",
      " 3   ww_gross       1968 non-null   float64\n",
      " 4   ROI            1968 non-null   float64\n",
      "dtypes: float64(3), object(2)\n",
      "memory usage: 92.2+ KB\n",
      "None\n",
      "\n",
      "primary_title     4\n",
      "rating           19\n",
      "Net_Revenue       0\n",
      "ww_gross          0\n",
      "ROI               0\n",
      "dtype: int64\n"
     ]
    }
   ],
   "source": [
    "#Getting an overview of info using the function...again.\n",
    "\n",
    "get_info(rating_revenue_df)"
   ]
  },
  {
   "cell_type": "code",
   "execution_count": 93,
   "metadata": {
    "hidden": true
   },
   "outputs": [
    {
     "data": {
      "text/plain": [
       "0    R\n",
       "dtype: object"
      ]
     },
     "execution_count": 93,
     "metadata": {},
     "output_type": "execute_result"
    }
   ],
   "source": [
    "# Getting the mode of rating_revenue_df.\n",
    "\n",
    "rating_revenue_df['rating'].mode()\n"
   ]
  },
  {
   "cell_type": "code",
   "execution_count": 94,
   "metadata": {
    "hidden": true
   },
   "outputs": [],
   "source": [
    "# Filling the nan's with the mode.\n",
    "\n",
    "rating_revenue_df['rating'].fillna('R', inplace = True)"
   ]
  },
  {
   "cell_type": "code",
   "execution_count": 95,
   "metadata": {
    "hidden": true
   },
   "outputs": [],
   "source": [
    "# Dropping the titles from the dataframe. \n",
    "\n",
    "rating_revenue_df.drop('primary_title', axis = 1, inplace = True)"
   ]
  },
  {
   "cell_type": "code",
   "execution_count": 96,
   "metadata": {
    "hidden": true,
    "scrolled": true
   },
   "outputs": [
    {
     "data": {
      "text/html": [
       "<div>\n",
       "<style scoped>\n",
       "    .dataframe tbody tr th:only-of-type {\n",
       "        vertical-align: middle;\n",
       "    }\n",
       "\n",
       "    .dataframe tbody tr th {\n",
       "        vertical-align: top;\n",
       "    }\n",
       "\n",
       "    .dataframe thead th {\n",
       "        text-align: right;\n",
       "    }\n",
       "</style>\n",
       "<table border=\"1\" class=\"dataframe\">\n",
       "  <thead>\n",
       "    <tr style=\"text-align: right;\">\n",
       "      <th></th>\n",
       "      <th>rating</th>\n",
       "      <th>Net_Revenue</th>\n",
       "      <th>ww_gross</th>\n",
       "      <th>ROI</th>\n",
       "    </tr>\n",
       "  </thead>\n",
       "  <tbody>\n",
       "    <tr>\n",
       "      <th>780</th>\n",
       "      <td>PG-13</td>\n",
       "      <td>2441800564.00</td>\n",
       "      <td>2797800564.00</td>\n",
       "      <td>685.90</td>\n",
       "    </tr>\n",
       "    <tr>\n",
       "      <th>176</th>\n",
       "      <td>PG-13</td>\n",
       "      <td>1823223624.00</td>\n",
       "      <td>2068223624.00</td>\n",
       "      <td>744.17</td>\n",
       "    </tr>\n",
       "    <tr>\n",
       "      <th>779</th>\n",
       "      <td>PG-13</td>\n",
       "      <td>1727359754.00</td>\n",
       "      <td>2048359754.00</td>\n",
       "      <td>538.12</td>\n",
       "    </tr>\n",
       "    <tr>\n",
       "      <th>1164</th>\n",
       "      <td>PG-13</td>\n",
       "      <td>1520400637.00</td>\n",
       "      <td>1670400637.00</td>\n",
       "      <td>1013.60</td>\n",
       "    </tr>\n",
       "    <tr>\n",
       "      <th>2136</th>\n",
       "      <td>PG</td>\n",
       "      <td>1396943394.00</td>\n",
       "      <td>1656943394.00</td>\n",
       "      <td>537.29</td>\n",
       "    </tr>\n",
       "  </tbody>\n",
       "</table>\n",
       "</div>"
      ],
      "text/plain": [
       "     rating   Net_Revenue      ww_gross     ROI\n",
       "780   PG-13 2441800564.00 2797800564.00  685.90\n",
       "176   PG-13 1823223624.00 2068223624.00  744.17\n",
       "779   PG-13 1727359754.00 2048359754.00  538.12\n",
       "1164  PG-13 1520400637.00 1670400637.00 1013.60\n",
       "2136     PG 1396943394.00 1656943394.00  537.29"
      ]
     },
     "execution_count": 96,
     "metadata": {},
     "output_type": "execute_result"
    }
   ],
   "source": [
    "rating_revenue_df.head()"
   ]
  },
  {
   "cell_type": "code",
   "execution_count": 97,
   "metadata": {
    "hidden": true,
    "scrolled": true
   },
   "outputs": [
    {
     "data": {
      "text/html": [
       "<div>\n",
       "<style scoped>\n",
       "    .dataframe tbody tr th:only-of-type {\n",
       "        vertical-align: middle;\n",
       "    }\n",
       "\n",
       "    .dataframe tbody tr th {\n",
       "        vertical-align: top;\n",
       "    }\n",
       "\n",
       "    .dataframe thead th {\n",
       "        text-align: right;\n",
       "    }\n",
       "</style>\n",
       "<table border=\"1\" class=\"dataframe\">\n",
       "  <thead>\n",
       "    <tr style=\"text-align: right;\">\n",
       "      <th></th>\n",
       "      <th>rating</th>\n",
       "      <th>Net_Revenue</th>\n",
       "    </tr>\n",
       "  </thead>\n",
       "  <tbody>\n",
       "    <tr>\n",
       "      <th>0</th>\n",
       "      <td>G</td>\n",
       "      <td>27840755.50</td>\n",
       "    </tr>\n",
       "    <tr>\n",
       "      <th>1</th>\n",
       "      <td>NC-17</td>\n",
       "      <td>12623767.00</td>\n",
       "    </tr>\n",
       "    <tr>\n",
       "      <th>2</th>\n",
       "      <td>PG</td>\n",
       "      <td>58943453.00</td>\n",
       "    </tr>\n",
       "    <tr>\n",
       "      <th>3</th>\n",
       "      <td>PG-13</td>\n",
       "      <td>35347211.50</td>\n",
       "    </tr>\n",
       "    <tr>\n",
       "      <th>4</th>\n",
       "      <td>R</td>\n",
       "      <td>6129757.50</td>\n",
       "    </tr>\n",
       "  </tbody>\n",
       "</table>\n",
       "</div>"
      ],
      "text/plain": [
       "  rating  Net_Revenue\n",
       "0      G  27840755.50\n",
       "1  NC-17  12623767.00\n",
       "2     PG  58943453.00\n",
       "3  PG-13  35347211.50\n",
       "4      R   6129757.50"
      ]
     },
     "execution_count": 97,
     "metadata": {},
     "output_type": "execute_result"
    }
   ],
   "source": [
    "# Grouping the each instance of the rating into a single value and adding the net revenues. \n",
    "# Then turning it back from a series to a dataframe. \n",
    "\n",
    "final_rating_revenue_df = rating_revenue_df.groupby('rating')['Net_Revenue'].median()\n",
    "final_rating_revenue_df.to_frame(name = 'Net_Revenue').reset_index()\n",
    "\n"
   ]
  },
  {
   "cell_type": "code",
   "execution_count": 98,
   "metadata": {
    "hidden": true
   },
   "outputs": [
    {
     "data": {
      "text/plain": [
       "pandas.core.series.Series"
      ]
     },
     "execution_count": 98,
     "metadata": {},
     "output_type": "execute_result"
    }
   ],
   "source": [
    "type(final_rating_revenue_df)"
   ]
  },
  {
   "cell_type": "code",
   "execution_count": 99,
   "metadata": {
    "hidden": true,
    "scrolled": true
   },
   "outputs": [
    {
     "data": {
      "text/plain": [
       "pandas.core.frame.DataFrame"
      ]
     },
     "execution_count": 99,
     "metadata": {},
     "output_type": "execute_result"
    }
   ],
   "source": [
    "type(final_genre_revenue_df)"
   ]
  },
  {
   "cell_type": "code",
   "execution_count": 100,
   "metadata": {
    "hidden": true,
    "scrolled": true
   },
   "outputs": [
    {
     "data": {
      "text/html": [
       "<div>\n",
       "<style scoped>\n",
       "    .dataframe tbody tr th:only-of-type {\n",
       "        vertical-align: middle;\n",
       "    }\n",
       "\n",
       "    .dataframe tbody tr th {\n",
       "        vertical-align: top;\n",
       "    }\n",
       "\n",
       "    .dataframe thead th {\n",
       "        text-align: right;\n",
       "    }\n",
       "</style>\n",
       "<table border=\"1\" class=\"dataframe\">\n",
       "  <thead>\n",
       "    <tr style=\"text-align: right;\">\n",
       "      <th></th>\n",
       "      <th>Net_Revenue</th>\n",
       "    </tr>\n",
       "    <tr>\n",
       "      <th>rating</th>\n",
       "      <th></th>\n",
       "    </tr>\n",
       "  </thead>\n",
       "  <tbody>\n",
       "    <tr>\n",
       "      <th>G</th>\n",
       "      <td>27840755.50</td>\n",
       "    </tr>\n",
       "    <tr>\n",
       "      <th>NC-17</th>\n",
       "      <td>12623767.00</td>\n",
       "    </tr>\n",
       "    <tr>\n",
       "      <th>PG</th>\n",
       "      <td>58943453.00</td>\n",
       "    </tr>\n",
       "    <tr>\n",
       "      <th>PG-13</th>\n",
       "      <td>35347211.50</td>\n",
       "    </tr>\n",
       "    <tr>\n",
       "      <th>R</th>\n",
       "      <td>6129757.50</td>\n",
       "    </tr>\n",
       "  </tbody>\n",
       "</table>\n",
       "</div>"
      ],
      "text/plain": [
       "        Net_Revenue\n",
       "rating             \n",
       "G       27840755.50\n",
       "NC-17   12623767.00\n",
       "PG      58943453.00\n",
       "PG-13   35347211.50\n",
       "R        6129757.50"
      ]
     },
     "execution_count": 100,
     "metadata": {},
     "output_type": "execute_result"
    }
   ],
   "source": [
    "final_rating_revenue_df.to_frame()"
   ]
  },
  {
   "cell_type": "code",
   "execution_count": 101,
   "metadata": {
    "hidden": true
   },
   "outputs": [
    {
     "data": {
      "text/plain": [
       "rating\n",
       "G       27840755.50\n",
       "NC-17   12623767.00\n",
       "PG      58943453.00\n",
       "PG-13   35347211.50\n",
       "R        6129757.50\n",
       "Name: Net_Revenue, dtype: float64"
      ]
     },
     "execution_count": 101,
     "metadata": {},
     "output_type": "execute_result"
    }
   ],
   "source": [
    "final_rating_revenue_df"
   ]
  },
  {
   "cell_type": "code",
   "execution_count": 102,
   "metadata": {
    "hidden": true
   },
   "outputs": [
    {
     "data": {
      "text/plain": [
       "pandas.core.frame.DataFrame"
      ]
     },
     "execution_count": 102,
     "metadata": {},
     "output_type": "execute_result"
    }
   ],
   "source": [
    "# Took a second, but figured out how to get it to be a dataframe. \n",
    "\n",
    "final_rating_revenue_df = final_rating_revenue_df.to_frame(name = 'Net_Revenue').reset_index()\n",
    "type(final_rating_revenue_df)"
   ]
  },
  {
   "cell_type": "code",
   "execution_count": 103,
   "metadata": {
    "hidden": true,
    "scrolled": false
   },
   "outputs": [],
   "source": [
    "# Sorting the dataframe by Net Revenue\n",
    "\n",
    "final_rating_revenue_df = final_rating_revenue_df.sort_values('Net_Revenue', ascending = False) "
   ]
  },
  {
   "cell_type": "code",
   "execution_count": 104,
   "metadata": {
    "hidden": true
   },
   "outputs": [
    {
     "data": {
      "text/html": [
       "<div>\n",
       "<style scoped>\n",
       "    .dataframe tbody tr th:only-of-type {\n",
       "        vertical-align: middle;\n",
       "    }\n",
       "\n",
       "    .dataframe tbody tr th {\n",
       "        vertical-align: top;\n",
       "    }\n",
       "\n",
       "    .dataframe thead th {\n",
       "        text-align: right;\n",
       "    }\n",
       "</style>\n",
       "<table border=\"1\" class=\"dataframe\">\n",
       "  <thead>\n",
       "    <tr style=\"text-align: right;\">\n",
       "      <th></th>\n",
       "      <th>rating</th>\n",
       "      <th>Net_Revenue</th>\n",
       "    </tr>\n",
       "  </thead>\n",
       "  <tbody>\n",
       "    <tr>\n",
       "      <th>2</th>\n",
       "      <td>PG</td>\n",
       "      <td>58943453.00</td>\n",
       "    </tr>\n",
       "    <tr>\n",
       "      <th>3</th>\n",
       "      <td>PG-13</td>\n",
       "      <td>35347211.50</td>\n",
       "    </tr>\n",
       "    <tr>\n",
       "      <th>0</th>\n",
       "      <td>G</td>\n",
       "      <td>27840755.50</td>\n",
       "    </tr>\n",
       "    <tr>\n",
       "      <th>1</th>\n",
       "      <td>NC-17</td>\n",
       "      <td>12623767.00</td>\n",
       "    </tr>\n",
       "    <tr>\n",
       "      <th>4</th>\n",
       "      <td>R</td>\n",
       "      <td>6129757.50</td>\n",
       "    </tr>\n",
       "  </tbody>\n",
       "</table>\n",
       "</div>"
      ],
      "text/plain": [
       "  rating  Net_Revenue\n",
       "2     PG  58943453.00\n",
       "3  PG-13  35347211.50\n",
       "0      G  27840755.50\n",
       "1  NC-17  12623767.00\n",
       "4      R   6129757.50"
      ]
     },
     "execution_count": 104,
     "metadata": {},
     "output_type": "execute_result"
    }
   ],
   "source": [
    "final_rating_revenue_df"
   ]
  },
  {
   "cell_type": "code",
   "execution_count": 105,
   "metadata": {
    "hidden": true
   },
   "outputs": [],
   "source": [
    "# Trying a few different plots\n",
    "#px.box(data_frame = rating_revenue_df, x = 'rating', y = 'Net_Revenue')"
   ]
  },
  {
   "cell_type": "markdown",
   "metadata": {
    "hidden": true
   },
   "source": [
    "### Fig. 6 - Median Net Revenue by Rating\n",
    "The figure below represents the median net revenue of movies with particular MPAA ratings over the last 10 years.  <b> Films that are rated PG make up a large portion of the total profits of the entire film industry.</b>  "
   ]
  },
  {
   "cell_type": "code",
   "execution_count": 106,
   "metadata": {
    "hidden": true,
    "scrolled": false
   },
   "outputs": [
    {
     "data": {
      "image/png": "[encoded data removed]",
      "text/plain": [
       "<Figure size 720x576 with 1 Axes>"
      ]
     },
     "metadata": {},
     "output_type": "display_data"
    }
   ],
   "source": [
    "#Plotting out this information on a bar plot. \n",
    "ax = sns.set_style(\"darkgrid\")\n",
    "ax = plt.figure(figsize = (10,8))\n",
    "ax = sns.set_context(\"talk\")\n",
    "ax = sns.barplot(x = 'rating', y = 'Net_Revenue', data = final_rating_revenue_df, ci = 68)\n",
    "ax.set_title('Median Net Revenue by Rating')\n",
    "ax.set_xlabel('Rating')\n",
    "ax.set_ylabel('Median Net Revenue');\n",
    "\n",
    "fmt = '${x:,.0f}'\n",
    "tick = mtick.StrMethodFormatter(fmt)\n",
    "ax.yaxis.set_major_formatter(tick) "
   ]
  },
  {
   "cell_type": "code",
   "execution_count": 107,
   "metadata": {
    "hidden": true
   },
   "outputs": [],
   "source": [
    "rating_roi_df = rating_revenue_df.groupby('rating')['ROI'].mean()"
   ]
  },
  {
   "cell_type": "code",
   "execution_count": 108,
   "metadata": {
    "hidden": true
   },
   "outputs": [],
   "source": [
    "rating_roi_df = rating_roi_df.to_frame(name = 'ROI').reset_index()"
   ]
  },
  {
   "cell_type": "code",
   "execution_count": 109,
   "metadata": {
    "hidden": true
   },
   "outputs": [
    {
     "data": {
      "text/html": [
       "<div>\n",
       "<style scoped>\n",
       "    .dataframe tbody tr th:only-of-type {\n",
       "        vertical-align: middle;\n",
       "    }\n",
       "\n",
       "    .dataframe tbody tr th {\n",
       "        vertical-align: top;\n",
       "    }\n",
       "\n",
       "    .dataframe thead th {\n",
       "        text-align: right;\n",
       "    }\n",
       "</style>\n",
       "<table border=\"1\" class=\"dataframe\">\n",
       "  <thead>\n",
       "    <tr style=\"text-align: right;\">\n",
       "      <th></th>\n",
       "      <th>rating</th>\n",
       "      <th>ROI</th>\n",
       "    </tr>\n",
       "  </thead>\n",
       "  <tbody>\n",
       "    <tr>\n",
       "      <th>0</th>\n",
       "      <td>G</td>\n",
       "      <td>247.89</td>\n",
       "    </tr>\n",
       "    <tr>\n",
       "      <th>2</th>\n",
       "      <td>PG</td>\n",
       "      <td>244.83</td>\n",
       "    </tr>\n",
       "    <tr>\n",
       "      <th>3</th>\n",
       "      <td>PG-13</td>\n",
       "      <td>235.92</td>\n",
       "    </tr>\n",
       "    <tr>\n",
       "      <th>4</th>\n",
       "      <td>R</td>\n",
       "      <td>231.50</td>\n",
       "    </tr>\n",
       "    <tr>\n",
       "      <th>1</th>\n",
       "      <td>NC-17</td>\n",
       "      <td>194.21</td>\n",
       "    </tr>\n",
       "  </tbody>\n",
       "</table>\n",
       "</div>"
      ],
      "text/plain": [
       "  rating    ROI\n",
       "0      G 247.89\n",
       "2     PG 244.83\n",
       "3  PG-13 235.92\n",
       "4      R 231.50\n",
       "1  NC-17 194.21"
      ]
     },
     "execution_count": 109,
     "metadata": {},
     "output_type": "execute_result"
    }
   ],
   "source": [
    "rating_roi_df = rating_roi_df.sort_values('ROI', ascending = False) \n",
    "rating_roi_df"
   ]
  },
  {
   "cell_type": "markdown",
   "metadata": {
    "hidden": true
   },
   "source": [
    "### Fig. 7 - Average ROI by Rating\n",
    "In terms of return on investment, we can see that <b>there's little difference in the average ROI between G, PG, PG-13 and R rated movies </b> with G rated movies edging out the others in this category.  Therefore, <b>we can still say that making a PG rated movie is the safest bet. </b>"
   ]
  },
  {
   "cell_type": "code",
   "execution_count": 110,
   "metadata": {
    "hidden": true
   },
   "outputs": [
    {
     "data": {
      "image/png": "[encoded data removed]",
      "text/plain": [
       "<Figure size 720x576 with 1 Axes>"
      ]
     },
     "metadata": {},
     "output_type": "display_data"
    }
   ],
   "source": [
    "plt.figure(figsize = (10,8))\n",
    "ax = sns.set_context(\"talk\")\n",
    "ax = sns.set_style(\"darkgrid\")\n",
    "ax = sns.barplot(x = 'rating', y = 'ROI', data = rating_roi_df, ci = 68)\n",
    "ax.set_title('Average ROI by Rating')\n",
    "ax.set_xlabel('Rating')\n",
    "ax.set_ylabel('ROI')\n",
    "\n",
    "\n",
    "fmt = '{x:,.0f}%'\n",
    "tick = mtick.StrMethodFormatter(fmt)\n",
    "ax.yaxis.set_major_formatter(tick) \n",
    "#plt.xticks(rotation=45);"
   ]
  },
  {
   "cell_type": "markdown",
   "metadata": {
    "heading_collapsed": true
   },
   "source": [
    "## Q4. Does the length of a film affect the worldwide gross? "
   ]
  },
  {
   "cell_type": "code",
   "execution_count": 111,
   "metadata": {
    "hidden": true
   },
   "outputs": [
    {
     "data": {
      "text/html": [
       "<div>\n",
       "<style scoped>\n",
       "    .dataframe tbody tr th:only-of-type {\n",
       "        vertical-align: middle;\n",
       "    }\n",
       "\n",
       "    .dataframe tbody tr th {\n",
       "        vertical-align: top;\n",
       "    }\n",
       "\n",
       "    .dataframe thead th {\n",
       "        text-align: right;\n",
       "    }\n",
       "</style>\n",
       "<table border=\"1\" class=\"dataframe\">\n",
       "  <thead>\n",
       "    <tr style=\"text-align: right;\">\n",
       "      <th></th>\n",
       "      <th>tconst</th>\n",
       "      <th>budget</th>\n",
       "      <th>gross</th>\n",
       "      <th>ww_gross</th>\n",
       "      <th>rating</th>\n",
       "      <th>primary_title</th>\n",
       "      <th>start_year</th>\n",
       "      <th>runtime_minutes</th>\n",
       "      <th>Net_Revenue</th>\n",
       "      <th>ROI</th>\n",
       "      <th>genre_list</th>\n",
       "    </tr>\n",
       "  </thead>\n",
       "  <tbody>\n",
       "    <tr>\n",
       "      <th>780</th>\n",
       "      <td>tt4154796</td>\n",
       "      <td>356000000.00</td>\n",
       "      <td>858373000.00</td>\n",
       "      <td>2797800564.00</td>\n",
       "      <td>PG-13</td>\n",
       "      <td>Avengers: Endgame</td>\n",
       "      <td>2019.00</td>\n",
       "      <td>181.00</td>\n",
       "      <td>2441800564.00</td>\n",
       "      <td>685.90</td>\n",
       "      <td>[Action, Adventure, Sci-Fi]</td>\n",
       "    </tr>\n",
       "    <tr>\n",
       "      <th>176</th>\n",
       "      <td>tt2488496</td>\n",
       "      <td>245000000.00</td>\n",
       "      <td>936662225.00</td>\n",
       "      <td>2068223624.00</td>\n",
       "      <td>PG-13</td>\n",
       "      <td>Star Wars: Episode VII - The Force Awakens</td>\n",
       "      <td>2015.00</td>\n",
       "      <td>136.00</td>\n",
       "      <td>1823223624.00</td>\n",
       "      <td>744.17</td>\n",
       "      <td>[Action, Adventure, Fantasy]</td>\n",
       "    </tr>\n",
       "    <tr>\n",
       "      <th>779</th>\n",
       "      <td>tt4154756</td>\n",
       "      <td>321000000.00</td>\n",
       "      <td>678815482.00</td>\n",
       "      <td>2048359754.00</td>\n",
       "      <td>PG-13</td>\n",
       "      <td>Avengers: Infinity War</td>\n",
       "      <td>2018.00</td>\n",
       "      <td>149.00</td>\n",
       "      <td>1727359754.00</td>\n",
       "      <td>538.12</td>\n",
       "      <td>[Action, Adventure, Sci-Fi]</td>\n",
       "    </tr>\n",
       "    <tr>\n",
       "      <th>1164</th>\n",
       "      <td>tt0369610</td>\n",
       "      <td>150000000.00</td>\n",
       "      <td>652270625.00</td>\n",
       "      <td>1670400637.00</td>\n",
       "      <td>PG-13</td>\n",
       "      <td>Jurassic World</td>\n",
       "      <td>2015.00</td>\n",
       "      <td>124.00</td>\n",
       "      <td>1520400637.00</td>\n",
       "      <td>1013.60</td>\n",
       "      <td>[Action, Adventure, Sci-Fi]</td>\n",
       "    </tr>\n",
       "    <tr>\n",
       "      <th>2136</th>\n",
       "      <td>tt6105098</td>\n",
       "      <td>260000000.00</td>\n",
       "      <td>543638043.00</td>\n",
       "      <td>1656943394.00</td>\n",
       "      <td>PG</td>\n",
       "      <td>The Lion King</td>\n",
       "      <td>2019.00</td>\n",
       "      <td>87.00</td>\n",
       "      <td>1396943394.00</td>\n",
       "      <td>537.29</td>\n",
       "      <td>[Adventure, Animation, Drama]</td>\n",
       "    </tr>\n",
       "  </tbody>\n",
       "</table>\n",
       "</div>"
      ],
      "text/plain": [
       "         tconst       budget        gross      ww_gross rating  \\\n",
       "780   tt4154796 356000000.00 858373000.00 2797800564.00  PG-13   \n",
       "176   tt2488496 245000000.00 936662225.00 2068223624.00  PG-13   \n",
       "779   tt4154756 321000000.00 678815482.00 2048359754.00  PG-13   \n",
       "1164  tt0369610 150000000.00 652270625.00 1670400637.00  PG-13   \n",
       "2136  tt6105098 260000000.00 543638043.00 1656943394.00     PG   \n",
       "\n",
       "                                   primary_title  start_year  runtime_minutes  \\\n",
       "780                            Avengers: Endgame     2019.00           181.00   \n",
       "176   Star Wars: Episode VII - The Force Awakens     2015.00           136.00   \n",
       "779                       Avengers: Infinity War     2018.00           149.00   \n",
       "1164                              Jurassic World     2015.00           124.00   \n",
       "2136                               The Lion King     2019.00            87.00   \n",
       "\n",
       "       Net_Revenue     ROI                     genre_list  \n",
       "780  2441800564.00  685.90    [Action, Adventure, Sci-Fi]  \n",
       "176  1823223624.00  744.17   [Action, Adventure, Fantasy]  \n",
       "779  1727359754.00  538.12    [Action, Adventure, Sci-Fi]  \n",
       "1164 1520400637.00 1013.60    [Action, Adventure, Sci-Fi]  \n",
       "2136 1396943394.00  537.29  [Adventure, Animation, Drama]  "
      ]
     },
     "execution_count": 111,
     "metadata": {},
     "output_type": "execute_result"
    }
   ],
   "source": [
    "imdb_full_df.head()"
   ]
  },
  {
   "cell_type": "code",
   "execution_count": 112,
   "metadata": {
    "hidden": true
   },
   "outputs": [
    {
     "data": {
      "text/html": [
       "<div>\n",
       "<style scoped>\n",
       "    .dataframe tbody tr th:only-of-type {\n",
       "        vertical-align: middle;\n",
       "    }\n",
       "\n",
       "    .dataframe tbody tr th {\n",
       "        vertical-align: top;\n",
       "    }\n",
       "\n",
       "    .dataframe thead th {\n",
       "        text-align: right;\n",
       "    }\n",
       "</style>\n",
       "<table border=\"1\" class=\"dataframe\">\n",
       "  <thead>\n",
       "    <tr style=\"text-align: right;\">\n",
       "      <th></th>\n",
       "      <th>primary_title</th>\n",
       "      <th>runtime_minutes</th>\n",
       "      <th>ww_gross</th>\n",
       "      <th>ROI</th>\n",
       "      <th>Net_Revenue</th>\n",
       "    </tr>\n",
       "  </thead>\n",
       "  <tbody>\n",
       "    <tr>\n",
       "      <th>780</th>\n",
       "      <td>Avengers: Endgame</td>\n",
       "      <td>181.00</td>\n",
       "      <td>2797800564.00</td>\n",
       "      <td>685.90</td>\n",
       "      <td>2441800564.00</td>\n",
       "    </tr>\n",
       "    <tr>\n",
       "      <th>176</th>\n",
       "      <td>Star Wars: Episode VII - The Force Awakens</td>\n",
       "      <td>136.00</td>\n",
       "      <td>2068223624.00</td>\n",
       "      <td>744.17</td>\n",
       "      <td>1823223624.00</td>\n",
       "    </tr>\n",
       "    <tr>\n",
       "      <th>779</th>\n",
       "      <td>Avengers: Infinity War</td>\n",
       "      <td>149.00</td>\n",
       "      <td>2048359754.00</td>\n",
       "      <td>538.12</td>\n",
       "      <td>1727359754.00</td>\n",
       "    </tr>\n",
       "    <tr>\n",
       "      <th>1164</th>\n",
       "      <td>Jurassic World</td>\n",
       "      <td>124.00</td>\n",
       "      <td>1670400637.00</td>\n",
       "      <td>1013.60</td>\n",
       "      <td>1520400637.00</td>\n",
       "    </tr>\n",
       "    <tr>\n",
       "      <th>2136</th>\n",
       "      <td>The Lion King</td>\n",
       "      <td>87.00</td>\n",
       "      <td>1656943394.00</td>\n",
       "      <td>537.29</td>\n",
       "      <td>1396943394.00</td>\n",
       "    </tr>\n",
       "  </tbody>\n",
       "</table>\n",
       "</div>"
      ],
      "text/plain": [
       "                                   primary_title  runtime_minutes  \\\n",
       "780                            Avengers: Endgame           181.00   \n",
       "176   Star Wars: Episode VII - The Force Awakens           136.00   \n",
       "779                       Avengers: Infinity War           149.00   \n",
       "1164                              Jurassic World           124.00   \n",
       "2136                               The Lion King            87.00   \n",
       "\n",
       "          ww_gross     ROI   Net_Revenue  \n",
       "780  2797800564.00  685.90 2441800564.00  \n",
       "176  2068223624.00  744.17 1823223624.00  \n",
       "779  2048359754.00  538.12 1727359754.00  \n",
       "1164 1670400637.00 1013.60 1520400637.00  \n",
       "2136 1656943394.00  537.29 1396943394.00  "
      ]
     },
     "execution_count": 112,
     "metadata": {},
     "output_type": "execute_result"
    }
   ],
   "source": [
    "#Creating a separate dataframe with specific columns. \n",
    "\n",
    "runtime_gross_df = imdb_full_df.loc[:, ['primary_title', 'runtime_minutes', 'ww_gross', 'ROI', 'Net_Revenue']]\n",
    "runtime_gross_df.head()"
   ]
  },
  {
   "cell_type": "code",
   "execution_count": 113,
   "metadata": {
    "hidden": true
   },
   "outputs": [
    {
     "data": {
      "text/plain": [
       "primary_title      4\n",
       "runtime_minutes    4\n",
       "ww_gross           0\n",
       "ROI                0\n",
       "Net_Revenue        0\n",
       "dtype: int64"
      ]
     },
     "execution_count": 113,
     "metadata": {},
     "output_type": "execute_result"
    }
   ],
   "source": [
    "#Checking for nan's\n",
    "\n",
    "runtime_gross_df.isna().sum()"
   ]
  },
  {
   "cell_type": "code",
   "execution_count": 114,
   "metadata": {
    "hidden": true
   },
   "outputs": [],
   "source": [
    "# Dropping a few without a title. \n",
    "runtime_gross_df = runtime_gross_df.dropna()\n"
   ]
  },
  {
   "cell_type": "code",
   "execution_count": 115,
   "metadata": {
    "hidden": true,
    "scrolled": false
   },
   "outputs": [
    {
     "data": {
      "text/html": [
       "<div>\n",
       "<style scoped>\n",
       "    .dataframe tbody tr th:only-of-type {\n",
       "        vertical-align: middle;\n",
       "    }\n",
       "\n",
       "    .dataframe tbody tr th {\n",
       "        vertical-align: top;\n",
       "    }\n",
       "\n",
       "    .dataframe thead th {\n",
       "        text-align: right;\n",
       "    }\n",
       "</style>\n",
       "<table border=\"1\" class=\"dataframe\">\n",
       "  <thead>\n",
       "    <tr style=\"text-align: right;\">\n",
       "      <th></th>\n",
       "      <th>primary_title</th>\n",
       "      <th>runtime_minutes</th>\n",
       "      <th>ww_gross</th>\n",
       "      <th>ROI</th>\n",
       "      <th>Net_Revenue</th>\n",
       "    </tr>\n",
       "  </thead>\n",
       "  <tbody>\n",
       "    <tr>\n",
       "      <th>780</th>\n",
       "      <td>Avengers: Endgame</td>\n",
       "      <td>181.00</td>\n",
       "      <td>2797800564.00</td>\n",
       "      <td>685.90</td>\n",
       "      <td>2441800564.00</td>\n",
       "    </tr>\n",
       "    <tr>\n",
       "      <th>176</th>\n",
       "      <td>Star Wars: Episode VII - The Force Awakens</td>\n",
       "      <td>136.00</td>\n",
       "      <td>2068223624.00</td>\n",
       "      <td>744.17</td>\n",
       "      <td>1823223624.00</td>\n",
       "    </tr>\n",
       "    <tr>\n",
       "      <th>779</th>\n",
       "      <td>Avengers: Infinity War</td>\n",
       "      <td>149.00</td>\n",
       "      <td>2048359754.00</td>\n",
       "      <td>538.12</td>\n",
       "      <td>1727359754.00</td>\n",
       "    </tr>\n",
       "    <tr>\n",
       "      <th>1164</th>\n",
       "      <td>Jurassic World</td>\n",
       "      <td>124.00</td>\n",
       "      <td>1670400637.00</td>\n",
       "      <td>1013.60</td>\n",
       "      <td>1520400637.00</td>\n",
       "    </tr>\n",
       "    <tr>\n",
       "      <th>2136</th>\n",
       "      <td>The Lion King</td>\n",
       "      <td>87.00</td>\n",
       "      <td>1656943394.00</td>\n",
       "      <td>537.29</td>\n",
       "      <td>1396943394.00</td>\n",
       "    </tr>\n",
       "  </tbody>\n",
       "</table>\n",
       "</div>"
      ],
      "text/plain": [
       "                                   primary_title  runtime_minutes  \\\n",
       "780                            Avengers: Endgame           181.00   \n",
       "176   Star Wars: Episode VII - The Force Awakens           136.00   \n",
       "779                       Avengers: Infinity War           149.00   \n",
       "1164                              Jurassic World           124.00   \n",
       "2136                               The Lion King            87.00   \n",
       "\n",
       "          ww_gross     ROI   Net_Revenue  \n",
       "780  2797800564.00  685.90 2441800564.00  \n",
       "176  2068223624.00  744.17 1823223624.00  \n",
       "779  2048359754.00  538.12 1727359754.00  \n",
       "1164 1670400637.00 1013.60 1520400637.00  \n",
       "2136 1656943394.00  537.29 1396943394.00  "
      ]
     },
     "execution_count": 115,
     "metadata": {},
     "output_type": "execute_result"
    }
   ],
   "source": [
    "# Sorting the films by runtime \n",
    "\n",
    "runtime_gross_df = runtime_gross_df.sort_values('ww_gross', ascending = False) \n",
    "runtime_gross_df.head()"
   ]
  },
  {
   "cell_type": "markdown",
   "metadata": {
    "hidden": true
   },
   "source": [
    "### Fig. 8 - Runtime Histogram\n",
    "The histogram below shows the range of the runtime of all the movies in the dataset.  We can see that the runtime of most films falls between 80 minutes and 140 minutes with a mean of 107 minutes. "
   ]
  },
  {
   "cell_type": "code",
   "execution_count": 116,
   "metadata": {
    "hidden": true
   },
   "outputs": [
    {
     "data": {
      "text/plain": [
       "107"
      ]
     },
     "execution_count": 116,
     "metadata": {},
     "output_type": "execute_result"
    }
   ],
   "source": [
    "round(runtime_gross_df['runtime_minutes'].mean())"
   ]
  },
  {
   "cell_type": "code",
   "execution_count": 117,
   "metadata": {
    "hidden": true
   },
   "outputs": [
    {
     "data": {
      "image/png": "[encoded data removed]",
      "text/plain": [
       "<Figure size 720x576 with 1 Axes>"
      ]
     },
     "metadata": {},
     "output_type": "display_data"
    }
   ],
   "source": [
    "# Plotting a histogram\n",
    "ax = sns.set_style(\"darkgrid\")\n",
    "ax = sns.set_context(\"talk\")\n",
    "ax = plt.figure(figsize = (10, 8))\n",
    "ax = sns.distplot(runtime_gross_df['runtime_minutes'])\n",
    "ax.set_title('Runtime Histogram')\n",
    "ax.set_xlabel('Runtime in Minutes')\n",
    "ax.axvline(runtime_gross_df['runtime_minutes'].mean(), color = 'black');"
   ]
  },
  {
   "cell_type": "markdown",
   "metadata": {
    "hidden": true
   },
   "source": [
    "### Fig. 9 - Runtime vs. ROI in Top 100 Highest Grossing Films\n",
    "The figure below represents the relationship between the length of the top 250 highest grossing movies and each movie's ROI.  Taking a look at the results, we see that, while close <b> the densest area of the scatterplot coincides with the area between 100 and 120 minutes in length. </b>  "
   ]
  },
  {
   "cell_type": "code",
   "execution_count": 118,
   "metadata": {
    "hidden": true,
    "scrolled": false
   },
   "outputs": [
    {
     "data": {
      "image/png": "[encoded data removed]",
      "text/plain": [
       "<Figure size 864x432 with 1 Axes>"
      ]
     },
     "metadata": {},
     "output_type": "display_data"
    }
   ],
   "source": [
    "f,ax = plt.subplots(figsize = (12,6))\n",
    "ax = sns.set_style(\"darkgrid\")\n",
    "ax = sns.set_context(\"talk\")\n",
    "ax = sns.scatterplot(x = 'runtime_minutes', y = 'ROI', ci = 68, data = runtime_gross_df.head(250));\n",
    "ax.ticklabel_format(style='plain')\n",
    "ax.set_title('Runtime vs. ROI in Top 250 Highest Grossing Films')\n",
    "ax.set_xlabel('Runtime Minutes')\n",
    "ax.set_ylabel('ROI')\n",
    "\n",
    "fmt = '{x:,.0f}%'\n",
    "tick = mtick.StrMethodFormatter(fmt)\n",
    "ax.yaxis.set_major_formatter(tick);"
   ]
  },
  {
   "cell_type": "code",
   "execution_count": 119,
   "metadata": {
    "hidden": true
   },
   "outputs": [
    {
     "data": {
      "text/plain": [
       "(1250, 5)"
      ]
     },
     "execution_count": 119,
     "metadata": {},
     "output_type": "execute_result"
    }
   ],
   "source": [
    "# Limiting dataframe to films longer than 100 minutes...\n",
    "\n",
    "runtime_gross_df_new = runtime_gross_df[runtime_gross_df['runtime_minutes'] >= 100]\n",
    "runtime_gross_df_new.shape"
   ]
  },
  {
   "cell_type": "code",
   "execution_count": 120,
   "metadata": {
    "hidden": true
   },
   "outputs": [
    {
     "data": {
      "text/plain": [
       "(878, 5)"
      ]
     },
     "execution_count": 120,
     "metadata": {},
     "output_type": "execute_result"
    }
   ],
   "source": [
    "#...but shorter than 120 minutes\n",
    "\n",
    "runtime_gross_df_new = runtime_gross_df_new[runtime_gross_df_new['runtime_minutes']<= 120]\n",
    "runtime_gross_df_new.shape"
   ]
  },
  {
   "cell_type": "code",
   "execution_count": 121,
   "metadata": {
    "hidden": true,
    "scrolled": true
   },
   "outputs": [
    {
     "data": {
      "text/html": [
       "<div>\n",
       "<style scoped>\n",
       "    .dataframe tbody tr th:only-of-type {\n",
       "        vertical-align: middle;\n",
       "    }\n",
       "\n",
       "    .dataframe tbody tr th {\n",
       "        vertical-align: top;\n",
       "    }\n",
       "\n",
       "    .dataframe thead th {\n",
       "        text-align: right;\n",
       "    }\n",
       "</style>\n",
       "<table border=\"1\" class=\"dataframe\">\n",
       "  <thead>\n",
       "    <tr style=\"text-align: right;\">\n",
       "      <th></th>\n",
       "      <th>primary_title</th>\n",
       "      <th>runtime_minutes</th>\n",
       "      <th>ww_gross</th>\n",
       "      <th>ROI</th>\n",
       "      <th>Net_Revenue</th>\n",
       "    </tr>\n",
       "  </thead>\n",
       "  <tbody>\n",
       "    <tr>\n",
       "      <th>53</th>\n",
       "      <td>Frozen</td>\n",
       "      <td>102.00</td>\n",
       "      <td>1280802282.00</td>\n",
       "      <td>753.87</td>\n",
       "      <td>1130802282.00</td>\n",
       "    </tr>\n",
       "    <tr>\n",
       "      <th>670</th>\n",
       "      <td>Incredibles 2</td>\n",
       "      <td>118.00</td>\n",
       "      <td>1242805359.00</td>\n",
       "      <td>521.40</td>\n",
       "      <td>1042805359.00</td>\n",
       "    </tr>\n",
       "    <tr>\n",
       "      <th>1031</th>\n",
       "      <td>Toy Story 4</td>\n",
       "      <td>100.00</td>\n",
       "      <td>1073394593.00</td>\n",
       "      <td>436.70</td>\n",
       "      <td>873394593.00</td>\n",
       "    </tr>\n",
       "    <tr>\n",
       "      <th>1177</th>\n",
       "      <td>Toy Story 3</td>\n",
       "      <td>103.00</td>\n",
       "      <td>1066969703.00</td>\n",
       "      <td>433.48</td>\n",
       "      <td>866969703.00</td>\n",
       "    </tr>\n",
       "    <tr>\n",
       "      <th>1320</th>\n",
       "      <td>Alice in Wonderland</td>\n",
       "      <td>108.00</td>\n",
       "      <td>1025467110.00</td>\n",
       "      <td>412.73</td>\n",
       "      <td>825467110.00</td>\n",
       "    </tr>\n",
       "  </tbody>\n",
       "</table>\n",
       "</div>"
      ],
      "text/plain": [
       "            primary_title  runtime_minutes      ww_gross    ROI   Net_Revenue\n",
       "53                 Frozen           102.00 1280802282.00 753.87 1130802282.00\n",
       "670         Incredibles 2           118.00 1242805359.00 521.40 1042805359.00\n",
       "1031          Toy Story 4           100.00 1073394593.00 436.70  873394593.00\n",
       "1177          Toy Story 3           103.00 1066969703.00 433.48  866969703.00\n",
       "1320  Alice in Wonderland           108.00 1025467110.00 412.73  825467110.00"
      ]
     },
     "execution_count": 121,
     "metadata": {},
     "output_type": "execute_result"
    }
   ],
   "source": [
    "runtime_gross_df_new.head()"
   ]
  },
  {
   "cell_type": "code",
   "execution_count": 122,
   "metadata": {
    "hidden": true
   },
   "outputs": [],
   "source": [
    "runtime_gross_df_new = genre_revenue_df.groupby(runtime_gross_df_new['runtime_minutes'])['ROI'].median()"
   ]
  },
  {
   "cell_type": "code",
   "execution_count": 123,
   "metadata": {
    "hidden": true
   },
   "outputs": [],
   "source": [
    "runtime_gross_df_new = runtime_gross_df_new.to_frame(name = 'ROI').reset_index()"
   ]
  },
  {
   "cell_type": "code",
   "execution_count": 124,
   "metadata": {
    "hidden": true
   },
   "outputs": [],
   "source": [
    "runtime_gross_df_new = runtime_gross_df_new.sort_values('ROI', ascending = False) "
   ]
  },
  {
   "cell_type": "markdown",
   "metadata": {
    "hidden": true
   },
   "source": [
    "### Fig. 10 - Median ROI vs. Runtime Between 100 & 120 Minutes\n",
    "To further narrow this down to find the perfect intersection of runtime and ROI, the figure below compares the Median ROI of films with a specific runtime between 100 and 120 minutes.  As we can see, <b> the highest ROI occurs when a film is 115 minutes long. </b>"
   ]
  },
  {
   "cell_type": "code",
   "execution_count": 125,
   "metadata": {
    "hidden": true
   },
   "outputs": [
    {
     "data": {
      "image/png": "[encoded data removed]",
      "text/plain": [
       "<Figure size 864x576 with 1 Axes>"
      ]
     },
     "metadata": {},
     "output_type": "display_data"
    }
   ],
   "source": [
    "f,ax = plt.subplots(figsize = (12,8))\n",
    "ax = sns.set_style(\"darkgrid\")\n",
    "ax = sns.set_context(\"talk\")\n",
    "ax = sns.barplot(x = 'runtime_minutes', y = 'ROI', data = runtime_gross_df_new)\n",
    "ax.set_title('Median ROI vs. Runtime Between 100 & 120 Minutes')\n",
    "ax.set_xlabel('Runtime Minutes')\n",
    "ax.set_ylabel('Median ROI')\n",
    "\n",
    "fmt = '{x:,.0f}%'\n",
    "tick = mtick.StrMethodFormatter(fmt)\n",
    "ax.yaxis.set_major_formatter(tick)\n",
    "plt.xticks(rotation = 90);"
   ]
  },
  {
   "cell_type": "markdown",
   "metadata": {
    "heading_collapsed": true
   },
   "source": [
    "# Conclusion"
   ]
  },
  {
   "cell_type": "markdown",
   "metadata": {
    "hidden": true
   },
   "source": [
    "Microsoft has recognized that other large tech corporations have found ample success in the film industry by producing their own original content.  The creation of the Microsoft Movie Studio will create an entirely new revenue stream for the company as well as provide many opportunities to synergize with existing Microsoft products.  However, with a high-dollar point of entry and Microsoft's sterling reputation on the line, this can also prove to be a risky venture.  How can we minimize this risk and maximize the return on investment by using a data-driven production system?\n",
    "\n",
    "<h5>Throughout this notebook, we've answered the following questions:</h5>\n",
    " - Is there a correlation between a film's budget and it's performance at the box office?<br>\n",
    " - Do films in certain genres perform better at the box office?  If so, which genres?<br>\n",
    " - Is there a correlation between a film's MPAA rating and it's ROI?<br>\n",
    " - Does a film's runtime have any affect on it's worldwide gross?<br>\n",
    " \n",
    "<h5>Based on the analysis provided above, I recommend taking the following actions:</h5>\n",
    " - The film should be made with a production budget of 183 million dollars. <br>\n",
    " - The genre of the film should be Animation. <br>\n",
    " - This film should be rated PG. <br>\n",
    " - This film should be 115 minutes in length. <br>\n",
    "<br>"
   ]
  },
  {
   "cell_type": "markdown",
   "metadata": {
    "hidden": true
   },
   "source": [
    "### Future Work\n",
    "There are a variety of other aspects of this that I would like to tackle in the future.  These include: <br>\n",
    " - Are established film franchises more of a \"sure-thing\"?\n",
    " - Do major award nominations affect overal earnings?\n",
    " - Is it worth exploring creating and producing content for streaming platforms?"
   ]
  },
  {
   "cell_type": "markdown",
   "metadata": {
    "hidden": true
   },
   "source": [
    "<center><h5> Thank you for your time. </h5> </center>"
   ]
  }
 ],
 "metadata": {
  "kernelspec": {
   "display_name": "Python 3",
   "language": "python",
   "name": "python3"
  },
  "language_info": {
   "codemirror_mode": {
    "name": "ipython",
    "version": 3
   },
   "file_extension": ".py",
   "mimetype": "text/x-python",
   "name": "python",
   "nbconvert_exporter": "python",
   "pygments_lexer": "ipython3",
   "version": "3.6.9"
  },
  "toc": {
   "base_numbering": 1,
   "nav_menu": {},
   "number_sections": true,
   "sideBar": true,
   "skip_h1_title": false,
   "title_cell": "Table of Contents",
   "title_sidebar": "Contents",
   "toc_cell": false,
   "toc_position": {
    "height": "calc(100% - 180px)",
    "left": "10px",
    "top": "150px",
    "width": "384px"
   },
   "toc_section_display": true,
   "toc_window_display": true
  },
  "varInspector": {
   "cols": {
    "lenName": 16,
    "lenType": 16,
    "lenVar": 40
   },
   "kernels_config": {
    "python": {
     "delete_cmd_postfix": "",
     "delete_cmd_prefix": "del ",
     "library": "var_list.py",
     "varRefreshCmd": "print(var_dic_list())"
    },
    "r": {
     "delete_cmd_postfix": ") ",
     "delete_cmd_prefix": "rm(",
     "library": "var_list.r",
     "varRefreshCmd": "cat(var_dic_list()) "
    }
   },
   "types_to_exclude": [
    "module",
    "function",
    "builtin_function_or_method",
    "instance",
    "_Feature"
   ],
   "window_display": false
  }
 },
 "nbformat": 4,
 "nbformat_minor": 2
}
