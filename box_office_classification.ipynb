{
 "cells": [
  {
   "cell_type": "markdown",
   "metadata": {},
   "source": [
    "# Box Office Prediction - Classification"
   ]
  },
  {
   "cell_type": "markdown",
   "metadata": {},
   "source": [
    "Continuation of the Mod-1 project of the Flatiron School Data Science program.  "
   ]
  },
  {
   "cell_type": "markdown",
   "metadata": {},
   "source": [
    "## Introduction"
   ]
  },
  {
   "cell_type": "markdown",
   "metadata": {},
   "source": [
    "The main project was a simple data analysis of the movie industry to try to determine what factors are most instrumental in creating a hit movie using nothing but EDA.  In this notebook, we will be using various machine learning classification methods to predict whether a movie will be a blockbuster hit and then analyzing the most important features according to the best performing model.  "
   ]
  },
  {
   "cell_type": "markdown",
   "metadata": {},
   "source": [
    "### Imports"
   ]
  },
  {
   "cell_type": "code",
   "execution_count": 25,
   "metadata": {
    "ExecuteTime": {
     "end_time": "2021-06-09T02:52:58.751013Z",
     "start_time": "2021-06-09T02:52:58.740823Z"
    }
   },
   "outputs": [],
   "source": [
    "# Regular suspects\n",
    "import numpy as np\n",
    "import pandas as pd\n",
    "from functools import reduce\n",
    "import seaborn as sns\n",
    "import matplotlib.pyplot as plt\n",
    "%matplotlib inline\n",
    "sns.set()\n",
    "\n",
    "# pandas display max columns\n",
    "pd.set_option('display.max_columns', None)"
   ]
  },
  {
   "cell_type": "markdown",
   "metadata": {},
   "source": [
    "### Functions"
   ]
  },
  {
   "cell_type": "code",
   "execution_count": null,
   "metadata": {},
   "outputs": [],
   "source": []
  },
  {
   "cell_type": "markdown",
   "metadata": {},
   "source": [
    "## Data"
   ]
  },
  {
   "cell_type": "markdown",
   "metadata": {},
   "source": [
    "We're going to tackle the data again from scratch assuming that we can create a better dataset with the skillset acquired in the time since this project was first started."
   ]
  },
  {
   "cell_type": "code",
   "execution_count": 26,
   "metadata": {
    "ExecuteTime": {
     "end_time": "2021-06-09T02:53:03.101308Z",
     "start_time": "2021-06-09T02:52:58.951325Z"
    }
   },
   "outputs": [],
   "source": [
    "# Import the IMDB datasets\n",
    "\n",
    "title_aka_df = pd.read_csv('zippedData/imdb.title.akas.csv.gz', compression = 'gzip')\n",
    "title_basics_df = pd.read_csv('zippedData/imdb.title.basics.csv.gz', compression = 'gzip')\n",
    "title_crew_df = pd.read_csv('zippedData/imdb.title.crew.csv.gz', compression = 'gzip')\n",
    "title_principals_df = pd.read_csv('zippedData/imdb.title.principals.csv.gz', compression = 'gzip')\n",
    "title_ratings_df = pd.read_csv('zippedData/imdb.title.ratings.csv.gz', compression = 'gzip')\n",
    "budget_ratings_df = pd.read_csv('budget_ratings.csv')"
   ]
  },
  {
   "cell_type": "markdown",
   "metadata": {},
   "source": [
    "### Title AKA"
   ]
  },
  {
   "cell_type": "code",
   "execution_count": 27,
   "metadata": {
    "ExecuteTime": {
     "end_time": "2021-06-09T02:53:03.386901Z",
     "start_time": "2021-06-09T02:53:03.104120Z"
    }
   },
   "outputs": [
    {
     "name": "stdout",
     "output_type": "stream",
     "text": [
      "(331703, 8)\n"
     ]
    },
    {
     "data": {
      "text/html": [
       "<div>\n",
       "<style scoped>\n",
       "    .dataframe tbody tr th:only-of-type {\n",
       "        vertical-align: middle;\n",
       "    }\n",
       "\n",
       "    .dataframe tbody tr th {\n",
       "        vertical-align: top;\n",
       "    }\n",
       "\n",
       "    .dataframe thead th {\n",
       "        text-align: right;\n",
       "    }\n",
       "</style>\n",
       "<table border=\"1\" class=\"dataframe\">\n",
       "  <thead>\n",
       "    <tr style=\"text-align: right;\">\n",
       "      <th></th>\n",
       "      <th>ordering</th>\n",
       "      <th>title</th>\n",
       "      <th>region</th>\n",
       "      <th>language</th>\n",
       "      <th>types</th>\n",
       "      <th>attributes</th>\n",
       "      <th>is_original_title</th>\n",
       "      <th>tconst</th>\n",
       "    </tr>\n",
       "  </thead>\n",
       "  <tbody>\n",
       "    <tr>\n",
       "      <th>0</th>\n",
       "      <td>10</td>\n",
       "      <td>Джурасик свят</td>\n",
       "      <td>BG</td>\n",
       "      <td>bg</td>\n",
       "      <td>NaN</td>\n",
       "      <td>NaN</td>\n",
       "      <td>0.0</td>\n",
       "      <td>tt0369610</td>\n",
       "    </tr>\n",
       "    <tr>\n",
       "      <th>1</th>\n",
       "      <td>11</td>\n",
       "      <td>Jurashikku warudo</td>\n",
       "      <td>JP</td>\n",
       "      <td>NaN</td>\n",
       "      <td>imdbDisplay</td>\n",
       "      <td>NaN</td>\n",
       "      <td>0.0</td>\n",
       "      <td>tt0369610</td>\n",
       "    </tr>\n",
       "    <tr>\n",
       "      <th>2</th>\n",
       "      <td>12</td>\n",
       "      <td>Jurassic World: O Mundo dos Dinossauros</td>\n",
       "      <td>BR</td>\n",
       "      <td>NaN</td>\n",
       "      <td>imdbDisplay</td>\n",
       "      <td>NaN</td>\n",
       "      <td>0.0</td>\n",
       "      <td>tt0369610</td>\n",
       "    </tr>\n",
       "    <tr>\n",
       "      <th>3</th>\n",
       "      <td>13</td>\n",
       "      <td>O Mundo dos Dinossauros</td>\n",
       "      <td>BR</td>\n",
       "      <td>NaN</td>\n",
       "      <td>NaN</td>\n",
       "      <td>short title</td>\n",
       "      <td>0.0</td>\n",
       "      <td>tt0369610</td>\n",
       "    </tr>\n",
       "    <tr>\n",
       "      <th>4</th>\n",
       "      <td>14</td>\n",
       "      <td>Jurassic World</td>\n",
       "      <td>FR</td>\n",
       "      <td>NaN</td>\n",
       "      <td>imdbDisplay</td>\n",
       "      <td>NaN</td>\n",
       "      <td>0.0</td>\n",
       "      <td>tt0369610</td>\n",
       "    </tr>\n",
       "  </tbody>\n",
       "</table>\n",
       "</div>"
      ],
      "text/plain": [
       "   ordering                                    title region language  \\\n",
       "0        10                            Джурасик свят     BG       bg   \n",
       "1        11                        Jurashikku warudo     JP      NaN   \n",
       "2        12  Jurassic World: O Mundo dos Dinossauros     BR      NaN   \n",
       "3        13                  O Mundo dos Dinossauros     BR      NaN   \n",
       "4        14                           Jurassic World     FR      NaN   \n",
       "\n",
       "         types   attributes  is_original_title     tconst  \n",
       "0          NaN          NaN                0.0  tt0369610  \n",
       "1  imdbDisplay          NaN                0.0  tt0369610  \n",
       "2  imdbDisplay          NaN                0.0  tt0369610  \n",
       "3          NaN  short title                0.0  tt0369610  \n",
       "4  imdbDisplay          NaN                0.0  tt0369610  "
      ]
     },
     "execution_count": 27,
     "metadata": {},
     "output_type": "execute_result"
    }
   ],
   "source": [
    "print(title_aka_df.shape)\n",
    "title_aka_df['tconst'] = title_aka_df['title_id']\n",
    "title_aka_df.drop('title_id', axis = 1, inplace = True)\n",
    "title_aka_df.head()"
   ]
  },
  {
   "cell_type": "markdown",
   "metadata": {},
   "source": [
    "### Title Basics"
   ]
  },
  {
   "cell_type": "code",
   "execution_count": 28,
   "metadata": {
    "ExecuteTime": {
     "end_time": "2021-06-09T02:53:03.412141Z",
     "start_time": "2021-06-09T02:53:03.391942Z"
    }
   },
   "outputs": [
    {
     "name": "stdout",
     "output_type": "stream",
     "text": [
      "(146144, 6)\n"
     ]
    },
    {
     "data": {
      "text/html": [
       "<div>\n",
       "<style scoped>\n",
       "    .dataframe tbody tr th:only-of-type {\n",
       "        vertical-align: middle;\n",
       "    }\n",
       "\n",
       "    .dataframe tbody tr th {\n",
       "        vertical-align: top;\n",
       "    }\n",
       "\n",
       "    .dataframe thead th {\n",
       "        text-align: right;\n",
       "    }\n",
       "</style>\n",
       "<table border=\"1\" class=\"dataframe\">\n",
       "  <thead>\n",
       "    <tr style=\"text-align: right;\">\n",
       "      <th></th>\n",
       "      <th>tconst</th>\n",
       "      <th>primary_title</th>\n",
       "      <th>original_title</th>\n",
       "      <th>start_year</th>\n",
       "      <th>runtime_minutes</th>\n",
       "      <th>genres</th>\n",
       "    </tr>\n",
       "  </thead>\n",
       "  <tbody>\n",
       "    <tr>\n",
       "      <th>0</th>\n",
       "      <td>tt0063540</td>\n",
       "      <td>Sunghursh</td>\n",
       "      <td>Sunghursh</td>\n",
       "      <td>2013</td>\n",
       "      <td>175.0</td>\n",
       "      <td>Action,Crime,Drama</td>\n",
       "    </tr>\n",
       "    <tr>\n",
       "      <th>1</th>\n",
       "      <td>tt0066787</td>\n",
       "      <td>One Day Before the Rainy Season</td>\n",
       "      <td>Ashad Ka Ek Din</td>\n",
       "      <td>2019</td>\n",
       "      <td>114.0</td>\n",
       "      <td>Biography,Drama</td>\n",
       "    </tr>\n",
       "    <tr>\n",
       "      <th>2</th>\n",
       "      <td>tt0069049</td>\n",
       "      <td>The Other Side of the Wind</td>\n",
       "      <td>The Other Side of the Wind</td>\n",
       "      <td>2018</td>\n",
       "      <td>122.0</td>\n",
       "      <td>Drama</td>\n",
       "    </tr>\n",
       "    <tr>\n",
       "      <th>3</th>\n",
       "      <td>tt0069204</td>\n",
       "      <td>Sabse Bada Sukh</td>\n",
       "      <td>Sabse Bada Sukh</td>\n",
       "      <td>2018</td>\n",
       "      <td>NaN</td>\n",
       "      <td>Comedy,Drama</td>\n",
       "    </tr>\n",
       "    <tr>\n",
       "      <th>4</th>\n",
       "      <td>tt0100275</td>\n",
       "      <td>The Wandering Soap Opera</td>\n",
       "      <td>La Telenovela Errante</td>\n",
       "      <td>2017</td>\n",
       "      <td>80.0</td>\n",
       "      <td>Comedy,Drama,Fantasy</td>\n",
       "    </tr>\n",
       "  </tbody>\n",
       "</table>\n",
       "</div>"
      ],
      "text/plain": [
       "      tconst                    primary_title              original_title  \\\n",
       "0  tt0063540                        Sunghursh                   Sunghursh   \n",
       "1  tt0066787  One Day Before the Rainy Season             Ashad Ka Ek Din   \n",
       "2  tt0069049       The Other Side of the Wind  The Other Side of the Wind   \n",
       "3  tt0069204                  Sabse Bada Sukh             Sabse Bada Sukh   \n",
       "4  tt0100275         The Wandering Soap Opera       La Telenovela Errante   \n",
       "\n",
       "   start_year  runtime_minutes                genres  \n",
       "0        2013            175.0    Action,Crime,Drama  \n",
       "1        2019            114.0       Biography,Drama  \n",
       "2        2018            122.0                 Drama  \n",
       "3        2018              NaN          Comedy,Drama  \n",
       "4        2017             80.0  Comedy,Drama,Fantasy  "
      ]
     },
     "execution_count": 28,
     "metadata": {},
     "output_type": "execute_result"
    }
   ],
   "source": [
    "print(title_basics_df.shape)\n",
    "title_basics_df.head()"
   ]
  },
  {
   "cell_type": "markdown",
   "metadata": {},
   "source": [
    "### Title Crew"
   ]
  },
  {
   "cell_type": "code",
   "execution_count": 29,
   "metadata": {
    "ExecuteTime": {
     "end_time": "2021-06-09T02:53:03.438198Z",
     "start_time": "2021-06-09T02:53:03.418335Z"
    }
   },
   "outputs": [
    {
     "name": "stdout",
     "output_type": "stream",
     "text": [
      "(146144, 3)\n"
     ]
    },
    {
     "data": {
      "text/html": [
       "<div>\n",
       "<style scoped>\n",
       "    .dataframe tbody tr th:only-of-type {\n",
       "        vertical-align: middle;\n",
       "    }\n",
       "\n",
       "    .dataframe tbody tr th {\n",
       "        vertical-align: top;\n",
       "    }\n",
       "\n",
       "    .dataframe thead th {\n",
       "        text-align: right;\n",
       "    }\n",
       "</style>\n",
       "<table border=\"1\" class=\"dataframe\">\n",
       "  <thead>\n",
       "    <tr style=\"text-align: right;\">\n",
       "      <th></th>\n",
       "      <th>tconst</th>\n",
       "      <th>directors</th>\n",
       "      <th>writers</th>\n",
       "    </tr>\n",
       "  </thead>\n",
       "  <tbody>\n",
       "    <tr>\n",
       "      <th>0</th>\n",
       "      <td>tt0285252</td>\n",
       "      <td>nm0899854</td>\n",
       "      <td>nm0899854</td>\n",
       "    </tr>\n",
       "    <tr>\n",
       "      <th>1</th>\n",
       "      <td>tt0438973</td>\n",
       "      <td>NaN</td>\n",
       "      <td>nm0175726,nm1802864</td>\n",
       "    </tr>\n",
       "    <tr>\n",
       "      <th>2</th>\n",
       "      <td>tt0462036</td>\n",
       "      <td>nm1940585</td>\n",
       "      <td>nm1940585</td>\n",
       "    </tr>\n",
       "    <tr>\n",
       "      <th>3</th>\n",
       "      <td>tt0835418</td>\n",
       "      <td>nm0151540</td>\n",
       "      <td>nm0310087,nm0841532</td>\n",
       "    </tr>\n",
       "    <tr>\n",
       "      <th>4</th>\n",
       "      <td>tt0878654</td>\n",
       "      <td>nm0089502,nm2291498,nm2292011</td>\n",
       "      <td>nm0284943</td>\n",
       "    </tr>\n",
       "  </tbody>\n",
       "</table>\n",
       "</div>"
      ],
      "text/plain": [
       "      tconst                      directors              writers\n",
       "0  tt0285252                      nm0899854            nm0899854\n",
       "1  tt0438973                            NaN  nm0175726,nm1802864\n",
       "2  tt0462036                      nm1940585            nm1940585\n",
       "3  tt0835418                      nm0151540  nm0310087,nm0841532\n",
       "4  tt0878654  nm0089502,nm2291498,nm2292011            nm0284943"
      ]
     },
     "execution_count": 29,
     "metadata": {},
     "output_type": "execute_result"
    }
   ],
   "source": [
    "print(title_crew_df.shape)\n",
    "title_crew_df.head()"
   ]
  },
  {
   "cell_type": "markdown",
   "metadata": {},
   "source": [
    "### Title Principals"
   ]
  },
  {
   "cell_type": "code",
   "execution_count": 30,
   "metadata": {
    "ExecuteTime": {
     "end_time": "2021-06-09T02:53:03.464983Z",
     "start_time": "2021-06-09T02:53:03.443291Z"
    }
   },
   "outputs": [
    {
     "name": "stdout",
     "output_type": "stream",
     "text": [
      "(1028186, 6)\n"
     ]
    },
    {
     "data": {
      "text/html": [
       "<div>\n",
       "<style scoped>\n",
       "    .dataframe tbody tr th:only-of-type {\n",
       "        vertical-align: middle;\n",
       "    }\n",
       "\n",
       "    .dataframe tbody tr th {\n",
       "        vertical-align: top;\n",
       "    }\n",
       "\n",
       "    .dataframe thead th {\n",
       "        text-align: right;\n",
       "    }\n",
       "</style>\n",
       "<table border=\"1\" class=\"dataframe\">\n",
       "  <thead>\n",
       "    <tr style=\"text-align: right;\">\n",
       "      <th></th>\n",
       "      <th>tconst</th>\n",
       "      <th>ordering</th>\n",
       "      <th>nconst</th>\n",
       "      <th>category</th>\n",
       "      <th>job</th>\n",
       "      <th>characters</th>\n",
       "    </tr>\n",
       "  </thead>\n",
       "  <tbody>\n",
       "    <tr>\n",
       "      <th>0</th>\n",
       "      <td>tt0111414</td>\n",
       "      <td>1</td>\n",
       "      <td>nm0246005</td>\n",
       "      <td>actor</td>\n",
       "      <td>NaN</td>\n",
       "      <td>[\"The Man\"]</td>\n",
       "    </tr>\n",
       "    <tr>\n",
       "      <th>1</th>\n",
       "      <td>tt0111414</td>\n",
       "      <td>2</td>\n",
       "      <td>nm0398271</td>\n",
       "      <td>director</td>\n",
       "      <td>NaN</td>\n",
       "      <td>NaN</td>\n",
       "    </tr>\n",
       "    <tr>\n",
       "      <th>2</th>\n",
       "      <td>tt0111414</td>\n",
       "      <td>3</td>\n",
       "      <td>nm3739909</td>\n",
       "      <td>producer</td>\n",
       "      <td>producer</td>\n",
       "      <td>NaN</td>\n",
       "    </tr>\n",
       "    <tr>\n",
       "      <th>3</th>\n",
       "      <td>tt0323808</td>\n",
       "      <td>10</td>\n",
       "      <td>nm0059247</td>\n",
       "      <td>editor</td>\n",
       "      <td>NaN</td>\n",
       "      <td>NaN</td>\n",
       "    </tr>\n",
       "    <tr>\n",
       "      <th>4</th>\n",
       "      <td>tt0323808</td>\n",
       "      <td>1</td>\n",
       "      <td>nm3579312</td>\n",
       "      <td>actress</td>\n",
       "      <td>NaN</td>\n",
       "      <td>[\"Beth Boothby\"]</td>\n",
       "    </tr>\n",
       "  </tbody>\n",
       "</table>\n",
       "</div>"
      ],
      "text/plain": [
       "      tconst  ordering     nconst  category       job        characters\n",
       "0  tt0111414         1  nm0246005     actor       NaN       [\"The Man\"]\n",
       "1  tt0111414         2  nm0398271  director       NaN               NaN\n",
       "2  tt0111414         3  nm3739909  producer  producer               NaN\n",
       "3  tt0323808        10  nm0059247    editor       NaN               NaN\n",
       "4  tt0323808         1  nm3579312   actress       NaN  [\"Beth Boothby\"]"
      ]
     },
     "execution_count": 30,
     "metadata": {},
     "output_type": "execute_result"
    }
   ],
   "source": [
    "print(title_principals_df.shape)\n",
    "title_principals_df.head()"
   ]
  },
  {
   "cell_type": "markdown",
   "metadata": {},
   "source": [
    "### Title Ratings"
   ]
  },
  {
   "cell_type": "code",
   "execution_count": 31,
   "metadata": {
    "ExecuteTime": {
     "end_time": "2021-06-09T02:53:03.492469Z",
     "start_time": "2021-06-09T02:53:03.470243Z"
    }
   },
   "outputs": [
    {
     "name": "stdout",
     "output_type": "stream",
     "text": [
      "(73856, 3)\n"
     ]
    },
    {
     "data": {
      "text/html": [
       "<div>\n",
       "<style scoped>\n",
       "    .dataframe tbody tr th:only-of-type {\n",
       "        vertical-align: middle;\n",
       "    }\n",
       "\n",
       "    .dataframe tbody tr th {\n",
       "        vertical-align: top;\n",
       "    }\n",
       "\n",
       "    .dataframe thead th {\n",
       "        text-align: right;\n",
       "    }\n",
       "</style>\n",
       "<table border=\"1\" class=\"dataframe\">\n",
       "  <thead>\n",
       "    <tr style=\"text-align: right;\">\n",
       "      <th></th>\n",
       "      <th>tconst</th>\n",
       "      <th>averagerating</th>\n",
       "      <th>numvotes</th>\n",
       "    </tr>\n",
       "  </thead>\n",
       "  <tbody>\n",
       "    <tr>\n",
       "      <th>0</th>\n",
       "      <td>tt10356526</td>\n",
       "      <td>8.3</td>\n",
       "      <td>31</td>\n",
       "    </tr>\n",
       "    <tr>\n",
       "      <th>1</th>\n",
       "      <td>tt10384606</td>\n",
       "      <td>8.9</td>\n",
       "      <td>559</td>\n",
       "    </tr>\n",
       "    <tr>\n",
       "      <th>2</th>\n",
       "      <td>tt1042974</td>\n",
       "      <td>6.4</td>\n",
       "      <td>20</td>\n",
       "    </tr>\n",
       "    <tr>\n",
       "      <th>3</th>\n",
       "      <td>tt1043726</td>\n",
       "      <td>4.2</td>\n",
       "      <td>50352</td>\n",
       "    </tr>\n",
       "    <tr>\n",
       "      <th>4</th>\n",
       "      <td>tt1060240</td>\n",
       "      <td>6.5</td>\n",
       "      <td>21</td>\n",
       "    </tr>\n",
       "  </tbody>\n",
       "</table>\n",
       "</div>"
      ],
      "text/plain": [
       "       tconst  averagerating  numvotes\n",
       "0  tt10356526            8.3        31\n",
       "1  tt10384606            8.9       559\n",
       "2   tt1042974            6.4        20\n",
       "3   tt1043726            4.2     50352\n",
       "4   tt1060240            6.5        21"
      ]
     },
     "execution_count": 31,
     "metadata": {},
     "output_type": "execute_result"
    }
   ],
   "source": [
    "print(title_ratings_df.shape)\n",
    "title_ratings_df.head()"
   ]
  },
  {
   "cell_type": "markdown",
   "metadata": {},
   "source": [
    "### Scraped Data"
   ]
  },
  {
   "cell_type": "code",
   "execution_count": 32,
   "metadata": {
    "ExecuteTime": {
     "end_time": "2021-06-09T02:53:03.526004Z",
     "start_time": "2021-06-09T02:53:03.495265Z"
    }
   },
   "outputs": [
    {
     "name": "stdout",
     "output_type": "stream",
     "text": [
      "(52943, 6)\n"
     ]
    },
    {
     "data": {
      "text/html": [
       "<div>\n",
       "<style scoped>\n",
       "    .dataframe tbody tr th:only-of-type {\n",
       "        vertical-align: middle;\n",
       "    }\n",
       "\n",
       "    .dataframe tbody tr th {\n",
       "        vertical-align: top;\n",
       "    }\n",
       "\n",
       "    .dataframe thead th {\n",
       "        text-align: right;\n",
       "    }\n",
       "</style>\n",
       "<table border=\"1\" class=\"dataframe\">\n",
       "  <thead>\n",
       "    <tr style=\"text-align: right;\">\n",
       "      <th></th>\n",
       "      <th>tconst</th>\n",
       "      <th>budget</th>\n",
       "      <th>gross</th>\n",
       "      <th>ww_gross</th>\n",
       "      <th>rating</th>\n",
       "    </tr>\n",
       "  </thead>\n",
       "  <tbody>\n",
       "    <tr>\n",
       "      <th>0</th>\n",
       "      <td>tt2200832</td>\n",
       "      <td>NaN</td>\n",
       "      <td>NaN</td>\n",
       "      <td>NaN</td>\n",
       "      <td>NotRated</td>\n",
       "    </tr>\n",
       "    <tr>\n",
       "      <th>1</th>\n",
       "      <td>tt2200860</td>\n",
       "      <td>NaN</td>\n",
       "      <td>NaN</td>\n",
       "      <td>1924766.0</td>\n",
       "      <td>NaN</td>\n",
       "    </tr>\n",
       "    <tr>\n",
       "      <th>2</th>\n",
       "      <td>tt2200908</td>\n",
       "      <td>NaN</td>\n",
       "      <td>NaN</td>\n",
       "      <td>105367.0</td>\n",
       "      <td>NaN</td>\n",
       "    </tr>\n",
       "    <tr>\n",
       "      <th>3</th>\n",
       "      <td>tt2200926</td>\n",
       "      <td>NaN</td>\n",
       "      <td>NaN</td>\n",
       "      <td>5784.0</td>\n",
       "      <td>NaN</td>\n",
       "    </tr>\n",
       "    <tr>\n",
       "      <th>4</th>\n",
       "      <td>tt2200955</td>\n",
       "      <td>NaN</td>\n",
       "      <td>NaN</td>\n",
       "      <td>NaN</td>\n",
       "      <td>Comedy</td>\n",
       "    </tr>\n",
       "  </tbody>\n",
       "</table>\n",
       "</div>"
      ],
      "text/plain": [
       "      tconst  budget  gross   ww_gross    rating\n",
       "0  tt2200832     NaN    NaN        NaN  NotRated\n",
       "1  tt2200860     NaN    NaN  1924766.0       NaN\n",
       "2  tt2200908     NaN    NaN   105367.0       NaN\n",
       "3  tt2200926     NaN    NaN     5784.0       NaN\n",
       "4  tt2200955     NaN    NaN        NaN    Comedy"
      ]
     },
     "execution_count": 32,
     "metadata": {},
     "output_type": "execute_result"
    }
   ],
   "source": [
    "print(budget_ratings_df.shape)\n",
    "budget_ratings_df.drop('Unnamed: 0', axis = 1, inplace = True)\n",
    "budget_ratings_df.head()"
   ]
  },
  {
   "cell_type": "code",
   "execution_count": 34,
   "metadata": {
    "ExecuteTime": {
     "end_time": "2021-06-09T02:53:34.087181Z",
     "start_time": "2021-06-09T02:53:24.910677Z"
    }
   },
   "outputs": [
    {
     "name": "stdout",
     "output_type": "stream",
     "text": [
      "(1912998, 26)\n"
     ]
    },
    {
     "data": {
      "text/html": [
       "<div>\n",
       "<style scoped>\n",
       "    .dataframe tbody tr th:only-of-type {\n",
       "        vertical-align: middle;\n",
       "    }\n",
       "\n",
       "    .dataframe tbody tr th {\n",
       "        vertical-align: top;\n",
       "    }\n",
       "\n",
       "    .dataframe thead th {\n",
       "        text-align: right;\n",
       "    }\n",
       "</style>\n",
       "<table border=\"1\" class=\"dataframe\">\n",
       "  <thead>\n",
       "    <tr style=\"text-align: right;\">\n",
       "      <th></th>\n",
       "      <th>tconst</th>\n",
       "      <th>budget</th>\n",
       "      <th>gross</th>\n",
       "      <th>ww_gross</th>\n",
       "      <th>rating</th>\n",
       "      <th>averagerating</th>\n",
       "      <th>numvotes</th>\n",
       "      <th>ordering_x</th>\n",
       "      <th>nconst</th>\n",
       "      <th>category</th>\n",
       "      <th>job</th>\n",
       "      <th>characters</th>\n",
       "      <th>ordering_y</th>\n",
       "      <th>title</th>\n",
       "      <th>region</th>\n",
       "      <th>language</th>\n",
       "      <th>types</th>\n",
       "      <th>attributes</th>\n",
       "      <th>is_original_title</th>\n",
       "      <th>directors</th>\n",
       "      <th>writers</th>\n",
       "      <th>primary_title</th>\n",
       "      <th>original_title</th>\n",
       "      <th>start_year</th>\n",
       "      <th>runtime_minutes</th>\n",
       "      <th>genres</th>\n",
       "    </tr>\n",
       "  </thead>\n",
       "  <tbody>\n",
       "    <tr>\n",
       "      <th>0</th>\n",
       "      <td>tt2200860</td>\n",
       "      <td>NaN</td>\n",
       "      <td>NaN</td>\n",
       "      <td>1924766.0</td>\n",
       "      <td>NaN</td>\n",
       "      <td>6.8</td>\n",
       "      <td>48</td>\n",
       "      <td>10</td>\n",
       "      <td>nm2456371</td>\n",
       "      <td>cinematographer</td>\n",
       "      <td>director of photography</td>\n",
       "      <td>NaN</td>\n",
       "      <td>1</td>\n",
       "      <td>Born to Love You</td>\n",
       "      <td>PH</td>\n",
       "      <td>NaN</td>\n",
       "      <td>NaN</td>\n",
       "      <td>NaN</td>\n",
       "      <td>0.0</td>\n",
       "      <td>nm1760842</td>\n",
       "      <td>nm1293423,nm2029519,nm1762121</td>\n",
       "      <td>Born to Love You</td>\n",
       "      <td>Born to Love You</td>\n",
       "      <td>2012</td>\n",
       "      <td>105.0</td>\n",
       "      <td>Drama,Romance</td>\n",
       "    </tr>\n",
       "    <tr>\n",
       "      <th>1</th>\n",
       "      <td>tt2200860</td>\n",
       "      <td>NaN</td>\n",
       "      <td>NaN</td>\n",
       "      <td>1924766.0</td>\n",
       "      <td>NaN</td>\n",
       "      <td>6.8</td>\n",
       "      <td>48</td>\n",
       "      <td>1</td>\n",
       "      <td>nm2029519</td>\n",
       "      <td>actor</td>\n",
       "      <td>NaN</td>\n",
       "      <td>[\"Rex Manrique\"]</td>\n",
       "      <td>1</td>\n",
       "      <td>Born to Love You</td>\n",
       "      <td>PH</td>\n",
       "      <td>NaN</td>\n",
       "      <td>NaN</td>\n",
       "      <td>NaN</td>\n",
       "      <td>0.0</td>\n",
       "      <td>nm1760842</td>\n",
       "      <td>nm1293423,nm2029519,nm1762121</td>\n",
       "      <td>Born to Love You</td>\n",
       "      <td>Born to Love You</td>\n",
       "      <td>2012</td>\n",
       "      <td>105.0</td>\n",
       "      <td>Drama,Romance</td>\n",
       "    </tr>\n",
       "    <tr>\n",
       "      <th>2</th>\n",
       "      <td>tt2200860</td>\n",
       "      <td>NaN</td>\n",
       "      <td>NaN</td>\n",
       "      <td>1924766.0</td>\n",
       "      <td>NaN</td>\n",
       "      <td>6.8</td>\n",
       "      <td>48</td>\n",
       "      <td>2</td>\n",
       "      <td>nm1403269</td>\n",
       "      <td>actress</td>\n",
       "      <td>NaN</td>\n",
       "      <td>[\"Joey Liwanag\"]</td>\n",
       "      <td>1</td>\n",
       "      <td>Born to Love You</td>\n",
       "      <td>PH</td>\n",
       "      <td>NaN</td>\n",
       "      <td>NaN</td>\n",
       "      <td>NaN</td>\n",
       "      <td>0.0</td>\n",
       "      <td>nm1760842</td>\n",
       "      <td>nm1293423,nm2029519,nm1762121</td>\n",
       "      <td>Born to Love You</td>\n",
       "      <td>Born to Love You</td>\n",
       "      <td>2012</td>\n",
       "      <td>105.0</td>\n",
       "      <td>Drama,Romance</td>\n",
       "    </tr>\n",
       "    <tr>\n",
       "      <th>3</th>\n",
       "      <td>tt2200860</td>\n",
       "      <td>NaN</td>\n",
       "      <td>NaN</td>\n",
       "      <td>1924766.0</td>\n",
       "      <td>NaN</td>\n",
       "      <td>6.8</td>\n",
       "      <td>48</td>\n",
       "      <td>3</td>\n",
       "      <td>nm0553445</td>\n",
       "      <td>actor</td>\n",
       "      <td>NaN</td>\n",
       "      <td>[\"Charles\"]</td>\n",
       "      <td>1</td>\n",
       "      <td>Born to Love You</td>\n",
       "      <td>PH</td>\n",
       "      <td>NaN</td>\n",
       "      <td>NaN</td>\n",
       "      <td>NaN</td>\n",
       "      <td>0.0</td>\n",
       "      <td>nm1760842</td>\n",
       "      <td>nm1293423,nm2029519,nm1762121</td>\n",
       "      <td>Born to Love You</td>\n",
       "      <td>Born to Love You</td>\n",
       "      <td>2012</td>\n",
       "      <td>105.0</td>\n",
       "      <td>Drama,Romance</td>\n",
       "    </tr>\n",
       "    <tr>\n",
       "      <th>4</th>\n",
       "      <td>tt2200860</td>\n",
       "      <td>NaN</td>\n",
       "      <td>NaN</td>\n",
       "      <td>1924766.0</td>\n",
       "      <td>NaN</td>\n",
       "      <td>6.8</td>\n",
       "      <td>48</td>\n",
       "      <td>4</td>\n",
       "      <td>nm0883648</td>\n",
       "      <td>actress</td>\n",
       "      <td>NaN</td>\n",
       "      <td>[\"Sylvia\"]</td>\n",
       "      <td>1</td>\n",
       "      <td>Born to Love You</td>\n",
       "      <td>PH</td>\n",
       "      <td>NaN</td>\n",
       "      <td>NaN</td>\n",
       "      <td>NaN</td>\n",
       "      <td>0.0</td>\n",
       "      <td>nm1760842</td>\n",
       "      <td>nm1293423,nm2029519,nm1762121</td>\n",
       "      <td>Born to Love You</td>\n",
       "      <td>Born to Love You</td>\n",
       "      <td>2012</td>\n",
       "      <td>105.0</td>\n",
       "      <td>Drama,Romance</td>\n",
       "    </tr>\n",
       "  </tbody>\n",
       "</table>\n",
       "</div>"
      ],
      "text/plain": [
       "      tconst  budget  gross   ww_gross rating  averagerating  numvotes  \\\n",
       "0  tt2200860     NaN    NaN  1924766.0    NaN            6.8        48   \n",
       "1  tt2200860     NaN    NaN  1924766.0    NaN            6.8        48   \n",
       "2  tt2200860     NaN    NaN  1924766.0    NaN            6.8        48   \n",
       "3  tt2200860     NaN    NaN  1924766.0    NaN            6.8        48   \n",
       "4  tt2200860     NaN    NaN  1924766.0    NaN            6.8        48   \n",
       "\n",
       "   ordering_x     nconst         category                      job  \\\n",
       "0          10  nm2456371  cinematographer  director of photography   \n",
       "1           1  nm2029519            actor                      NaN   \n",
       "2           2  nm1403269          actress                      NaN   \n",
       "3           3  nm0553445            actor                      NaN   \n",
       "4           4  nm0883648          actress                      NaN   \n",
       "\n",
       "         characters  ordering_y             title region language types  \\\n",
       "0               NaN           1  Born to Love You     PH      NaN   NaN   \n",
       "1  [\"Rex Manrique\"]           1  Born to Love You     PH      NaN   NaN   \n",
       "2  [\"Joey Liwanag\"]           1  Born to Love You     PH      NaN   NaN   \n",
       "3       [\"Charles\"]           1  Born to Love You     PH      NaN   NaN   \n",
       "4        [\"Sylvia\"]           1  Born to Love You     PH      NaN   NaN   \n",
       "\n",
       "  attributes  is_original_title  directors                        writers  \\\n",
       "0        NaN                0.0  nm1760842  nm1293423,nm2029519,nm1762121   \n",
       "1        NaN                0.0  nm1760842  nm1293423,nm2029519,nm1762121   \n",
       "2        NaN                0.0  nm1760842  nm1293423,nm2029519,nm1762121   \n",
       "3        NaN                0.0  nm1760842  nm1293423,nm2029519,nm1762121   \n",
       "4        NaN                0.0  nm1760842  nm1293423,nm2029519,nm1762121   \n",
       "\n",
       "      primary_title    original_title  start_year  runtime_minutes  \\\n",
       "0  Born to Love You  Born to Love You        2012            105.0   \n",
       "1  Born to Love You  Born to Love You        2012            105.0   \n",
       "2  Born to Love You  Born to Love You        2012            105.0   \n",
       "3  Born to Love You  Born to Love You        2012            105.0   \n",
       "4  Born to Love You  Born to Love You        2012            105.0   \n",
       "\n",
       "          genres  \n",
       "0  Drama,Romance  \n",
       "1  Drama,Romance  \n",
       "2  Drama,Romance  \n",
       "3  Drama,Romance  \n",
       "4  Drama,Romance  "
      ]
     },
     "execution_count": 34,
     "metadata": {},
     "output_type": "execute_result"
    }
   ],
   "source": [
    "df = pd.merge(budget_ratings_df, title_ratings_df, on = 'tconst')\n",
    "df = pd.merge(df, title_principals_df, on = 'tconst')\n",
    "df = pd.merge(df, title_aka_df, on = 'tconst')\n",
    "df = pd.merge(df, title_crew_df, on = 'tconst')\n",
    "df = pd.merge(df, title_basics_df, on = 'tconst')\n",
    "\n",
    "print(df.shape)\n",
    "df.set_index('tconst')\n",
    "df.head()"
   ]
  },
  {
   "cell_type": "markdown",
   "metadata": {},
   "source": [
    "## Cleaning"
   ]
  },
  {
   "cell_type": "code",
   "execution_count": 40,
   "metadata": {
    "ExecuteTime": {
     "end_time": "2021-06-09T02:57:22.119052Z",
     "start_time": "2021-06-09T02:57:22.114114Z"
    }
   },
   "outputs": [],
   "source": [
    "def get_info(df):\n",
    "    print('DataFrame Shape\\n-------------------------------')\n",
    "    print(df.shape)\n",
    "    print('\\nDataFrame Info\\n-------------------------------')\n",
    "    print(df.info())\n",
    "    print('\\nDataFrame Null Values\\n-------------------------------')\n",
    "    print(df.isna().sum())"
   ]
  },
  {
   "cell_type": "code",
   "execution_count": 41,
   "metadata": {
    "ExecuteTime": {
     "end_time": "2021-06-09T02:57:25.977666Z",
     "start_time": "2021-06-09T02:57:24.489044Z"
    }
   },
   "outputs": [
    {
     "name": "stdout",
     "output_type": "stream",
     "text": [
      "DataFrame Shape\n",
      "-------------------------------\n",
      "(1912998, 26)\n",
      "\n",
      "DataFrame Info\n",
      "-------------------------------\n",
      "<class 'pandas.core.frame.DataFrame'>\n",
      "Int64Index: 1912998 entries, 0 to 1912997\n",
      "Data columns (total 26 columns):\n",
      " #   Column             Dtype  \n",
      "---  ------             -----  \n",
      " 0   tconst             object \n",
      " 1   budget             float64\n",
      " 2   gross              float64\n",
      " 3   ww_gross           float64\n",
      " 4   rating             object \n",
      " 5   averagerating      float64\n",
      " 6   numvotes           int64  \n",
      " 7   ordering_x         int64  \n",
      " 8   nconst             object \n",
      " 9   category           object \n",
      " 10  job                object \n",
      " 11  characters         object \n",
      " 12  ordering_y         int64  \n",
      " 13  title              object \n",
      " 14  region             object \n",
      " 15  language           object \n",
      " 16  types              object \n",
      " 17  attributes         object \n",
      " 18  is_original_title  float64\n",
      " 19  directors          object \n",
      " 20  writers            object \n",
      " 21  primary_title      object \n",
      " 22  original_title     object \n",
      " 23  start_year         int64  \n",
      " 24  runtime_minutes    float64\n",
      " 25  genres             object \n",
      "dtypes: float64(6), int64(4), object(16)\n",
      "memory usage: 394.1+ MB\n",
      "None\n",
      "\n",
      "DataFrame Null Values\n",
      "-------------------------------\n",
      "tconst                     0\n",
      "budget                974653\n",
      "gross                1119159\n",
      "ww_gross              481179\n",
      "rating                474031\n",
      "averagerating              0\n",
      "numvotes                   0\n",
      "ordering_x                 0\n",
      "nconst                     0\n",
      "category                   0\n",
      "job                  1339805\n",
      "characters           1144189\n",
      "ordering_y                 0\n",
      "title                      0\n",
      "region                271233\n",
      "language             1639376\n",
      "types                 711227\n",
      "attributes           1816094\n",
      "is_original_title          0\n",
      "directors               2997\n",
      "writers                83286\n",
      "primary_title              0\n",
      "original_title             0\n",
      "start_year                 0\n",
      "runtime_minutes        78776\n",
      "genres                  4198\n",
      "dtype: int64\n"
     ]
    }
   ],
   "source": [
    "get_info(df)"
   ]
  },
  {
   "cell_type": "code",
   "execution_count": 42,
   "metadata": {
    "ExecuteTime": {
     "end_time": "2021-06-09T02:57:56.385405Z",
     "start_time": "2021-06-09T02:57:56.144311Z"
    }
   },
   "outputs": [
    {
     "data": {
      "text/plain": [
       "tt2488496    610\n",
       "tt1201607    550\n",
       "tt2310332    550\n",
       "tt1790809    530\n",
       "tt2948356    530\n",
       "            ... \n",
       "tt1798640      1\n",
       "tt6402046      1\n",
       "tt7131678      1\n",
       "tt7547516      1\n",
       "tt1337191      1\n",
       "Name: tconst, Length: 41466, dtype: int64"
      ]
     },
     "execution_count": 42,
     "metadata": {},
     "output_type": "execute_result"
    }
   ],
   "source": [
    "df['tconst'].value_counts()"
   ]
  },
  {
   "cell_type": "code",
   "execution_count": 45,
   "metadata": {
    "ExecuteTime": {
     "end_time": "2021-06-09T03:00:35.843493Z",
     "start_time": "2021-06-09T03:00:28.446080Z"
    }
   },
   "outputs": [
    {
     "name": "stdout",
     "output_type": "stream",
     "text": [
      "DataFrame Shape\n",
      "-------------------------------\n",
      "(1912998, 26)\n",
      "\n",
      "DataFrame Info\n",
      "-------------------------------\n",
      "<class 'pandas.core.frame.DataFrame'>\n",
      "Int64Index: 1912998 entries, 0 to 1912997\n",
      "Data columns (total 26 columns):\n",
      " #   Column             Dtype  \n",
      "---  ------             -----  \n",
      " 0   tconst             object \n",
      " 1   budget             float64\n",
      " 2   gross              float64\n",
      " 3   ww_gross           float64\n",
      " 4   rating             object \n",
      " 5   averagerating      float64\n",
      " 6   numvotes           int64  \n",
      " 7   ordering_x         int64  \n",
      " 8   nconst             object \n",
      " 9   category           object \n",
      " 10  job                object \n",
      " 11  characters         object \n",
      " 12  ordering_y         int64  \n",
      " 13  title              object \n",
      " 14  region             object \n",
      " 15  language           object \n",
      " 16  types              object \n",
      " 17  attributes         object \n",
      " 18  is_original_title  float64\n",
      " 19  directors          object \n",
      " 20  writers            object \n",
      " 21  primary_title      object \n",
      " 22  original_title     object \n",
      " 23  start_year         int64  \n",
      " 24  runtime_minutes    float64\n",
      " 25  genres             object \n",
      "dtypes: float64(6), int64(4), object(16)\n",
      "memory usage: 394.1+ MB\n",
      "None\n",
      "\n",
      "DataFrame Null Values\n",
      "-------------------------------\n",
      "tconst                     0\n",
      "budget                974653\n",
      "gross                1119159\n",
      "ww_gross              481179\n",
      "rating                474031\n",
      "averagerating              0\n",
      "numvotes                   0\n",
      "ordering_x                 0\n",
      "nconst                     0\n",
      "category                   0\n",
      "job                  1339805\n",
      "characters           1144189\n",
      "ordering_y                 0\n",
      "title                      0\n",
      "region                271233\n",
      "language             1639376\n",
      "types                 711227\n",
      "attributes           1816094\n",
      "is_original_title          0\n",
      "directors               2997\n",
      "writers                83286\n",
      "primary_title              0\n",
      "original_title             0\n",
      "start_year                 0\n",
      "runtime_minutes        78776\n",
      "genres                  4198\n",
      "dtype: int64\n"
     ]
    }
   ],
   "source": [
    "df.drop_duplicates()\n",
    "get_info(df)"
   ]
  },
  {
   "cell_type": "code",
   "execution_count": null,
   "metadata": {},
   "outputs": [],
   "source": []
  }
 ],
 "metadata": {
  "kernelspec": {
   "display_name": "Python [conda env:learn-env] *",
   "language": "python",
   "name": "conda-env-learn-env-py"
  },
  "language_info": {
   "codemirror_mode": {
    "name": "ipython",
    "version": 3
   },
   "file_extension": ".py",
   "mimetype": "text/x-python",
   "name": "python",
   "nbconvert_exporter": "python",
   "pygments_lexer": "ipython3",
   "version": "3.7.4"
  },
  "toc": {
   "base_numbering": 1,
   "nav_menu": {},
   "number_sections": true,
   "sideBar": true,
   "skip_h1_title": false,
   "title_cell": "Table of Contents",
   "title_sidebar": "Contents",
   "toc_cell": false,
   "toc_position": {},
   "toc_section_display": true,
   "toc_window_display": true
  }
 },
 "nbformat": 4,
 "nbformat_minor": 2
}
